{
 "cells": [
  {
   "cell_type": "markdown",
   "metadata": {},
   "source": [
    "## **Background Removal using TRACER - State of the Art RGB Salient Object Detector**"
   ]
  },
  {
   "cell_type": "markdown",
   "metadata": {},
   "source": [
    "Created a forked repo of TRACER, and made changes there itself, to output images with segmentation masks applied to the original images rather than just simple binary masks.\n",
    "\n",
    "Dataset Generated: [Background Removed Happywhale Dataset](https://www.kaggle.com/adnanpen/background-removed-happywhale-dataset)\n",
    "\n",
    "Accordingly made changes to code from testing files to remove evaluation part.\n",
    "\n",
    "Dataset used for background removal: [Cropped 512x512](https://www.kaggle.com/phalanx/whale2-cropped-dataset)\n",
    "\n",
    "Original TRACER repo: [TRACER](https://github.com/Karel911/TRACER)\n",
    "\n",
    "My forked TRACER repo: [TRACER](https://github.com/adnan119/TRACER)\n",
    "\n",
    "Files modified include: \n",
    "[trainer.py](https://github.com/adnan119/TRACER/blob/main/trainer.py) \n",
    "[dataloader.py](https://github.com/adnan119/TRACER/blob/main/dataloader.py)\n",
    "[main.py](https://github.com/adnan119/TRACER/blob/main/main.py)"
   ]
  },
  {
   "cell_type": "code",
   "execution_count": null,
   "metadata": {
    "execution": {
     "iopub.execute_input": "2022-03-11T05:18:55.577763Z",
     "iopub.status.busy": "2022-03-11T05:18:55.577182Z",
     "iopub.status.idle": "2022-03-11T05:18:58.001362Z",
     "shell.execute_reply": "2022-03-11T05:18:58.000605Z",
     "shell.execute_reply.started": "2022-03-11T05:18:55.577684Z"
    }
   },
   "outputs": [],
   "source": [
    "!git clone https://github.com/adnan119/TRACER.git"
   ]
  },
  {
   "cell_type": "code",
   "execution_count": null,
   "metadata": {
    "execution": {
     "iopub.execute_input": "2022-03-11T05:18:58.003466Z",
     "iopub.status.busy": "2022-03-11T05:18:58.003251Z",
     "iopub.status.idle": "2022-03-11T05:19:08.68436Z",
     "shell.execute_reply": "2022-03-11T05:19:08.683597Z",
     "shell.execute_reply.started": "2022-03-11T05:18:58.00344Z"
    }
   },
   "outputs": [],
   "source": [
    "!wget https://github.com/Karel911/TRACER/releases/download/v1.0/TRACER-Efficient-7.pth"
   ]
  },
  {
   "cell_type": "code",
   "execution_count": null,
   "metadata": {
    "execution": {
     "iopub.execute_input": "2022-03-11T05:19:08.686414Z",
     "iopub.status.busy": "2022-03-11T05:19:08.686121Z",
     "iopub.status.idle": "2022-03-11T05:19:09.373229Z",
     "shell.execute_reply": "2022-03-11T05:19:09.372314Z",
     "shell.execute_reply.started": "2022-03-11T05:19:08.68636Z"
    }
   },
   "outputs": [],
   "source": [
    "!mv ./TRACER-Efficient-5.pth ./best_model.pth"
   ]
  },
  {
   "cell_type": "code",
   "execution_count": null,
   "metadata": {
    "execution": {
     "iopub.execute_input": "2022-03-11T05:19:09.377514Z",
     "iopub.status.busy": "2022-03-11T05:19:09.376918Z",
     "iopub.status.idle": "2022-03-11T05:19:11.325452Z",
     "shell.execute_reply": "2022-03-11T05:19:11.32456Z",
     "shell.execute_reply.started": "2022-03-11T05:19:09.377478Z"
    }
   },
   "outputs": [],
   "source": [
    "%cd ./TRACER\n",
    "!mkdir ./results/\n",
    "!mkdir ./results/DUTS/\n",
    "!mkdir ./results/DUTS/TE7_0/"
   ]
  },
  {
   "cell_type": "code",
   "execution_count": null,
   "metadata": {
    "execution": {
     "iopub.execute_input": "2022-03-11T05:19:11.329085Z",
     "iopub.status.busy": "2022-03-11T05:19:11.328852Z",
     "iopub.status.idle": "2022-03-11T05:19:12.021734Z",
     "shell.execute_reply": "2022-03-11T05:19:12.020749Z",
     "shell.execute_reply.started": "2022-03-11T05:19:11.329055Z"
    }
   },
   "outputs": [],
   "source": [
    "!mv ../best_model.pth ./results/DUTS/TE7_0/"
   ]
  },
  {
   "cell_type": "markdown",
   "metadata": {},
   "source": [
    "# <h1 style = \"font-family: garamond; font-size: 40px; font-style: normal; letter-spcaing: 3px; background-color: #f6f5f5; color :#fe346e; border-radius: 100px 100px; text-align:center\">Imports </h1>"
   ]
  },
  {
   "cell_type": "code",
   "execution_count": 4,
   "metadata": {
    "execution": {
     "iopub.execute_input": "2022-03-12T10:41:56.083969Z",
     "iopub.status.busy": "2022-03-12T10:41:56.083337Z",
     "iopub.status.idle": "2022-03-12T10:41:57.783389Z",
     "shell.execute_reply": "2022-03-12T10:41:57.782679Z",
     "shell.execute_reply.started": "2022-03-12T10:41:56.083878Z"
    }
   },
   "outputs": [],
   "source": [
    "import os\n",
    "import gc\n",
    "import cv2\n",
    "import math\n",
    "import copy\n",
    "import time\n",
    "import random\n",
    "import warnings\n",
    "import shutil\n",
    "from pathlib import Path\n",
    "\n",
    "#For data manipulation\n",
    "import numpy as np\n",
    "import pandas as pd\n",
    "from PIL import *\n",
    "\n",
    "import torch\n",
    "import torch.nn as nn\n",
    "import torch.nn.functional as F"
   ]
  },
  {
   "cell_type": "markdown",
   "metadata": {},
   "source": [
    "**Segmenting the training set**"
   ]
  },
  {
   "cell_type": "code",
   "execution_count": 1,
   "metadata": {
    "execution": {
     "iopub.execute_input": "2022-03-11T07:24:44.737499Z",
     "iopub.status.busy": "2022-03-11T07:24:44.737216Z",
     "iopub.status.idle": "2022-03-11T10:31:42.112012Z",
     "shell.execute_reply": "2022-03-11T10:31:42.111133Z",
     "shell.execute_reply.started": "2022-03-11T07:24:44.737467Z"
    }
   },
   "outputs": [
    {
     "name": "stdout",
     "output_type": "stream",
     "text": [
      "<---- Training Params ---->\r\n",
      "Namespace(action='test', exp_num='0', dataset='DUTS', data_path='../../input/whale2-cropped-dataset/cropped_train_images/cropped_train_images/', arch='5', channels=[24, 40, 112, 320], RFB_aggregated_channel=[32, 64, 128], frequency_radius=16, denoise=0.93, gamma=0.1, img_size=512, batch_size=16, epochs=100, lr=5e-05, optimizer='Adam', weight_decay=0.0001, criterion='API', scheduler='Reduce', aug_ver=2, lr_factor=0.1, clipping=2, patience=5, model_path='results/', seed=42, save_map=True, multi_gpu=True, num_workers=4)\r\n",
      "Loaded pretrained weights for efficientnet-b5\r\n",
      "Traceback (most recent call last):\r\n",
      "  File \"/Users/reedgarvin/Documents/GitHub/happy-whale/TRACER-main/main.py\", line 50, in <module>\r\n",
      "    main(cfg)\r\n",
      "  File \"/Users/reedgarvin/Documents/GitHub/happy-whale/TRACER-main/main.py\", line 43, in main\r\n",
      "    Tester(cfg, save_path).test()\r\n",
      "  File \"/Users/reedgarvin/Documents/GitHub/happy-whale/TRACER-main/trainer.py\", line 229, in __init__\r\n",
      "    self.model.load_state_dict(torch.load(path))\r\n",
      "  File \"/Users/reedgarvin/Library/r-miniconda/lib/python3.9/site-packages/torch/serialization.py\", line 713, in load\r\n",
      "    return _legacy_load(opened_file, map_location, pickle_module, **pickle_load_args)\r\n",
      "  File \"/Users/reedgarvin/Library/r-miniconda/lib/python3.9/site-packages/torch/serialization.py\", line 920, in _legacy_load\r\n",
      "    magic_number = pickle_module.load(f, **pickle_load_args)\r\n",
      "EOFError: Ran out of input\r\n"
     ]
    }
   ],
   "source": [
    "#segment test images \n",
    "!python main.py test --exp_num 0 --arch 5 --img_size 512 --batch_size 16 --dataset \"DUTS\" --save_map True --data_path ../../input/whale2-cropped-dataset/cropped_train_images/cropped_train_images/"
   ]
  },
  {
   "cell_type": "code",
   "execution_count": null,
   "metadata": {
    "execution": {
     "iopub.execute_input": "2022-03-11T10:31:42.114586Z",
     "iopub.status.busy": "2022-03-11T10:31:42.114284Z",
     "iopub.status.idle": "2022-03-11T10:38:08.731499Z",
     "shell.execute_reply": "2022-03-11T10:38:08.73021Z",
     "shell.execute_reply.started": "2022-03-11T10:31:42.114543Z"
    }
   },
   "outputs": [],
   "source": [
    "#create zipfile \n",
    "shutil.make_archive('./seg_img', 'zip', './seg_img')"
   ]
  },
  {
   "cell_type": "code",
   "execution_count": null,
   "metadata": {
    "execution": {
     "iopub.execute_input": "2022-03-11T10:43:22.421643Z",
     "iopub.status.busy": "2022-03-11T10:43:22.42136Z",
     "iopub.status.idle": "2022-03-11T10:43:23.246517Z",
     "shell.execute_reply": "2022-03-11T10:43:23.245685Z",
     "shell.execute_reply.started": "2022-03-11T10:43:22.421613Z"
    }
   },
   "outputs": [],
   "source": [
    "!ls"
   ]
  },
  {
   "cell_type": "code",
   "execution_count": null,
   "metadata": {
    "execution": {
     "iopub.execute_input": "2022-03-12T10:43:36.097029Z",
     "iopub.status.busy": "2022-03-12T10:43:36.096564Z",
     "iopub.status.idle": "2022-03-12T10:43:36.858061Z",
     "shell.execute_reply": "2022-03-12T10:43:36.857233Z",
     "shell.execute_reply.started": "2022-03-12T10:43:36.096992Z"
    }
   },
   "outputs": [],
   "source": [
    "seg = os.listdir(\"./seg_img/\") # os.listdir(\"../input/background-removed-happywhale-dataset/seg_img\")\n",
    "print(len(seg))"
   ]
  },
  {
   "cell_type": "code",
   "execution_count": null,
   "metadata": {
    "execution": {
     "iopub.execute_input": "2022-03-12T10:43:40.642167Z",
     "iopub.status.busy": "2022-03-12T10:43:40.641605Z",
     "iopub.status.idle": "2022-03-12T10:43:40.648898Z",
     "shell.execute_reply": "2022-03-12T10:43:40.64809Z",
     "shell.execute_reply.started": "2022-03-12T10:43:40.642127Z"
    }
   },
   "outputs": [],
   "source": [
    "img_num = 17009 #sample test image index\n",
    "img_name = Path(seg[img_num]).stem"
   ]
  },
  {
   "cell_type": "code",
   "execution_count": null,
   "metadata": {
    "execution": {
     "iopub.execute_input": "2022-03-12T10:44:10.917324Z",
     "iopub.status.busy": "2022-03-12T10:44:10.916563Z",
     "iopub.status.idle": "2022-03-12T10:44:11.081898Z",
     "shell.execute_reply": "2022-03-12T10:44:11.079506Z",
     "shell.execute_reply.started": "2022-03-12T10:44:10.917277Z"
    }
   },
   "outputs": [],
   "source": [
    "test_dir = '../input/whale2-cropped-dataset/cropped_train_images/cropped_train_images/'\n",
    "pil_tes = Image.open(test_dir + img_name + \".jpg\")\n",
    "display(pil_tes)"
   ]
  },
  {
   "cell_type": "code",
   "execution_count": null,
   "metadata": {
    "execution": {
     "iopub.execute_input": "2022-03-12T10:44:36.731686Z",
     "iopub.status.busy": "2022-03-12T10:44:36.730981Z",
     "iopub.status.idle": "2022-03-12T10:44:36.80393Z",
     "shell.execute_reply": "2022-03-12T10:44:36.803225Z",
     "shell.execute_reply.started": "2022-03-12T10:44:36.731643Z"
    }
   },
   "outputs": [],
   "source": [
    "pil_im = Image.open(\"./seg_img/\" + img_name + \".png\") # Image.open(\"../input/background-removed-happywhale-dataset/seg_img/\" + img_name + \".png\")\n",
    "display(pil_im)"
   ]
  },
  {
   "cell_type": "code",
   "execution_count": null,
   "metadata": {
    "execution": {
     "iopub.execute_input": "2022-03-11T11:10:18.589301Z",
     "iopub.status.busy": "2022-03-11T11:10:18.588611Z",
     "iopub.status.idle": "2022-03-11T11:10:21.228246Z",
     "shell.execute_reply": "2022-03-11T11:10:21.227335Z",
     "shell.execute_reply.started": "2022-03-11T11:10:18.589261Z"
    }
   },
   "outputs": [],
   "source": [
    "!rm -r './seg_img' #remove the folder containing the segmented images for saving the zipfile"
   ]
  },
  {
   "cell_type": "code",
   "execution_count": null,
   "metadata": {},
   "outputs": [],
   "source": []
  }
 ],
 "metadata": {
  "kernelspec": {
   "display_name": "Python 3",
   "language": "python",
   "name": "python3"
  },
  "language_info": {
   "codemirror_mode": {
    "name": "ipython",
    "version": 3
   },
   "file_extension": ".py",
   "mimetype": "text/x-python",
   "name": "python",
   "nbconvert_exporter": "python",
   "pygments_lexer": "ipython3",
   "version": "3.6.9"
  }
 },
 "nbformat": 4,
 "nbformat_minor": 4
}
