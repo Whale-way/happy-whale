{
 "nbformat": 4,
 "nbformat_minor": 0,
 "metadata": {
  "colab": {
   "name": "Background_Removal.ipynb",
   "provenance": []
  },
  "kernelspec": {
   "name": "python3",
   "display_name": "Python 3"
  },
  "language_info": {
   "name": "python"
  },
  "accelerator": "GPU"
 },
 "cells": [
  {
   "cell_type": "markdown",
   "source": [
    "Image Segmentation using U2net model\n",
    "\n",
    "\n",
    "\n",
    " \n",
    "\n",
    "*   Clone Git Hub U2 Net Model \n",
    "*   Importing libraries"
   ],
   "metadata": {
    "id": "ip7LntrvJbDe"
   }
  },
  {
   "cell_type": "markdown",
   "metadata": {
    "colab": {
     "base_uri": "https://localhost:8080/"
    },
    "id": "XUyc9uqVFcpY",
    "outputId": "997e7c1a-c4e5-47b6-d177-47b8ce4f0215",
    "pycharm": {
     "name": "#%% md\n"
    }
   },
   "source": [
    "!git clone https://github.com/shreyas-bk/U-2-Net\n",
    "    \n",
    "import sys\n",
    "sys.path.append('./U-2-Net')\n",
    "\n",
    "import cv2\n",
    "import matplotlib.pyplot as plt\n",
    "import numpy as np\n",
    "import pandas as pd\n",
    "import torch\n",
    "\n",
    "from data_loader import RescaleT\n",
    "from data_loader import ToTensor\n",
    "from data_loader import ToTensorLab\n",
    "from data_loader import SalObjDataset\n",
    "from model import U2NET \n",
    "from model import U2NETP \n",
    "\n",
    "from IPython.display import display\n",
    "from PIL import Image as Img\n",
    "\n",
    "from torchvision import transforms\n",
    "from torch.utils.data import Dataset, DataLoader\n",
    "from torch.autograd import Variable"
   ]
  },
  {
   "cell_type": "markdown",
   "source": [
    "Load cropped set and name it as train_df"
   ],
   "metadata": {
    "id": "VS4TwPm5J7Ek"
   }
  },
  {
   "cell_type": "code",
   "source": [
    "train_df = pd.read_csv(\"../input/happy-whale-and-dolphin/train2.csv\")\n",
    "\n",
    "input_path = \"../input/sample_cropped_train_images\""
   ],
   "metadata": {
    "id": "neqcsbhmI7_V"
   },
   "execution_count": null,
   "outputs": []
  },
  {
   "cell_type": "markdown",
   "source": [
    "Checking the head of data set to make sure it has loaded properly "
   ],
   "metadata": {
    "id": "HDJOlhs4KCfW"
   }
  },
  {
   "cell_type": "code",
   "source": [
    "train_df.individual_id.value_counts().head(10)"
   ],
   "metadata": {
    "id": "5SY-uNIDJGb1"
   },
   "execution_count": null,
   "outputs": []
  },
  {
   "cell_type": "markdown",
   "source": [
    "Calling the image and a random 24 other sample \n",
    "\n"
   ],
   "metadata": {
    "id": "EpHiF9yBKQCY"
   }
  },
  {
   "cell_type": "code",
   "source": [
    "img_to_draw = [ input_path + '/' + file for file in train_df.query(\"individual_id == '281504409737'\").sample(25).image]\n",
    "In [6]:\n",
    "fig, axes = plt.subplots(5, 5, figsize=(20,20))\n",
    "\n",
    "for idx, img in enumerate(img_to_draw):\n",
    "    i = idx % 5 \n",
    "    j = idx // 5\n",
    "    image = Img.open(img)\n",
    "    iar_shp = np.array(image).shape\n",
    "    axes[i, j].axis('off')\n",
    "    axes[i, j].imshow(image)\n",
    "    \n",
    "plt.subplots_adjust(wspace=0.05, hspace=0.05)\n",
    "plt.show()"
   ],
   "metadata": {
    "id": "yeqmfh5iJZYv"
   },
   "execution_count": null,
   "outputs": []
  },
  {
   "cell_type": "markdown",
   "source": [
    ""
   ],
   "metadata": {
    "id": "jwmOp4tYJarQ"
   }
  }
 ]
}