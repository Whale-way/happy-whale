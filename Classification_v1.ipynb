{
  "nbformat": 4,
  "nbformat_minor": 0,
  "metadata": {
    "colab": {
      "name": "Classification_v1.ipynb",
      "provenance": [],
      "include_colab_link": true
    },
    "kernelspec": {
      "name": "python3",
      "display_name": "Python 3"
    },
    "language_info": {
      "name": "python"
    }
  },
  "cells": [
    {
      "cell_type": "markdown",
      "metadata": {
        "id": "view-in-github",
        "colab_type": "text"
      },
      "source": [
        "<a href=\"https://colab.research.google.com/github/Whale-way/happy-whale/blob/Classification/Classification_v1.ipynb\" target=\"_parent\"><img src=\"https://colab.research.google.com/assets/colab-badge.svg\" alt=\"Open In Colab\"/></a>"
      ]
    },
    {
      "cell_type": "markdown",
      "source": [
        "Baseline model for image classification"
      ],
      "metadata": {
        "id": "qXv5-P2jdZKv"
      }
    },
    {
      "cell_type": "markdown",
      "source": [
        "- we use the segmented dataset of: https://www.kaggle.com/datasets/adnanpen/background-removed-happywhale-dataset/code?select=seg_img \n",
        "- Final goal for the output is 5 suggestions for the matching photo-ID (or the suggestion that it is a new animal)\n"
      ],
      "metadata": {
        "id": "cWENjX4cdc_o"
      }
    },
    {
      "cell_type": "markdown",
      "source": [
        "First ideas/thoughts:\n",
        "\n",
        "- clean the csv (misspellings in the species)\n",
        "- get an overview about the number of species and individuals/pictures per individual\n",
        "- try to classify the species first\n",
        "- choose a subset (100) images to build a baseline with SVM sckitlearn\n"
      ],
      "metadata": {
        "id": "S_BOGnOpd1MV"
      }
    },
    {
      "cell_type": "markdown",
      "source": [
        "Prep System / Packages etc.\n"
      ],
      "metadata": {
        "id": "qGguNXhH4fsa"
      }
    },
    {
      "cell_type": "code",
      "source": [
        "import numpy as np\n",
        "import pandas as pd\n",
        "import os"
      ],
      "metadata": {
        "id": "xeyCC-OJ4en5"
      },
      "execution_count": null,
      "outputs": []
    },
    {
      "cell_type": "markdown",
      "source": [
        "Checking out the data "
      ],
      "metadata": {
        "id": "HugOmoid2Exa"
      }
    },
    {
      "cell_type": "code",
      "source": [
        "from google.colab import drive\n",
        "drive.mount('/content/drive')\n"
      ],
      "metadata": {
        "colab": {
          "base_uri": "https://localhost:8080/"
        },
        "id": "Vb_6_4Ag5bta",
        "outputId": "2ebf5aae-af9a-4552-b168-b9f4b1915289"
      },
      "execution_count": null,
      "outputs": [
        {
          "output_type": "stream",
          "name": "stdout",
          "text": [
            "Mounted at /content/drive\n"
          ]
        }
      ]
    },
    {
      "cell_type": "code",
      "source": [
        "datapath = os.path.join(\"drive\", \"Shareddrives\", \"When there's a whale there's a way\", \"input\", \"sample_segmented_images\", \"\")\n"
      ],
      "metadata": {
        "id": "HXF3rXhp5iWn"
      },
      "execution_count": null,
      "outputs": []
    },
    {
      "cell_type": "code",
      "execution_count": null,
      "metadata": {
        "id": "WLTenaHzdVyZ"
      },
      "outputs": [],
      "source": [
        "train_df = pd.read_csv(datapath + \"seg_train_sample_100.csv\", sep = ';')\n"
      ]
    },
    {
      "cell_type": "code",
      "source": [
        "train_df.head(10)"
      ],
      "metadata": {
        "colab": {
          "base_uri": "https://localhost:8080/",
          "height": 359
        },
        "id": "Z4B7WL0P65Vj",
        "outputId": "a2a193fc-cfed-42a3-b51d-431506eebe4b"
      },
      "execution_count": null,
      "outputs": [
        {
          "output_type": "execute_result",
          "data": {
            "text/plain": [
              "                image             species individual_id\n",
              "0  0a572d02a1ed8e.png         minke_whale  0940fc2c3809\n",
              "1  0a0ae8699f1a5a.png              beluga  af02c0601c6e\n",
              "2  0a0cedc8ac6499.png  melon_headed_whale  fa870e1ae82d\n",
              "3  0a0d83708b4fdc.png  bottlenose_dolphin  c2705f9e75c8\n",
              "4  0a0e4b82b9f3ee.png      humpback_whale  02f5c5ee9c2a\n",
              "5  0a0e90fb154acf.png  false_killer_whale  f7bb4f9a9d1a\n",
              "6  0a0f53c069bffc.png     spinner_dolphin  1b9d07e72110\n",
              "7  0a01b620a7915b.png          blue_whale  7c9f2b782eed\n",
              "8  0a1bcf1da2b695.png              beluga  d53bc5d9dbfe\n",
              "9  0a1c741127059b.png  bottlenose_dolphin  a43daee90cbc"
            ],
            "text/html": [
              "\n",
              "  <div id=\"df-673bd109-f153-42b0-a136-80e6e88f36e2\">\n",
              "    <div class=\"colab-df-container\">\n",
              "      <div>\n",
              "<style scoped>\n",
              "    .dataframe tbody tr th:only-of-type {\n",
              "        vertical-align: middle;\n",
              "    }\n",
              "\n",
              "    .dataframe tbody tr th {\n",
              "        vertical-align: top;\n",
              "    }\n",
              "\n",
              "    .dataframe thead th {\n",
              "        text-align: right;\n",
              "    }\n",
              "</style>\n",
              "<table border=\"1\" class=\"dataframe\">\n",
              "  <thead>\n",
              "    <tr style=\"text-align: right;\">\n",
              "      <th></th>\n",
              "      <th>image</th>\n",
              "      <th>species</th>\n",
              "      <th>individual_id</th>\n",
              "    </tr>\n",
              "  </thead>\n",
              "  <tbody>\n",
              "    <tr>\n",
              "      <th>0</th>\n",
              "      <td>0a572d02a1ed8e.png</td>\n",
              "      <td>minke_whale</td>\n",
              "      <td>0940fc2c3809</td>\n",
              "    </tr>\n",
              "    <tr>\n",
              "      <th>1</th>\n",
              "      <td>0a0ae8699f1a5a.png</td>\n",
              "      <td>beluga</td>\n",
              "      <td>af02c0601c6e</td>\n",
              "    </tr>\n",
              "    <tr>\n",
              "      <th>2</th>\n",
              "      <td>0a0cedc8ac6499.png</td>\n",
              "      <td>melon_headed_whale</td>\n",
              "      <td>fa870e1ae82d</td>\n",
              "    </tr>\n",
              "    <tr>\n",
              "      <th>3</th>\n",
              "      <td>0a0d83708b4fdc.png</td>\n",
              "      <td>bottlenose_dolphin</td>\n",
              "      <td>c2705f9e75c8</td>\n",
              "    </tr>\n",
              "    <tr>\n",
              "      <th>4</th>\n",
              "      <td>0a0e4b82b9f3ee.png</td>\n",
              "      <td>humpback_whale</td>\n",
              "      <td>02f5c5ee9c2a</td>\n",
              "    </tr>\n",
              "    <tr>\n",
              "      <th>5</th>\n",
              "      <td>0a0e90fb154acf.png</td>\n",
              "      <td>false_killer_whale</td>\n",
              "      <td>f7bb4f9a9d1a</td>\n",
              "    </tr>\n",
              "    <tr>\n",
              "      <th>6</th>\n",
              "      <td>0a0f53c069bffc.png</td>\n",
              "      <td>spinner_dolphin</td>\n",
              "      <td>1b9d07e72110</td>\n",
              "    </tr>\n",
              "    <tr>\n",
              "      <th>7</th>\n",
              "      <td>0a01b620a7915b.png</td>\n",
              "      <td>blue_whale</td>\n",
              "      <td>7c9f2b782eed</td>\n",
              "    </tr>\n",
              "    <tr>\n",
              "      <th>8</th>\n",
              "      <td>0a1bcf1da2b695.png</td>\n",
              "      <td>beluga</td>\n",
              "      <td>d53bc5d9dbfe</td>\n",
              "    </tr>\n",
              "    <tr>\n",
              "      <th>9</th>\n",
              "      <td>0a1c741127059b.png</td>\n",
              "      <td>bottlenose_dolphin</td>\n",
              "      <td>a43daee90cbc</td>\n",
              "    </tr>\n",
              "  </tbody>\n",
              "</table>\n",
              "</div>\n",
              "      <button class=\"colab-df-convert\" onclick=\"convertToInteractive('df-673bd109-f153-42b0-a136-80e6e88f36e2')\"\n",
              "              title=\"Convert this dataframe to an interactive table.\"\n",
              "              style=\"display:none;\">\n",
              "        \n",
              "  <svg xmlns=\"http://www.w3.org/2000/svg\" height=\"24px\"viewBox=\"0 0 24 24\"\n",
              "       width=\"24px\">\n",
              "    <path d=\"M0 0h24v24H0V0z\" fill=\"none\"/>\n",
              "    <path d=\"M18.56 5.44l.94 2.06.94-2.06 2.06-.94-2.06-.94-.94-2.06-.94 2.06-2.06.94zm-11 1L8.5 8.5l.94-2.06 2.06-.94-2.06-.94L8.5 2.5l-.94 2.06-2.06.94zm10 10l.94 2.06.94-2.06 2.06-.94-2.06-.94-.94-2.06-.94 2.06-2.06.94z\"/><path d=\"M17.41 7.96l-1.37-1.37c-.4-.4-.92-.59-1.43-.59-.52 0-1.04.2-1.43.59L10.3 9.45l-7.72 7.72c-.78.78-.78 2.05 0 2.83L4 21.41c.39.39.9.59 1.41.59.51 0 1.02-.2 1.41-.59l7.78-7.78 2.81-2.81c.8-.78.8-2.07 0-2.86zM5.41 20L4 18.59l7.72-7.72 1.47 1.35L5.41 20z\"/>\n",
              "  </svg>\n",
              "      </button>\n",
              "      \n",
              "  <style>\n",
              "    .colab-df-container {\n",
              "      display:flex;\n",
              "      flex-wrap:wrap;\n",
              "      gap: 12px;\n",
              "    }\n",
              "\n",
              "    .colab-df-convert {\n",
              "      background-color: #E8F0FE;\n",
              "      border: none;\n",
              "      border-radius: 50%;\n",
              "      cursor: pointer;\n",
              "      display: none;\n",
              "      fill: #1967D2;\n",
              "      height: 32px;\n",
              "      padding: 0 0 0 0;\n",
              "      width: 32px;\n",
              "    }\n",
              "\n",
              "    .colab-df-convert:hover {\n",
              "      background-color: #E2EBFA;\n",
              "      box-shadow: 0px 1px 2px rgba(60, 64, 67, 0.3), 0px 1px 3px 1px rgba(60, 64, 67, 0.15);\n",
              "      fill: #174EA6;\n",
              "    }\n",
              "\n",
              "    [theme=dark] .colab-df-convert {\n",
              "      background-color: #3B4455;\n",
              "      fill: #D2E3FC;\n",
              "    }\n",
              "\n",
              "    [theme=dark] .colab-df-convert:hover {\n",
              "      background-color: #434B5C;\n",
              "      box-shadow: 0px 1px 3px 1px rgba(0, 0, 0, 0.15);\n",
              "      filter: drop-shadow(0px 1px 2px rgba(0, 0, 0, 0.3));\n",
              "      fill: #FFFFFF;\n",
              "    }\n",
              "  </style>\n",
              "\n",
              "      <script>\n",
              "        const buttonEl =\n",
              "          document.querySelector('#df-673bd109-f153-42b0-a136-80e6e88f36e2 button.colab-df-convert');\n",
              "        buttonEl.style.display =\n",
              "          google.colab.kernel.accessAllowed ? 'block' : 'none';\n",
              "\n",
              "        async function convertToInteractive(key) {\n",
              "          const element = document.querySelector('#df-673bd109-f153-42b0-a136-80e6e88f36e2');\n",
              "          const dataTable =\n",
              "            await google.colab.kernel.invokeFunction('convertToInteractive',\n",
              "                                                     [key], {});\n",
              "          if (!dataTable) return;\n",
              "\n",
              "          const docLinkHtml = 'Like what you see? Visit the ' +\n",
              "            '<a target=\"_blank\" href=https://colab.research.google.com/notebooks/data_table.ipynb>data table notebook</a>'\n",
              "            + ' to learn more about interactive tables.';\n",
              "          element.innerHTML = '';\n",
              "          dataTable['output_type'] = 'display_data';\n",
              "          await google.colab.output.renderOutput(dataTable, element);\n",
              "          const docLink = document.createElement('div');\n",
              "          docLink.innerHTML = docLinkHtml;\n",
              "          element.appendChild(docLink);\n",
              "        }\n",
              "      </script>\n",
              "    </div>\n",
              "  </div>\n",
              "  "
            ]
          },
          "metadata": {},
          "execution_count": 10
        }
      ]
    },
    {
      "cell_type": "markdown",
      "source": [
        "--> i didn't fint out yet, what the new column (box) is about..."
      ],
      "metadata": {
        "id": "ava4n9w7EqTC"
      }
    },
    {
      "cell_type": "code",
      "source": [
        "train_df['species']. value_counts()"
      ],
      "metadata": {
        "colab": {
          "base_uri": "https://localhost:8080/"
        },
        "id": "05TR4tGO9Bcn",
        "outputId": "b898aae1-b737-46cc-9582-209ea7c5f183"
      },
      "execution_count": null,
      "outputs": [
        {
          "output_type": "execute_result",
          "data": {
            "text/plain": [
              "beluga                       20\n",
              "bottlenose_dolphin           17\n",
              "humpback_whale               16\n",
              "blue_whale                    7\n",
              "spinner_dolphin               6\n",
              "minke_whale                   4\n",
              "false_killer_whale            4\n",
              "kiler_whale                   3\n",
              "melon_headed_whale            3\n",
              "bottlenose_dolpin             2\n",
              "long_finned_pilot_whale       2\n",
              "common_dolphin                2\n",
              "dusky_dolphin                 2\n",
              "short_finned_pilot_whale      2\n",
              "fin_whale                     2\n",
              "pantropic_spotted_dolphin     1\n",
              "killer_whale                  1\n",
              "cuviers_beaked_whale          1\n",
              "southern_right_whale          1\n",
              "gray_whale                    1\n",
              "spotted_dolphin               1\n",
              "pilot_whale                   1\n",
              "pygmy_killer_whale            1\n",
              "Name: species, dtype: int64"
            ]
          },
          "metadata": {},
          "execution_count": 11
        }
      ]
    },
    {
      "cell_type": "markdown",
      "source": [
        "we have some typos in the species:\n",
        "- but we have bottlenose_dolphin and bottlenose_dolpin, kiler_whale and killer_whale. Obviously, it is typos. Also, globis and pilot_whale are short_finned_pilot_whale\n",
        "\n",
        "--> correct the labels"
      ],
      "metadata": {
        "id": "7J9WSNwV9LXd"
      }
    },
    {
      "cell_type": "code",
      "source": [
        "train_df.species.replace({\"globis\": \"short_finned_pilot_whale\",\n",
        "                          \"pilot_whale\": \"short_finned_pilot_whale\",\n",
        "                          \"kiler_whale\": \"killer_whale\",\n",
        "                          \"bottlenose_dolpin\": \"bottlenose_dolphin\"}, inplace=True)"
      ],
      "metadata": {
        "id": "DxACnpSm-O05"
      },
      "execution_count": null,
      "outputs": []
    },
    {
      "cell_type": "code",
      "source": [
        "train_df['species']. value_counts()"
      ],
      "metadata": {
        "colab": {
          "base_uri": "https://localhost:8080/"
        },
        "id": "rDrBxSWP-gJE",
        "outputId": "2a08544f-3149-46a1-8b34-85bba133dc17"
      },
      "execution_count": null,
      "outputs": [
        {
          "output_type": "execute_result",
          "data": {
            "text/plain": [
              "beluga                       20\n",
              "bottlenose_dolphin           19\n",
              "humpback_whale               16\n",
              "blue_whale                    7\n",
              "spinner_dolphin               6\n",
              "minke_whale                   4\n",
              "killer_whale                  4\n",
              "false_killer_whale            4\n",
              "melon_headed_whale            3\n",
              "short_finned_pilot_whale      3\n",
              "long_finned_pilot_whale       2\n",
              "common_dolphin                2\n",
              "dusky_dolphin                 2\n",
              "fin_whale                     2\n",
              "pantropic_spotted_dolphin     1\n",
              "cuviers_beaked_whale          1\n",
              "southern_right_whale          1\n",
              "gray_whale                    1\n",
              "spotted_dolphin               1\n",
              "pygmy_killer_whale            1\n",
              "Name: species, dtype: int64"
            ]
          },
          "metadata": {},
          "execution_count": 13
        }
      ]
    },
    {
      "cell_type": "markdown",
      "source": [
        ""
      ],
      "metadata": {
        "id": "Hvg3tb7VBoQ2"
      }
    }
  ]
}