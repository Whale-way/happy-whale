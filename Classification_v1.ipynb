{
  "nbformat": 4,
  "nbformat_minor": 0,
  "metadata": {
    "colab": {
      "name": "Classification_v1.ipynb",
      "provenance": [],
      "include_colab_link": true
    },
    "kernelspec": {
      "name": "python3",
      "display_name": "Python 3"
    },
    "language_info": {
      "name": "python"
    }
  },
  "cells": [
    {
      "cell_type": "markdown",
      "metadata": {
        "id": "view-in-github",
        "colab_type": "text"
      },
      "source": [
        "<a href=\"https://colab.research.google.com/github/Whale-way/happy-whale/blob/Classification/Classification_v1.ipynb\" target=\"_parent\"><img src=\"https://colab.research.google.com/assets/colab-badge.svg\" alt=\"Open In Colab\"/></a>"
      ]
    },
    {
      "cell_type": "markdown",
      "source": [
        "Baseline model for image classification"
      ],
      "metadata": {
        "id": "qXv5-P2jdZKv"
      }
    },
    {
      "cell_type": "markdown",
      "source": [
        "- we use the segmented dataset of: https://www.kaggle.com/datasets/adnanpen/background-removed-happywhale-dataset/code?select=seg_img \n",
        "- Final goal for the output is 5 suggestions for the matching photo-ID (or the suggestion that it is a new animal)\n"
      ],
      "metadata": {
        "id": "cWENjX4cdc_o"
      }
    },
    {
      "cell_type": "markdown",
      "source": [
        "First ideas/thoughts:\n",
        "\n",
        "- clean the csv (misspellings in the species)\n",
        "- get an overview about the number of species and individuals/pictures per individual\n",
        "- try to classify the species first\n",
        "- choose a subset (100) images to build a baseline with SVM sckitlearn\n"
      ],
      "metadata": {
        "id": "S_BOGnOpd1MV"
      }
    },
    {
      "cell_type": "markdown",
      "source": [
        "Prep System / Packages etc.\n"
      ],
      "metadata": {
        "id": "qGguNXhH4fsa"
      }
    },
    {
      "cell_type": "code",
      "source": [
        "import numpy as np\n",
        "import pandas as pd\n",
        "import os"
      ],
      "metadata": {
        "id": "xeyCC-OJ4en5"
      },
      "execution_count": null,
      "outputs": []
    },
    {
      "cell_type": "markdown",
      "source": [
        "Checking out the data "
      ],
      "metadata": {
        "id": "HugOmoid2Exa"
      }
    },
    {
      "cell_type": "code",
      "source": [
        "from google.colab import drive\n",
        "drive.mount('/content/drive')\n"
      ],
      "metadata": {
        "colab": {
          "base_uri": "https://localhost:8080/"
        },
        "id": "Vb_6_4Ag5bta",
        "outputId": "d693edac-c0bc-4c4d-ca77-f9a811d52c33"
      },
      "execution_count": null,
      "outputs": [
        {
          "output_type": "stream",
          "name": "stdout",
          "text": [
            "Drive already mounted at /content/drive; to attempt to forcibly remount, call drive.mount(\"/content/drive\", force_remount=True).\n"
          ]
        }
      ]
    },
    {
      "cell_type": "code",
      "source": [
        "datapath = os.path.join(\"drive\", \"Shareddrives\", \"When there's a whale there's a way\", \"input\", \"sample_segmented_images\", \"\")\n"
      ],
      "metadata": {
        "id": "HXF3rXhp5iWn"
      },
      "execution_count": null,
      "outputs": []
    },
    {
      "cell_type": "code",
      "execution_count": null,
      "metadata": {
        "id": "WLTenaHzdVyZ"
      },
      "outputs": [],
      "source": [
        "train_df = pd.read_csv(datapath + \"seg_train.csv\")\n"
      ]
    },
    {
      "cell_type": "code",
      "source": [
        "train_df.head(10)"
      ],
      "metadata": {
        "colab": {
          "base_uri": "https://localhost:8080/",
          "height": 363
        },
        "id": "Z4B7WL0P65Vj",
        "outputId": "5b0313e7-3dcb-4dc7-afd3-63236262be9d"
      },
      "execution_count": null,
      "outputs": [
        {
          "output_type": "execute_result",
          "data": {
            "text/plain": [
              "                image             species individual_id                  box\n",
              "0  00021adfb725ed.jpg  melon_headed_whale  cadddb1636b9        2 116 802 665\n",
              "1  000562241d384d.jpg      humpback_whale  1a71fbb72250    588 597 3504 1477\n",
              "2  0007c33415ce37.jpg  false_killer_whale  60008f293a2b      0 453 3183 1589\n",
              "3  0007d9bca26a99.jpg  bottlenose_dolphin  4b00fe572063       1 91 2636 1495\n",
              "4  00087baf5cef7a.jpg      humpback_whale  8e5253662392  1139 1590 3574 1913\n",
              "5  000a8f2d5c316a.jpg  bottlenose_dolphin  b9907151f66e    259 443 2053 1068\n",
              "6  000be9acf46619.jpg              beluga  afb9b3978217                  NaN\n",
              "7  000bef247c7a42.jpg      humpback_whale  444d8894ccc8    22 1264 2702 1536\n",
              "8  000c3d63069748.jpg              beluga  df94b15285b9        42 52 444 154\n",
              "9  000c476c11bad5.jpg  bottlenose_dolphin  b11b2404c7e3   1234 696 2257 1210"
            ],
            "text/html": [
              "\n",
              "  <div id=\"df-9d335b09-9007-4e38-8e2e-3b44fea8e75d\">\n",
              "    <div class=\"colab-df-container\">\n",
              "      <div>\n",
              "<style scoped>\n",
              "    .dataframe tbody tr th:only-of-type {\n",
              "        vertical-align: middle;\n",
              "    }\n",
              "\n",
              "    .dataframe tbody tr th {\n",
              "        vertical-align: top;\n",
              "    }\n",
              "\n",
              "    .dataframe thead th {\n",
              "        text-align: right;\n",
              "    }\n",
              "</style>\n",
              "<table border=\"1\" class=\"dataframe\">\n",
              "  <thead>\n",
              "    <tr style=\"text-align: right;\">\n",
              "      <th></th>\n",
              "      <th>image</th>\n",
              "      <th>species</th>\n",
              "      <th>individual_id</th>\n",
              "      <th>box</th>\n",
              "    </tr>\n",
              "  </thead>\n",
              "  <tbody>\n",
              "    <tr>\n",
              "      <th>0</th>\n",
              "      <td>00021adfb725ed.jpg</td>\n",
              "      <td>melon_headed_whale</td>\n",
              "      <td>cadddb1636b9</td>\n",
              "      <td>2 116 802 665</td>\n",
              "    </tr>\n",
              "    <tr>\n",
              "      <th>1</th>\n",
              "      <td>000562241d384d.jpg</td>\n",
              "      <td>humpback_whale</td>\n",
              "      <td>1a71fbb72250</td>\n",
              "      <td>588 597 3504 1477</td>\n",
              "    </tr>\n",
              "    <tr>\n",
              "      <th>2</th>\n",
              "      <td>0007c33415ce37.jpg</td>\n",
              "      <td>false_killer_whale</td>\n",
              "      <td>60008f293a2b</td>\n",
              "      <td>0 453 3183 1589</td>\n",
              "    </tr>\n",
              "    <tr>\n",
              "      <th>3</th>\n",
              "      <td>0007d9bca26a99.jpg</td>\n",
              "      <td>bottlenose_dolphin</td>\n",
              "      <td>4b00fe572063</td>\n",
              "      <td>1 91 2636 1495</td>\n",
              "    </tr>\n",
              "    <tr>\n",
              "      <th>4</th>\n",
              "      <td>00087baf5cef7a.jpg</td>\n",
              "      <td>humpback_whale</td>\n",
              "      <td>8e5253662392</td>\n",
              "      <td>1139 1590 3574 1913</td>\n",
              "    </tr>\n",
              "    <tr>\n",
              "      <th>5</th>\n",
              "      <td>000a8f2d5c316a.jpg</td>\n",
              "      <td>bottlenose_dolphin</td>\n",
              "      <td>b9907151f66e</td>\n",
              "      <td>259 443 2053 1068</td>\n",
              "    </tr>\n",
              "    <tr>\n",
              "      <th>6</th>\n",
              "      <td>000be9acf46619.jpg</td>\n",
              "      <td>beluga</td>\n",
              "      <td>afb9b3978217</td>\n",
              "      <td>NaN</td>\n",
              "    </tr>\n",
              "    <tr>\n",
              "      <th>7</th>\n",
              "      <td>000bef247c7a42.jpg</td>\n",
              "      <td>humpback_whale</td>\n",
              "      <td>444d8894ccc8</td>\n",
              "      <td>22 1264 2702 1536</td>\n",
              "    </tr>\n",
              "    <tr>\n",
              "      <th>8</th>\n",
              "      <td>000c3d63069748.jpg</td>\n",
              "      <td>beluga</td>\n",
              "      <td>df94b15285b9</td>\n",
              "      <td>42 52 444 154</td>\n",
              "    </tr>\n",
              "    <tr>\n",
              "      <th>9</th>\n",
              "      <td>000c476c11bad5.jpg</td>\n",
              "      <td>bottlenose_dolphin</td>\n",
              "      <td>b11b2404c7e3</td>\n",
              "      <td>1234 696 2257 1210</td>\n",
              "    </tr>\n",
              "  </tbody>\n",
              "</table>\n",
              "</div>\n",
              "      <button class=\"colab-df-convert\" onclick=\"convertToInteractive('df-9d335b09-9007-4e38-8e2e-3b44fea8e75d')\"\n",
              "              title=\"Convert this dataframe to an interactive table.\"\n",
              "              style=\"display:none;\">\n",
              "        \n",
              "  <svg xmlns=\"http://www.w3.org/2000/svg\" height=\"24px\"viewBox=\"0 0 24 24\"\n",
              "       width=\"24px\">\n",
              "    <path d=\"M0 0h24v24H0V0z\" fill=\"none\"/>\n",
              "    <path d=\"M18.56 5.44l.94 2.06.94-2.06 2.06-.94-2.06-.94-.94-2.06-.94 2.06-2.06.94zm-11 1L8.5 8.5l.94-2.06 2.06-.94-2.06-.94L8.5 2.5l-.94 2.06-2.06.94zm10 10l.94 2.06.94-2.06 2.06-.94-2.06-.94-.94-2.06-.94 2.06-2.06.94z\"/><path d=\"M17.41 7.96l-1.37-1.37c-.4-.4-.92-.59-1.43-.59-.52 0-1.04.2-1.43.59L10.3 9.45l-7.72 7.72c-.78.78-.78 2.05 0 2.83L4 21.41c.39.39.9.59 1.41.59.51 0 1.02-.2 1.41-.59l7.78-7.78 2.81-2.81c.8-.78.8-2.07 0-2.86zM5.41 20L4 18.59l7.72-7.72 1.47 1.35L5.41 20z\"/>\n",
              "  </svg>\n",
              "      </button>\n",
              "      \n",
              "  <style>\n",
              "    .colab-df-container {\n",
              "      display:flex;\n",
              "      flex-wrap:wrap;\n",
              "      gap: 12px;\n",
              "    }\n",
              "\n",
              "    .colab-df-convert {\n",
              "      background-color: #E8F0FE;\n",
              "      border: none;\n",
              "      border-radius: 50%;\n",
              "      cursor: pointer;\n",
              "      display: none;\n",
              "      fill: #1967D2;\n",
              "      height: 32px;\n",
              "      padding: 0 0 0 0;\n",
              "      width: 32px;\n",
              "    }\n",
              "\n",
              "    .colab-df-convert:hover {\n",
              "      background-color: #E2EBFA;\n",
              "      box-shadow: 0px 1px 2px rgba(60, 64, 67, 0.3), 0px 1px 3px 1px rgba(60, 64, 67, 0.15);\n",
              "      fill: #174EA6;\n",
              "    }\n",
              "\n",
              "    [theme=dark] .colab-df-convert {\n",
              "      background-color: #3B4455;\n",
              "      fill: #D2E3FC;\n",
              "    }\n",
              "\n",
              "    [theme=dark] .colab-df-convert:hover {\n",
              "      background-color: #434B5C;\n",
              "      box-shadow: 0px 1px 3px 1px rgba(0, 0, 0, 0.15);\n",
              "      filter: drop-shadow(0px 1px 2px rgba(0, 0, 0, 0.3));\n",
              "      fill: #FFFFFF;\n",
              "    }\n",
              "  </style>\n",
              "\n",
              "      <script>\n",
              "        const buttonEl =\n",
              "          document.querySelector('#df-9d335b09-9007-4e38-8e2e-3b44fea8e75d button.colab-df-convert');\n",
              "        buttonEl.style.display =\n",
              "          google.colab.kernel.accessAllowed ? 'block' : 'none';\n",
              "\n",
              "        async function convertToInteractive(key) {\n",
              "          const element = document.querySelector('#df-9d335b09-9007-4e38-8e2e-3b44fea8e75d');\n",
              "          const dataTable =\n",
              "            await google.colab.kernel.invokeFunction('convertToInteractive',\n",
              "                                                     [key], {});\n",
              "          if (!dataTable) return;\n",
              "\n",
              "          const docLinkHtml = 'Like what you see? Visit the ' +\n",
              "            '<a target=\"_blank\" href=https://colab.research.google.com/notebooks/data_table.ipynb>data table notebook</a>'\n",
              "            + ' to learn more about interactive tables.';\n",
              "          element.innerHTML = '';\n",
              "          dataTable['output_type'] = 'display_data';\n",
              "          await google.colab.output.renderOutput(dataTable, element);\n",
              "          const docLink = document.createElement('div');\n",
              "          docLink.innerHTML = docLinkHtml;\n",
              "          element.appendChild(docLink);\n",
              "        }\n",
              "      </script>\n",
              "    </div>\n",
              "  </div>\n",
              "  "
            ]
          },
          "metadata": {},
          "execution_count": 18
        }
      ]
    },
    {
      "cell_type": "markdown",
      "source": [
        "--> i didn't fint out yet, what the new column (box) is about..."
      ],
      "metadata": {
        "id": "ava4n9w7EqTC"
      }
    },
    {
      "cell_type": "code",
      "source": [
        "train_df['species']. value_counts()"
      ],
      "metadata": {
        "colab": {
          "base_uri": "https://localhost:8080/"
        },
        "id": "05TR4tGO9Bcn",
        "outputId": "f181f46e-8201-4ed7-b448-2b929c036792"
      },
      "execution_count": null,
      "outputs": [
        {
          "output_type": "execute_result",
          "data": {
            "text/plain": [
              "bottlenose_dolphin           9664\n",
              "beluga                       7443\n",
              "humpback_whale               7392\n",
              "blue_whale                   4830\n",
              "false_killer_whale           3326\n",
              "dusky_dolphin                3139\n",
              "spinner_dolphin              1700\n",
              "melon_headed_whale           1689\n",
              "minke_whale                  1608\n",
              "killer_whale                 1493\n",
              "fin_whale                    1324\n",
              "gray_whale                   1123\n",
              "bottlenose_dolpin            1117\n",
              "kiler_whale                   962\n",
              "southern_right_whale          866\n",
              "spotted_dolphin               490\n",
              "sei_whale                     428\n",
              "short_finned_pilot_whale      367\n",
              "common_dolphin                347\n",
              "cuviers_beaked_whale          341\n",
              "pilot_whale                   262\n",
              "long_finned_pilot_whale       238\n",
              "white_sided_dolphin           229\n",
              "brydes_whale                  154\n",
              "pantropic_spotted_dolphin     145\n",
              "globis                        116\n",
              "commersons_dolphin             90\n",
              "pygmy_killer_whale             76\n",
              "rough_toothed_dolphin          60\n",
              "frasiers_dolphin               14\n",
              "Name: species, dtype: int64"
            ]
          },
          "metadata": {},
          "execution_count": 14
        }
      ]
    },
    {
      "cell_type": "markdown",
      "source": [
        "we have some typos in the species:\n",
        "- but we have bottlenose_dolphin and bottlenose_dolpin, kiler_whale and killer_whale. Obviously, it is typos. Also, globis and pilot_whale are short_finned_pilot_whale\n",
        "\n",
        "--> correct the labels"
      ],
      "metadata": {
        "id": "7J9WSNwV9LXd"
      }
    },
    {
      "cell_type": "code",
      "source": [
        "train_df.species.replace({\"globis\": \"short_finned_pilot_whale\",\n",
        "                          \"pilot_whale\": \"short_finned_pilot_whale\",\n",
        "                          \"kiler_whale\": \"killer_whale\",\n",
        "                          \"bottlenose_dolpin\": \"bottlenose_dolphin\"}, inplace=True)"
      ],
      "metadata": {
        "id": "DxACnpSm-O05"
      },
      "execution_count": null,
      "outputs": []
    },
    {
      "cell_type": "code",
      "source": [
        "train_df['species']. value_counts()"
      ],
      "metadata": {
        "colab": {
          "base_uri": "https://localhost:8080/"
        },
        "id": "rDrBxSWP-gJE",
        "outputId": "69af0bb6-906c-4264-ab03-7a782b53b67b"
      },
      "execution_count": null,
      "outputs": [
        {
          "output_type": "execute_result",
          "data": {
            "text/plain": [
              "bottlenose_dolphin           10781\n",
              "beluga                        7443\n",
              "humpback_whale                7392\n",
              "blue_whale                    4830\n",
              "false_killer_whale            3326\n",
              "dusky_dolphin                 3139\n",
              "killer_whale                  2455\n",
              "spinner_dolphin               1700\n",
              "melon_headed_whale            1689\n",
              "minke_whale                   1608\n",
              "fin_whale                     1324\n",
              "gray_whale                    1123\n",
              "southern_right_whale           866\n",
              "short_finned_pilot_whale       745\n",
              "spotted_dolphin                490\n",
              "sei_whale                      428\n",
              "common_dolphin                 347\n",
              "cuviers_beaked_whale           341\n",
              "long_finned_pilot_whale        238\n",
              "white_sided_dolphin            229\n",
              "brydes_whale                   154\n",
              "pantropic_spotted_dolphin      145\n",
              "commersons_dolphin              90\n",
              "pygmy_killer_whale              76\n",
              "rough_toothed_dolphin           60\n",
              "frasiers_dolphin                14\n",
              "Name: species, dtype: int64"
            ]
          },
          "metadata": {},
          "execution_count": 16
        }
      ]
    },
    {
      "cell_type": "markdown",
      "source": [
        ""
      ],
      "metadata": {
        "id": "Hvg3tb7VBoQ2"
      }
    }
  ]
}