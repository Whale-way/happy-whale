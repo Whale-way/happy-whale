{
 "cells": [
  {
   "cell_type": "code",
   "execution_count": null,
   "id": "c347d47a",
   "metadata": {},
   "outputs": [],
   "source": [
    "# Notebook to transform segmented images into np array and clean CSV"
   ]
  },
  {
   "cell_type": "code",
   "execution_count": null,
   "id": "2d035bef",
   "metadata": {},
   "outputs": [],
   "source": []
  },
  {
   "cell_type": "code",
   "execution_count": 29,
   "id": "ce361d19",
   "metadata": {},
   "outputs": [],
   "source": [
    "# Python ≥3.5 is required\n",
    "\n",
    "import sys\n",
    "assert sys.version_info >= (3, 5)\n",
    "\n",
    "import random\n",
    "import numpy as np\n",
    "import pandas as pd\n",
    "import os\n",
    "\n",
    "import matplotlib.image as mpimg\n",
    "\n",
    "from os import listdir\n",
    "from os.path import isfile, join\n",
    "import re\n",
    "\n",
    "from PIL import Image as PIL_Image\n",
    "import timeit\n",
    "\n",
    "\n",
    "\n",
    "\n",
    "# To plot pretty figures\n",
    "%matplotlib inline\n",
    "import matplotlib as mpl\n",
    "import matplotlib.pyplot as plt\n",
    "mpl.rc('axes', labelsize=14)\n",
    "mpl.rc('xtick', labelsize=12)\n",
    "mpl.rc('ytick', labelsize=12)"
   ]
  },
  {
   "cell_type": "code",
   "execution_count": 2,
   "id": "f0be5262",
   "metadata": {},
   "outputs": [],
   "source": [
    "# Specifying paths for output"
   ]
  },
  {
   "cell_type": "code",
   "execution_count": 3,
   "id": "7e246c11",
   "metadata": {},
   "outputs": [],
   "source": [
    "# Where to save the figures from pre-processing\n",
    "\n",
    "PROJECT_ROOT_DIR = \"output\"\n",
    "CHAPTER_ID = \"segmentation\"\n",
    "\n",
    "IMAGES_PATH = os.path.join(PROJECT_ROOT_DIR, \"figures\", CHAPTER_ID)\n",
    "os.makedirs(IMAGES_PATH, exist_ok=True)\n",
    "\n",
    "def save_fig(fig_id, tight_layout=True, fig_extension=\"png\", resolution=300):\n",
    "    path = os.path.join(IMAGES_PATH, fig_id + \".\" + fig_extension)\n",
    "    print(\"Saving figure\", fig_id)\n",
    "    if tight_layout:\n",
    "        plt.tight_layout()\n",
    "    plt.savefig(path, format=fig_extension, dpi=resolution)"
   ]
  },
  {
   "cell_type": "code",
   "execution_count": 4,
   "id": "53669314",
   "metadata": {},
   "outputs": [],
   "source": [
    "# Specifying paths and switch for image data"
   ]
  },
  {
   "cell_type": "code",
   "execution_count": 33,
   "id": "21f003d9",
   "metadata": {},
   "outputs": [],
   "source": [
    "# Implement a switch between dummy and full image data\n",
    "full_data_switch_on = False # if the full data set should be used, this switch need to be set to true"
   ]
  },
  {
   "cell_type": "code",
   "execution_count": null,
   "id": "2fa51ccf",
   "metadata": {},
   "outputs": [],
   "source": [
    "#train_switch = True  # Set False for Test\n",
    "# je nachdem ob wir ein test-csv bekommen, müssen wir das train_set selber in test&train splitten\n"
   ]
  },
  {
   "cell_type": "code",
   "execution_count": 34,
   "id": "d08a8e84",
   "metadata": {},
   "outputs": [],
   "source": [
    "if full_data_switch_on == False:\n",
    "    #set path to sample data set\n",
    "    ROOT_PATH_DATA = \"input/\"\n",
    "    PATH_DATA_TRAIN = os.path.join(ROOT_PATH_DATA + \"03_segmented/train/sample_segmented_images/seg_train_sample_100\")\n",
    "    LABEL_DATA_PATH = os.path.join(ROOT_PATH_DATA + \"01_raw/train_sample_100.csv\")\n",
    "elif full_data_switch_on == True:\n",
    "    #set path to the full data set\n",
    "    ROOT_PATH_DATA = \"input/\"\n",
    "    PATH_DATA_TRAIN = os.path.join(ROOT_PATH_DATA + \"03_segmented/train/full_set_segmented_images\")\n",
    "    PATH_DATA_TEST = os.path.join(ROOT_PATH_DATA + \"03_segmented/test/full_set_segmented_images\") \n",
    "    LABEL_DATA_PATH = os.path.join(ROOT_PATH_DATA + \"01_raw/train.csv\")\n",
    "    #csv for test not available yet \n",
    "else:\n",
    "    raise ValueError(\"Full data switch is not correctly defined\")"
   ]
  },
  {
   "cell_type": "code",
   "execution_count": 7,
   "id": "bfbe7d84",
   "metadata": {},
   "outputs": [],
   "source": [
    "## Getting an overview of the data - checking out CSV"
   ]
  },
  {
   "cell_type": "code",
   "execution_count": 23,
   "id": "ade1fc52",
   "metadata": {},
   "outputs": [],
   "source": [
    "label_train_df = pd.read_csv(LABEL_DATA_PATH, sep = ',') #NOTE: separation is different between raw csv and segmented csv"
   ]
  },
  {
   "cell_type": "code",
   "execution_count": 24,
   "id": "2e4239c7",
   "metadata": {},
   "outputs": [
    {
     "data": {
      "text/html": [
       "<div>\n",
       "<style scoped>\n",
       "    .dataframe tbody tr th:only-of-type {\n",
       "        vertical-align: middle;\n",
       "    }\n",
       "\n",
       "    .dataframe tbody tr th {\n",
       "        vertical-align: top;\n",
       "    }\n",
       "\n",
       "    .dataframe thead th {\n",
       "        text-align: right;\n",
       "    }\n",
       "</style>\n",
       "<table border=\"1\" class=\"dataframe\">\n",
       "  <thead>\n",
       "    <tr style=\"text-align: right;\">\n",
       "      <th></th>\n",
       "      <th>image</th>\n",
       "      <th>species</th>\n",
       "      <th>individual_id</th>\n",
       "    </tr>\n",
       "  </thead>\n",
       "  <tbody>\n",
       "    <tr>\n",
       "      <th>0</th>\n",
       "      <td>00021adfb725ed.jpg</td>\n",
       "      <td>melon_headed_whale</td>\n",
       "      <td>cadddb1636b9</td>\n",
       "    </tr>\n",
       "    <tr>\n",
       "      <th>1</th>\n",
       "      <td>000562241d384d.jpg</td>\n",
       "      <td>humpback_whale</td>\n",
       "      <td>1a71fbb72250</td>\n",
       "    </tr>\n",
       "    <tr>\n",
       "      <th>2</th>\n",
       "      <td>0007c33415ce37.jpg</td>\n",
       "      <td>false_killer_whale</td>\n",
       "      <td>60008f293a2b</td>\n",
       "    </tr>\n",
       "    <tr>\n",
       "      <th>3</th>\n",
       "      <td>0007d9bca26a99.jpg</td>\n",
       "      <td>bottlenose_dolphin</td>\n",
       "      <td>4b00fe572063</td>\n",
       "    </tr>\n",
       "    <tr>\n",
       "      <th>4</th>\n",
       "      <td>00087baf5cef7a.jpg</td>\n",
       "      <td>humpback_whale</td>\n",
       "      <td>8e5253662392</td>\n",
       "    </tr>\n",
       "    <tr>\n",
       "      <th>5</th>\n",
       "      <td>000a8f2d5c316a.jpg</td>\n",
       "      <td>bottlenose_dolphin</td>\n",
       "      <td>b9907151f66e</td>\n",
       "    </tr>\n",
       "    <tr>\n",
       "      <th>6</th>\n",
       "      <td>000be9acf46619.jpg</td>\n",
       "      <td>beluga</td>\n",
       "      <td>afb9b3978217</td>\n",
       "    </tr>\n",
       "    <tr>\n",
       "      <th>7</th>\n",
       "      <td>000bef247c7a42.jpg</td>\n",
       "      <td>humpback_whale</td>\n",
       "      <td>444d8894ccc8</td>\n",
       "    </tr>\n",
       "    <tr>\n",
       "      <th>8</th>\n",
       "      <td>000c3d63069748.jpg</td>\n",
       "      <td>beluga</td>\n",
       "      <td>df94b15285b9</td>\n",
       "    </tr>\n",
       "    <tr>\n",
       "      <th>9</th>\n",
       "      <td>000c476c11bad5.jpg</td>\n",
       "      <td>bottlenose_dolphin</td>\n",
       "      <td>b11b2404c7e3</td>\n",
       "    </tr>\n",
       "  </tbody>\n",
       "</table>\n",
       "</div>"
      ],
      "text/plain": [
       "                image             species individual_id\n",
       "0  00021adfb725ed.jpg  melon_headed_whale  cadddb1636b9\n",
       "1  000562241d384d.jpg      humpback_whale  1a71fbb72250\n",
       "2  0007c33415ce37.jpg  false_killer_whale  60008f293a2b\n",
       "3  0007d9bca26a99.jpg  bottlenose_dolphin  4b00fe572063\n",
       "4  00087baf5cef7a.jpg      humpback_whale  8e5253662392\n",
       "5  000a8f2d5c316a.jpg  bottlenose_dolphin  b9907151f66e\n",
       "6  000be9acf46619.jpg              beluga  afb9b3978217\n",
       "7  000bef247c7a42.jpg      humpback_whale  444d8894ccc8\n",
       "8  000c3d63069748.jpg              beluga  df94b15285b9\n",
       "9  000c476c11bad5.jpg  bottlenose_dolphin  b11b2404c7e3"
      ]
     },
     "execution_count": 24,
     "metadata": {},
     "output_type": "execute_result"
    }
   ],
   "source": [
    "label_train_df.head(10)"
   ]
  },
  {
   "cell_type": "code",
   "execution_count": 25,
   "id": "e7420473",
   "metadata": {},
   "outputs": [
    {
     "data": {
      "text/plain": [
       "bottlenose_dolphin           9664\n",
       "beluga                       7443\n",
       "humpback_whale               7392\n",
       "blue_whale                   4830\n",
       "false_killer_whale           3326\n",
       "dusky_dolphin                3139\n",
       "spinner_dolphin              1700\n",
       "melon_headed_whale           1689\n",
       "minke_whale                  1608\n",
       "killer_whale                 1493\n",
       "fin_whale                    1324\n",
       "gray_whale                   1123\n",
       "bottlenose_dolpin            1117\n",
       "kiler_whale                   962\n",
       "southern_right_whale          866\n",
       "spotted_dolphin               490\n",
       "sei_whale                     428\n",
       "short_finned_pilot_whale      367\n",
       "common_dolphin                347\n",
       "cuviers_beaked_whale          341\n",
       "pilot_whale                   262\n",
       "long_finned_pilot_whale       238\n",
       "white_sided_dolphin           229\n",
       "brydes_whale                  154\n",
       "pantropic_spotted_dolphin     145\n",
       "globis                        116\n",
       "commersons_dolphin             90\n",
       "pygmy_killer_whale             76\n",
       "rough_toothed_dolphin          60\n",
       "frasiers_dolphin               14\n",
       "Name: species, dtype: int64"
      ]
     },
     "execution_count": 25,
     "metadata": {},
     "output_type": "execute_result"
    }
   ],
   "source": [
    "label_train_df['species']. value_counts()"
   ]
  },
  {
   "cell_type": "code",
   "execution_count": 11,
   "id": "836fc0a9",
   "metadata": {},
   "outputs": [],
   "source": [
    "#We have some typos in the species:\n",
    "\n",
    "#E.g., there is bottlenose_dolphin and bottlenose_dolpin, kiler_whale and killer_whale. \n",
    "#Obviously, it is typos. Also, globis and pilot_whale are short_finned_pilot_whale\n",
    "\n",
    "#We thus need to correct the labels:"
   ]
  },
  {
   "cell_type": "code",
   "execution_count": 26,
   "id": "896f7dbe",
   "metadata": {},
   "outputs": [],
   "source": [
    "label_train_df.species.replace({\"globis\": \"short_finned_pilot_whale\",\n",
    "                          \"pilot_whale\": \"short_finned_pilot_whale\",\n",
    "                          \"kiler_whale\": \"killer_whale\",\n",
    "                          \"bottlenose_dolpin\": \"bottlenose_dolphin\"}, inplace=True)"
   ]
  },
  {
   "cell_type": "code",
   "execution_count": 27,
   "id": "e90bae79",
   "metadata": {},
   "outputs": [
    {
     "data": {
      "text/plain": [
       "bottlenose_dolphin           10781\n",
       "beluga                        7443\n",
       "humpback_whale                7392\n",
       "blue_whale                    4830\n",
       "false_killer_whale            3326\n",
       "dusky_dolphin                 3139\n",
       "killer_whale                  2455\n",
       "spinner_dolphin               1700\n",
       "melon_headed_whale            1689\n",
       "minke_whale                   1608\n",
       "fin_whale                     1324\n",
       "gray_whale                    1123\n",
       "southern_right_whale           866\n",
       "short_finned_pilot_whale       745\n",
       "spotted_dolphin                490\n",
       "sei_whale                      428\n",
       "common_dolphin                 347\n",
       "cuviers_beaked_whale           341\n",
       "long_finned_pilot_whale        238\n",
       "white_sided_dolphin            229\n",
       "brydes_whale                   154\n",
       "pantropic_spotted_dolphin      145\n",
       "commersons_dolphin              90\n",
       "pygmy_killer_whale              76\n",
       "rough_toothed_dolphin           60\n",
       "frasiers_dolphin                14\n",
       "Name: species, dtype: int64"
      ]
     },
     "execution_count": 27,
     "metadata": {},
     "output_type": "execute_result"
    }
   ],
   "source": [
    "label_train_df['species']. value_counts()"
   ]
  },
  {
   "cell_type": "code",
   "execution_count": 14,
   "id": "ab2ff6a3",
   "metadata": {},
   "outputs": [],
   "source": [
    "def store_csv(label_df):\n",
    "    if full_data_switch_on == True:\n",
    "        label_df.to_csv(\"input/04_cleaned/train/clean_train.csv\", sep=';')\n",
    "        print(\"dataframe successfully stored in: input/04_cleaned/train\")\n",
    "    elif full_data_switch_on == False:\n",
    "        label_df.to_csv(\"input/04_cleaned/train/clean_sample_train.csv\", sep=';')\n",
    "        print(\"dataframe successfully stored in: input/04_cleaned/train\")\n",
    "    else:\n",
    "        raise ValueError(\"Full data switch is not correctly defined\")"
   ]
  },
  {
   "cell_type": "code",
   "execution_count": 28,
   "id": "8b20199a",
   "metadata": {},
   "outputs": [
    {
     "name": "stdout",
     "output_type": "stream",
     "text": [
      "dataframe successfully stored in: input/04_cleaned/\n"
     ]
    }
   ],
   "source": [
    "store_csv(label_train_df)"
   ]
  },
  {
   "cell_type": "code",
   "execution_count": 30,
   "id": "c98e8bc4",
   "metadata": {},
   "outputs": [],
   "source": [
    "# Function to transform images into np.array"
   ]
  },
  {
   "cell_type": "code",
   "execution_count": 39,
   "id": "66ca272a",
   "metadata": {},
   "outputs": [],
   "source": [
    "# Defining function to list all pictures to include\n",
    "def list_files(dir):\n",
    "    r = []\n",
    "    for root, dirs, files in os.walk(dir):\n",
    "        for name in files:\n",
    "            r.append(os.path.join(root, name))\n",
    "    return r"
   ]
  },
  {
   "cell_type": "code",
   "execution_count": 40,
   "id": "70edb2e9",
   "metadata": {},
   "outputs": [],
   "source": [
    "# define filepaths for sample and full image data\n",
    "if full_data_switch_on == True:\n",
    "    filepaths_test = list_files(PATH_DATA_TEST)"
   ]
  },
  {
   "cell_type": "code",
   "execution_count": 41,
   "id": "1e4756d8",
   "metadata": {},
   "outputs": [],
   "source": [
    "filepaths_train = list_files(PATH_DATA_TRAIN)"
   ]
  },
  {
   "cell_type": "code",
   "execution_count": 42,
   "id": "9c9e5eee",
   "metadata": {},
   "outputs": [],
   "source": [
    "# Defining function that performs translation of jpg files into numerical representation\n",
    "def pixel_transformation(target_pixel,train_switch):\n",
    "    \n",
    "    if train_switch == True:\n",
    "        \n",
    "        # Run-time information\n",
    "        start_time = timeit.default_timer()\n",
    "        print(\">... Starting pixel transformation for train images for resolution: \", target_pixel, \"x\", target_pixel)\n",
    "\n",
    "        # Initialize emtpy array of fitting length\n",
    "        array_length = target_pixel*target_pixel*3 #Times 3 as we have 3 values (RGB) per pixel\n",
    "        loaded_pics_train = np.empty([0,array_length])\n",
    "\n",
    "        #Running trough all train image files\n",
    "        for filename in filepaths_train:\n",
    "            # open picture\n",
    "            pic = PIL_Image.open(filename)\n",
    "            # Reduce size from original format to target format\n",
    "            pic_resized = pic.resize((target_pixel, target_pixel))\n",
    "            # Extract RGB data\n",
    "            pic_data = np.array(pic_resized)\n",
    "            # Include help array to reshape 3D-array(e.g.: 1024, 1024, 3) into 1D array\n",
    "            help_array = np.reshape(pic_data,(pic_data.size,))\n",
    "            # Stack each array onto each other to have one larger array of shape (#obs,#pixels*3)\n",
    "            loaded_pics_train = np.vstack((loaded_pics_train, help_array))\n",
    "        \n",
    "        #End run-time information\n",
    "        elapsed = timeit.default_timer() - start_time\n",
    "        print(\"Finished\", target_pixel, \"x\", target_pixel ,\"pixel transformation for train images. Run-time in seconds: \", round(elapsed,2))\n",
    " \n",
    "        # Returning\n",
    "        return loaded_pics_train # array with dimension pixels x pixels x colors for each image\n",
    "    \n",
    "    elif train_switch == False:\n",
    "        \n",
    "        # Run-time information\n",
    "        start_time = timeit.default_timer()\n",
    "        print(\">... Starting pixel transformation for test images for resolution: \", target_pixel, \"x\", target_pixel)\n",
    "\n",
    "        # Initialize emtpy array of fitting length\n",
    "        array_length = target_pixel*target_pixel*3 #Times 3 as we have 3 values (RGB) per pixel\n",
    "        loaded_pics_test = np.empty([0,array_length])\n",
    "\n",
    "        #Running trough all train image files\n",
    "        for filename in filepaths_test:\n",
    "            # open picture\n",
    "            pic = PIL_Image.open(filename)\n",
    "            # Reduce size from original format to target format\n",
    "            pic_resized = pic.resize((target_pixel, target_pixel))\n",
    "            # Extract RGB data\n",
    "            pic_data = np.array(pic_resized)\n",
    "            # Include help array to reshape 3D-array(e.g.: 1024, 1024, 3) into 1D array\n",
    "            help_array = np.reshape(pic_data,(pic_data.size,))\n",
    "            # Stack each array onto each other to have one larger array of shape (#obs,#pixels*3)\n",
    "            loaded_pics_test = np.vstack((loaded_pics_test, help_array))\n",
    "        \n",
    "        #End run-time information\n",
    "        elapsed = timeit.default_timer() - start_time\n",
    "        print(\"Finished\", target_pixel, \"x\", target_pixel ,\"pixel transformation for test images. Run-time in seconds: \", round(elapsed,2))\n",
    " \n",
    "        # Returning\n",
    "        return loaded_pics_test # array with dimension pixels x pixels x colors for each image\n",
    "    \n",
    "    else:\n",
    "        print(\"train switch is not defined correctly\")"
   ]
  },
  {
   "cell_type": "code",
   "execution_count": null,
   "id": "88745c99",
   "metadata": {},
   "outputs": [],
   "source": [
    "# make transformation for test data, train data, sample data\n",
    "# depending on full_data_swtich_on configuration, the transformation is done for FULL data set (test or train) or for SAMPLE data set (only train)\n",
    "# if the function is called, the train_switch must be set to True or False"
   ]
  },
  {
   "cell_type": "code",
   "execution_count": 43,
   "id": "bd7cf308",
   "metadata": {},
   "outputs": [
    {
     "name": "stdout",
     "output_type": "stream",
     "text": [
      ">... Starting pixel transformation for train images for resolution:  224 x 224\n",
      "Finished 224 x 224 pixel transformation for train images. Run-time in seconds:  6.45\n"
     ]
    }
   ],
   "source": [
    "image_data_train_sample = pixel_transformation(224, train_switch=True)\n"
   ]
  },
  {
   "cell_type": "code",
   "execution_count": null,
   "id": "b78b7c8e",
   "metadata": {},
   "outputs": [],
   "source": [
    "# turn full_data_switch_on to true and apply functions above before \n",
    "image_data_full_train = pixel_transformation(224, train_switch=True)\n",
    "image_data_full_test = pixel_transformation(224, train_switch=False)"
   ]
  },
  {
   "cell_type": "code",
   "execution_count": null,
   "id": "a7aa09a7",
   "metadata": {},
   "outputs": [],
   "source": [
    "# define function to store np.arrays in respective data folders"
   ]
  },
  {
   "cell_type": "code",
   "execution_count": 44,
   "id": "374136d7",
   "metadata": {},
   "outputs": [],
   "source": [
    "from numpy import savez_compressed"
   ]
  },
  {
   "cell_type": "code",
   "execution_count": 47,
   "id": "902012d4",
   "metadata": {},
   "outputs": [],
   "source": [
    "def store_dict_train(image_df, target_pixel):\n",
    "    \n",
    "    if full_data_switch_on == True:\n",
    "        savez_compressed(\"input/04_cleaned/train/img_data_full_\"+str(target_pixel)+\".npz\",image_df)\n",
    "        print(\"file successfully stored in: input/04_cleaned/train/img_data_full_\"+str(target_pixel)+\".npz\")\n",
    "        \n",
    "    elif full_data_switch_on == False:\n",
    "        savez_compressed(\"input/04_cleaned/train/img_data_sample_\"+str(target_pixel)+\".npz\",image_df)\n",
    "        print(\"file successfully stored in: input/04_cleaned/train/img_data_sample_\"+str(target_pixel)+\".npz\")\n",
    "        \n",
    "    else:\n",
    "        raise ValueError(\"Full data switch is not correctly defined\")"
   ]
  },
  {
   "cell_type": "code",
   "execution_count": 48,
   "id": "183ddb7f",
   "metadata": {},
   "outputs": [],
   "source": [
    "def store_dict_test(image_df,target_pixel):\n",
    "    savez_compressed(\"input/04_cleaned/test/img_data_full_\"+str(target_pixel)+\".npz\",image_df)\n",
    "    print(\"file successfully stored in: input/04_cleaned/test/img_data_full_\"+str(target_pixel)+\".npz\")\n"
   ]
  },
  {
   "cell_type": "code",
   "execution_count": 49,
   "id": "68adf07c",
   "metadata": {},
   "outputs": [
    {
     "name": "stdout",
     "output_type": "stream",
     "text": [
      "file successfully stored in: input/04_cleaned/train/img_data_sample_224.npz\n"
     ]
    }
   ],
   "source": [
    "store_dict_train(image_data_train_sample,target_pixel=224)"
   ]
  },
  {
   "cell_type": "code",
   "execution_count": null,
   "id": "0c0b988f",
   "metadata": {},
   "outputs": [],
   "source": []
  }
 ],
 "metadata": {
  "kernelspec": {
   "display_name": "Python 3 (ipykernel)",
   "language": "python",
   "name": "python3"
  },
  "language_info": {
   "codemirror_mode": {
    "name": "ipython",
    "version": 3
   },
   "file_extension": ".py",
   "mimetype": "text/x-python",
   "name": "python",
   "nbconvert_exporter": "python",
   "pygments_lexer": "ipython3",
   "version": "3.9.7"
  }
 },
 "nbformat": 4,
 "nbformat_minor": 5
}
