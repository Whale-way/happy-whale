{
 "cells": [
  {
   "cell_type": "markdown",
   "id": "98a67482",
   "metadata": {},
   "source": [
    "# Whale and Dolphin Classification Project"
   ]
  },
  {
   "cell_type": "markdown",
   "id": "f8f40806",
   "metadata": {},
   "source": [
    "Authors:\n",
    "- Victor Möslein\n",
    "- Maren Rieker\n",
    "- Reed Garvin\n",
    "- Dinah Rabe"
   ]
  },
  {
   "cell_type": "markdown",
   "id": "59834ab8",
   "metadata": {},
   "source": [
    "This Notebook is one of three core notebooks of the Whale and Dolphin Classification Project for the \"Machine Learning\" class at the Hertie School. It focuses on the application of classic machine learning models to the task at hand. There is one other notebook concerned with data preprocessing and another that focuses on the application of a deep learning model.\n",
    "\n",
    "The code of this notebook partly follows the chapter on Classification from the book \"Hands-on Machine Learning with Scikit-Learn, Keras, and Tensorflow\" by Aurélien Géron."
   ]
  },
  {
   "cell_type": "code",
   "execution_count": null,
   "id": "bea14229",
   "metadata": {
    "pycharm": {
     "name": "#%%\n"
    }
   },
   "outputs": [],
   "source": [
    "## Setup: System settings and packages"
   ]
  },
  {
   "cell_type": "code",
   "execution_count": 90,
   "id": "07378157",
   "metadata": {
    "pycharm": {
     "name": "#%%\n"
    }
   },
   "outputs": [],
   "source": [
    "# Python ≥3.5 is required\n",
    "\n",
    "import sys\n",
    "assert sys.version_info >= (3, 5)\n",
    "\n",
    "# Scikit-Learn ≥0.20 is required\n",
    "import sklearn\n",
    "assert sklearn.__version__ >= \"1.0\"\n",
    "\n",
    "import random\n",
    "import numpy as np\n",
    "from numpy import load\n",
    "import pandas as pd\n",
    "from numpy import savez_compressed\n",
    "import os\n",
    "import timeit\n",
    "import seaborn as sns\n",
    "import pickle\n",
    "import PIL\n",
    "import xgboost as xgb\n",
    "\n",
    "\n",
    "# To plot pretty figures\n",
    "%matplotlib inline\n",
    "import matplotlib as mpl\n",
    "import matplotlib.pyplot as plt\n",
    "mpl.rc('axes', labelsize=14)\n",
    "mpl.rc('xtick', labelsize=12)\n",
    "mpl.rc('ytick', labelsize=12)\n",
    "\n",
    "# to make this notebook's output stable\n",
    "np.random.seed(42)"
   ]
  },
  {
   "cell_type": "code",
   "execution_count": null,
   "id": "661c682b",
   "metadata": {
    "pycharm": {
     "name": "#%%\n"
    }
   },
   "outputs": [],
   "source": []
  },
  {
   "cell_type": "code",
   "execution_count": 2,
   "id": "f4aa517d",
   "metadata": {
    "pycharm": {
     "name": "#%%\n"
    }
   },
   "outputs": [],
   "source": [
    "full_data_switch_on = True # if the full data set should be used, this switch need to be set to true"
   ]
  },
  {
   "cell_type": "markdown",
   "id": "4e9818d3",
   "metadata": {},
   "source": [
    "## Define paths to data and for output"
   ]
  },
  {
   "cell_type": "code",
   "execution_count": 82,
   "id": "f1828411",
   "metadata": {
    "pycharm": {
     "name": "#%%\n"
    }
   },
   "outputs": [],
   "source": [
    "# path to clean data folder\n",
    "ROOT_PATH_DATA = \"input/04_cleaned/\"\n",
    "\n",
    "# where to save figures\n",
    "ROOT_PATH_FIG = \"output/ml_models/01_figures/\"\n",
    "os.makedirs(ROOT_PATH_FIG, exist_ok=True)\n",
    "\n",
    "# where to save output\n",
    "\n",
    "ROOT_OUTPUT = \"output/ml_models/\"\n",
    "OUTPUT_PATH_TRAIN_EVAL = os.path.join(ROOT_OUTPUT + \"02_training_set_evaluation\")\n",
    "OUTPUT_PATH_TEST_EVAL = os.path.join(ROOT_OUTPUT + \"03_test_set_evaluation\")\n",
    "OUTPUT_PATH_HYPPAR_TUN = os.path.join(ROOT_OUTPUT + \"04_hyperparamter_tuning\")\n",
    "OUTPUT_PATH_RUN_TIME = os.path.join(ROOT_OUTPUT + \"05_runtime_stats\")\n",
    "\n",
    "# function to save figures\n",
    "\n",
    "def save_fig(fig_id, save_path=ROOT_PATH_FIG, tight_layout=True, fig_extension=\"png\", resolution=300):\n",
    "    path = os.path.join(save_path, fig_id + \".\" + fig_extension)\n",
    "    print(\">... Saving figure\", fig_id)\n",
    "    if tight_layout:\n",
    "        plt.tight_layout()\n",
    "    plt.savefig(path, format=fig_extension, dpi=resolution)"
   ]
  },
  {
   "cell_type": "markdown",
   "id": "089c7b2b",
   "metadata": {},
   "source": [
    "## Loading and splitting training data"
   ]
  },
  {
   "cell_type": "code",
   "execution_count": 4,
   "id": "3e12c722",
   "metadata": {
    "pycharm": {
     "name": "#%%\n"
    }
   },
   "outputs": [],
   "source": [
    "labels_df = pd.read_csv(ROOT_PATH_DATA + \"train/clean_train.csv\", sep = ';')"
   ]
  },
  {
   "cell_type": "code",
   "execution_count": null,
   "id": "2f6a9341",
   "metadata": {
    "pycharm": {
     "name": "#%%\n"
    }
   },
   "outputs": [],
   "source": [
    "labels_df.head() # Checking for correct dimensions after every step. The data set contains 51033 images."
   ]
  },
  {
   "cell_type": "code",
   "execution_count": null,
   "id": "959caa63",
   "metadata": {
    "pycharm": {
     "name": "#%%\n"
    }
   },
   "outputs": [],
   "source": [
    "labels_df.shape"
   ]
  },
  {
   "cell_type": "code",
   "execution_count": 5,
   "id": "7a9db41c",
   "metadata": {
    "pycharm": {
     "name": "#%%\n"
    }
   },
   "outputs": [],
   "source": [
    "labels_full = labels_df[\"species\"]"
   ]
  },
  {
   "cell_type": "code",
   "execution_count": null,
   "id": "cf2f9974",
   "metadata": {
    "pycharm": {
     "name": "#%%\n"
    }
   },
   "outputs": [],
   "source": [
    "labels_full.head()"
   ]
  },
  {
   "cell_type": "code",
   "execution_count": null,
   "id": "011e4faf",
   "metadata": {
    "pycharm": {
     "name": "#%%\n"
    }
   },
   "outputs": [],
   "source": [
    "labels_full.shape"
   ]
  },
  {
   "cell_type": "code",
   "execution_count": 6,
   "id": "b769edda",
   "metadata": {
    "pycharm": {
     "name": "#%%\n"
    }
   },
   "outputs": [],
   "source": [
    "pic_ids_full = labels_df[\"image\"]"
   ]
  },
  {
   "cell_type": "code",
   "execution_count": null,
   "id": "fbf2dccc",
   "metadata": {
    "pycharm": {
     "name": "#%%\n"
    }
   },
   "outputs": [],
   "source": [
    "pic_ids_full.head()"
   ]
  },
  {
   "cell_type": "code",
   "execution_count": null,
   "id": "efec5950",
   "metadata": {
    "pycharm": {
     "name": "#%%\n"
    }
   },
   "outputs": [],
   "source": [
    "pic_ids_full.shape"
   ]
  },
  {
   "cell_type": "code",
   "execution_count": 44,
   "id": "5c32571c",
   "metadata": {
    "pycharm": {
     "name": "#%%\n"
    }
   },
   "outputs": [],
   "source": [
    "# load npz files ## has to be adjusted to the actual one\n",
    "img_data = np.load(\"input/04_cleaned/train/img_data_full_48.npz\")\n",
    "img_data_full = img_data[\"arr_0\"]"
   ]
  },
  {
   "cell_type": "code",
   "execution_count": null,
   "id": "79af5e0b",
   "metadata": {
    "pycharm": {
     "name": "#%%\n"
    }
   },
   "outputs": [],
   "source": [
    "img_data_full.shape"
   ]
  },
  {
   "cell_type": "code",
   "execution_count": 45,
   "id": "52fcd244",
   "metadata": {
    "pycharm": {
     "name": "#%%\n"
    }
   },
   "outputs": [],
   "source": [
    "# Split into training and test set - 10.000 test set / 40.000 full training set\n",
    "# stratify = labels splits it proportionally to classes in the dataset\n",
    "\n",
    "from sklearn.model_selection import train_test_split\n",
    "img_data_train_full, img_data_test_no_PCA, labels_train_full, labels_test_no_PCA, pic_ids_train_full, pic_ids_test_no_PCA = train_test_split(img_data_full , labels_full, pic_ids_full, stratify=labels_full, test_size=0.2, random_state=42)\n"
   ]
  },
  {
   "cell_type": "code",
   "execution_count": 46,
   "id": "6239069a",
   "metadata": {
    "pycharm": {
     "name": "#%%\n"
    }
   },
   "outputs": [],
   "source": [
    "# Split into training and validation set - 30.000 training set / 10.000 validation set\n",
    "img_data_train_no_PCA, img_data_val_no_PCA, labels_train_no_PCA, labels_val_no_PCA, pic_ids_train_no_PCA, pic_ids_val_no_PCA = train_test_split(img_data_train_full , labels_train_full, pic_ids_train_full, train_size=30000, random_state=42)"
   ]
  },
  {
   "cell_type": "markdown",
   "id": "20a75234",
   "metadata": {},
   "source": [
    "## Speed improvements through dimensionality reduction\n"
   ]
  },
  {
   "cell_type": "markdown",
   "id": "1f0ca946",
   "metadata": {},
   "source": [
    "### Performing Principal Component Analysis on the training data\n",
    "#### this had to be moved to the beginning of the project due to computation time restrictions"
   ]
  },
  {
   "cell_type": "code",
   "execution_count": null,
   "id": "00f426d5",
   "metadata": {
    "pycharm": {
     "name": "#%%\n"
    }
   },
   "outputs": [],
   "source": [
    "from sklearn.decomposition import PCA"
   ]
  },
  {
   "cell_type": "code",
   "execution_count": null,
   "id": "0459c5ae",
   "metadata": {
    "pycharm": {
     "name": "#%%\n"
    }
   },
   "outputs": [],
   "source": [
    "img_data_full.shape"
   ]
  },
  {
   "cell_type": "code",
   "execution_count": null,
   "id": "5e78adf7",
   "metadata": {
    "pycharm": {
     "name": "#%%\n"
    }
   },
   "outputs": [],
   "source": [
    "# defining to keep 99% of the variance of the data\n",
    "pca = PCA(.95)\n",
    "img_data_full_red = pca.fit_transform(img_data_full)"
   ]
  },
  {
   "cell_type": "code",
   "execution_count": null,
   "id": "66f39526",
   "metadata": {
    "pycharm": {
     "name": "#%%\n"
    }
   },
   "outputs": [],
   "source": [
    "# checking how many features are left\n",
    "img_data_full_red.shape"
   ]
  },
  {
   "cell_type": "markdown",
   "id": "76c5714e",
   "metadata": {},
   "source": [
    "### 1466 features are left when keeping 99% of variance (still too many)\n",
    "### 502 features are left when keeping 95% of variance"
   ]
  },
  {
   "cell_type": "code",
   "execution_count": null,
   "id": "e1a42d90",
   "metadata": {
    "pycharm": {
     "name": "#%%\n"
    }
   },
   "outputs": [],
   "source": [
    "# save dataset after PCA\n",
    "\n",
    "def store_dict_red(image_df, target_pixel):\n",
    "    if full_data_switch_on == True:\n",
    "        savez_compressed(\"input/04_cleaned/train/img_data_full_red_\"+str(target_pixel)+\".npz\",image_df)\n",
    "        print(\"file successfully stored in: input/04_cleaned/train/img_data_full_red_\"+str(target_pixel)+\".npz\")\n",
    "    elif full_data_switch_on == False:\n",
    "        savez_compressed(\"input/04_cleaned/train/img_data_sample_red_\"+str(target_pixel)+\".npz\",image_df)\n",
    "        print(\"file successfully stored in: input/04_cleaned/train/img_data_sample_red_\"+str(target_pixel)+\".npz\")\n",
    "    else:\n",
    "        raise ValueError(\"Full data switch is not correctly defined\")"
   ]
  },
  {
   "cell_type": "markdown",
   "id": "ef6e565a",
   "metadata": {},
   "source": [
    "### Store reduced image file"
   ]
  },
  {
   "cell_type": "code",
   "execution_count": null,
   "id": "fdd6648b",
   "metadata": {
    "pycharm": {
     "name": "#%%\n"
    }
   },
   "outputs": [],
   "source": [
    "store_dict_red(img_data_full_red, target_pixel=48)"
   ]
  },
  {
   "cell_type": "markdown",
   "id": "d4040e06",
   "metadata": {},
   "source": [
    "### Load reduced image file"
   ]
  },
  {
   "cell_type": "code",
   "execution_count": 47,
   "id": "06258c52",
   "metadata": {
    "pycharm": {
     "name": "#%%\n"
    }
   },
   "outputs": [],
   "source": [
    "# load npz files\n",
    "img_data_red = np.load(\"input/04_cleaned/train/img_data_full_red_48.npz\")\n",
    "img_data_full_red = img_data_red[\"arr_0\"]"
   ]
  },
  {
   "cell_type": "code",
   "execution_count": 48,
   "id": "5c7256af",
   "metadata": {
    "pycharm": {
     "name": "#%%\n"
    }
   },
   "outputs": [],
   "source": [
    "# Split into training and test set - 10.000 test set / 40.000 full training set\n",
    "# stratify = labels splits it proportionally to classes in the dataset\n",
    "\n",
    "from sklearn.model_selection import train_test_split\n",
    "img_data_train_full, img_data_test, labels_train_full, labels_test, pic_ids_train_full, pic_ids_test = train_test_split(img_data_full_red , labels_full, pic_ids_full, stratify=labels_full, test_size=0.2, random_state=42)\n"
   ]
  },
  {
   "cell_type": "code",
   "execution_count": 49,
   "id": "ccd3962a",
   "metadata": {
    "pycharm": {
     "name": "#%%\n"
    }
   },
   "outputs": [],
   "source": [
    "# Split into training and validation set - 30.000 training set / 10.000 validation set\n",
    "img_data_train, img_data_val, labels_train, labels_val, pic_ids_train, pic_ids_val = train_test_split(img_data_train_full , labels_train_full, pic_ids_train_full, train_size=30000, random_state=42)\n"
   ]
  },
  {
   "cell_type": "code",
   "execution_count": null,
   "id": "e7e54ac4",
   "metadata": {
    "pycharm": {
     "name": "#%%\n"
    }
   },
   "outputs": [],
   "source": [
    "# Checking for correct dimensions."
   ]
  },
  {
   "cell_type": "code",
   "execution_count": 12,
   "id": "bd912d52",
   "metadata": {
    "pycharm": {
     "name": "#%%\n"
    }
   },
   "outputs": [
    {
     "data": {
      "text/plain": [
       "(40826, 502)"
      ]
     },
     "execution_count": 12,
     "metadata": {},
     "output_type": "execute_result"
    }
   ],
   "source": [
    "img_data_train_full.shape"
   ]
  },
  {
   "cell_type": "code",
   "execution_count": 13,
   "id": "516fa937",
   "metadata": {
    "pycharm": {
     "name": "#%%\n"
    }
   },
   "outputs": [
    {
     "data": {
      "text/plain": [
       "(10207, 502)"
      ]
     },
     "execution_count": 13,
     "metadata": {},
     "output_type": "execute_result"
    }
   ],
   "source": [
    "img_data_test.shape"
   ]
  },
  {
   "cell_type": "code",
   "execution_count": 14,
   "id": "59342cca",
   "metadata": {
    "pycharm": {
     "name": "#%%\n"
    }
   },
   "outputs": [
    {
     "data": {
      "text/plain": [
       "(30000, 502)"
      ]
     },
     "execution_count": 14,
     "metadata": {},
     "output_type": "execute_result"
    }
   ],
   "source": [
    "img_data_train.shape"
   ]
  },
  {
   "cell_type": "code",
   "execution_count": 15,
   "id": "d94b9548",
   "metadata": {
    "pycharm": {
     "name": "#%%\n"
    }
   },
   "outputs": [
    {
     "data": {
      "text/plain": [
       "(10826, 502)"
      ]
     },
     "execution_count": 15,
     "metadata": {},
     "output_type": "execute_result"
    }
   ],
   "source": [
    "img_data_val.shape"
   ]
  },
  {
   "cell_type": "code",
   "execution_count": 16,
   "id": "2625ef11",
   "metadata": {
    "pycharm": {
     "name": "#%%\n"
    }
   },
   "outputs": [
    {
     "data": {
      "text/plain": [
       "bottlenose_dolphin           2270\n",
       "beluga                       1562\n",
       "humpback_whale               1522\n",
       "blue_whale                   1049\n",
       "false_killer_whale            710\n",
       "dusky_dolphin                 648\n",
       "killer_whale                  509\n",
       "minke_whale                   378\n",
       "melon_headed_whale            364\n",
       "spinner_dolphin               347\n",
       "fin_whale                     307\n",
       "gray_whale                    238\n",
       "southern_right_whale          190\n",
       "short_finned_pilot_whale      165\n",
       "spotted_dolphin                92\n",
       "sei_whale                      85\n",
       "cuviers_beaked_whale           76\n",
       "common_dolphin                 75\n",
       "long_finned_pilot_whale        54\n",
       "white_sided_dolphin            54\n",
       "pantropic_spotted_dolphin      39\n",
       "brydes_whale                   30\n",
       "commersons_dolphin             23\n",
       "pygmy_killer_whale             20\n",
       "rough_toothed_dolphin          18\n",
       "frasiers_dolphin                1\n",
       "Name: species, dtype: int64"
      ]
     },
     "execution_count": 16,
     "metadata": {},
     "output_type": "execute_result"
    }
   ],
   "source": [
    "# The distribution between training and validation set is similar.\n",
    "labels_val.value_counts()"
   ]
  },
  {
   "cell_type": "code",
   "execution_count": 14,
   "id": "5e85b1b6",
   "metadata": {
    "pycharm": {
     "name": "#%%\n"
    }
   },
   "outputs": [
    {
     "data": {
      "text/plain": [
       "bottlenose_dolphin           8625\n",
       "beluga                       5954\n",
       "humpback_whale               5914\n",
       "blue_whale                   3864\n",
       "false_killer_whale           2661\n",
       "dusky_dolphin                2511\n",
       "killer_whale                 1964\n",
       "spinner_dolphin              1360\n",
       "melon_headed_whale           1351\n",
       "minke_whale                  1286\n",
       "fin_whale                    1059\n",
       "gray_whale                    898\n",
       "southern_right_whale          693\n",
       "short_finned_pilot_whale      596\n",
       "spotted_dolphin               392\n",
       "sei_whale                     342\n",
       "common_dolphin                278\n",
       "cuviers_beaked_whale          273\n",
       "long_finned_pilot_whale       191\n",
       "white_sided_dolphin           183\n",
       "brydes_whale                  123\n",
       "pantropic_spotted_dolphin     116\n",
       "commersons_dolphin             72\n",
       "pygmy_killer_whale             61\n",
       "rough_toothed_dolphin          48\n",
       "frasiers_dolphin               11\n",
       "Name: species, dtype: int64"
      ]
     },
     "execution_count": 14,
     "metadata": {},
     "output_type": "execute_result"
    }
   ],
   "source": [
    "labels_train_full.value_counts()"
   ]
  },
  {
   "cell_type": "code",
   "execution_count": null,
   "id": "0bfb83c6",
   "metadata": {
    "pycharm": {
     "name": "#%%\n"
    }
   },
   "outputs": [],
   "source": [
    "# So now we have: 30000 images in the training set, 10826 images in the validation set, 10207 images in the test set"
   ]
  },
  {
   "cell_type": "markdown",
   "id": "08efe019",
   "metadata": {},
   "source": [
    "## Implementing baseline model"
   ]
  },
  {
   "cell_type": "code",
   "execution_count": 15,
   "id": "6aec7865",
   "metadata": {
    "pycharm": {
     "name": "#%%\n"
    }
   },
   "outputs": [],
   "source": [
    "def train_clasf(classifier_x, img_data_train, labels_train):\n",
    "    # set name of classifier\n",
    "    classifier_name = classifier_x.__class__.__name__\n",
    "\n",
    "    # train model\n",
    "    print(\">... Starting training of\", classifier_name)\n",
    "    start_time = timeit.default_timer()\n",
    "    classifier_x.fit(img_data_train, labels_train)\n",
    "    time_elapsed = timeit.default_timer() - start_time\n",
    "\n",
    "    print(\">... Classifier {} sucessfully trained in {} seconds.\".format(classifier_name, round(time_elapsed,3)))\n"
   ]
  },
  {
   "cell_type": "code",
   "execution_count": null,
   "id": "38a142dc",
   "metadata": {
    "pycharm": {
     "name": "#%%\n"
    }
   },
   "outputs": [],
   "source": [
    "# Running this on the Hertie Server takes around 2 hours with max_iter = 500 and 24 minutes with max_iter = 100 on full image data\n",
    "# After PCA, it runs in 96 seconds locally with max_iter = 500\n",
    "\n",
    "# We set solver = 'sag' because stochastic average gradient descent works better on large data sets\n",
    "\n",
    "from sklearn.linear_model import LogisticRegression\n",
    "\n",
    "classifier_LR = LogisticRegression(random_state=42, max_iter = 500, solver = 'sag')\n",
    "train_clasf(classifier_LR, img_data_train, labels_train)"
   ]
  },
  {
   "cell_type": "markdown",
   "id": "cac6206d",
   "metadata": {},
   "source": [
    "## Evaluating baseline model (\"compute metrics on train AND dev\")"
   ]
  },
  {
   "cell_type": "code",
   "execution_count": 10,
   "id": "d973aad6",
   "metadata": {
    "pycharm": {
     "name": "#%%\n"
    }
   },
   "outputs": [],
   "source": [
    "from sklearn.metrics import f1_score, precision_score, recall_score, classification_report, accuracy_score, confusion_matrix"
   ]
  },
  {
   "cell_type": "code",
   "execution_count": null,
   "id": "547e9a8c",
   "metadata": {
    "pycharm": {
     "name": "#%%\n"
    }
   },
   "outputs": [],
   "source": [
    "# store predictions of classifier\n",
    "pred_train = classifier_LR.predict(img_data_train)\n",
    "pred_val = classifier_LR.predict(img_data_val)\n",
    "\n",
    "# evaluate classifier and store metrics\n",
    "evaluation_scores = {\"Accuracy Score Train\": accuracy_score(labels_train, pred_train, average = \"macro\").round(3),\n",
    "                     \"Accuracy Score Validation\": accuracy_score(labels_val, pred_val, average = \"macro\").round(3),\n",
    "                     \"Precision Score Train\": precision_score(labels_train, pred_train, average = \"macro\").round(3),\n",
    "                     \"Precision Score Validation\": precision_score(labels_val, pred_val, average = \"macro\").round(3),\n",
    "                     \"Recall Score Train\": recall_score(labels_train, pred_train, average = \"macro\").round(3),\n",
    "                     \"Recall Score Validation\": recall_score(labels_val, pred_val, average = \"macro\").round(3),\n",
    "                     \"F1 Score Train\": f1_score(labels_train, pred_train, average=\"macro\").round(3),\n",
    "                     \"F1 Score Validation\": f1_score(labels_val, pred_val, average=\"macro\").round(3)}\n"
   ]
  },
  {
   "cell_type": "code",
   "execution_count": 37,
   "id": "bf94f592",
   "metadata": {
    "pycharm": {
     "name": "#%%\n"
    }
   },
   "outputs": [],
   "source": [
    "# save evaluation scores\n",
    "def store_eval_score(image_df, classifier_name):\n",
    "    savez_compressed(OUTPUT_PATH_TRAIN_EVAL + \"/evaluation_scores_\"+str(classifier_name)+\".npz\",image_df)\n",
    "    print(\"file successfully stored in: output/ml_models/02_training_set_evaluation\")\n"
   ]
  },
  {
   "cell_type": "code",
   "execution_count": null,
   "id": "bb8202a8",
   "metadata": {
    "pycharm": {
     "name": "#%%\n"
    }
   },
   "outputs": [],
   "source": [
    "store_eval_score(evaluation_scores, \"LogisticRegression\")"
   ]
  },
  {
   "cell_type": "code",
   "execution_count": null,
   "id": "303e1b95",
   "metadata": {
    "pycharm": {
     "name": "#%%\n"
    }
   },
   "outputs": [],
   "source": [
    "## Multiclass Confusion Matrix"
   ]
  },
  {
   "cell_type": "code",
   "execution_count": null,
   "id": "8bafa162",
   "metadata": {
    "pycharm": {
     "name": "#%%\n"
    }
   },
   "outputs": [],
   "source": [
    "from sklearn.metrics import multilabel_confusion_matrix\n",
    "\n",
    "conf_matrix = multilabel_confusion_matrix(labels_val,pred_val,labels=labels_val)"
   ]
  },
  {
   "cell_type": "code",
   "execution_count": null,
   "id": "408b13d5",
   "metadata": {
    "pycharm": {
     "name": "#%%\n"
    }
   },
   "outputs": [],
   "source": [
    "from sklearn.metrics import ConfusionMatrixDisplay\n",
    "import matplotlib.pyplot as plt\n",
    "\n",
    "disp_conf_matrix = ConfusionMatrixDisplay.from_predictions(labels_val, pred_val)\n",
    "\n",
    "disp_conf_matrix.show()"
   ]
  },
  {
   "cell_type": "code",
   "execution_count": null,
   "id": "b96e890c",
   "metadata": {
    "pycharm": {
     "name": "#%%\n"
    }
   },
   "outputs": [],
   "source": [
    "plt.show()"
   ]
  },
  {
   "cell_type": "code",
   "execution_count": null,
   "id": "66da7db5",
   "metadata": {
    "pycharm": {
     "name": "#%%\n"
    }
   },
   "outputs": [],
   "source": [
    "# def function for saving the filtered error table\n",
    "\n",
    "def store_conf_matrix(disp_conf_matrix, classifier_name):\n",
    "    disp_conf_matrix.savefig(OUTPUT_PATH_TRAIN_EVAL + \"/conf_matrix_\"+str(classifier_name)+\".jpg\")\n",
    "    print(\"file successfully stored in: output/ml_models/02_training_set_evaluation\")"
   ]
  },
  {
   "cell_type": "code",
   "execution_count": null,
   "id": "75fa89d3",
   "metadata": {
    "pycharm": {
     "name": "#%%\n"
    }
   },
   "outputs": [],
   "source": [
    "# saving the confusion matrix\n",
    "store_conf_matrix(disp_conf_matrix, \"LogisticRegression\")"
   ]
  },
  {
   "cell_type": "code",
   "execution_count": null,
   "id": "d0401b30",
   "metadata": {
    "pycharm": {
     "name": "#%%\n"
    }
   },
   "outputs": [],
   "source": [
    "# Inspecting the errors\n",
    "output_dict = {}\n",
    "output_array = np.c_[pic_ids_val, labels_val, pred_val] ## adjust name of pic_ids and labels depending on train or val\n",
    "\n",
    "# Create error array with specific error\n",
    "err_type_arr = np.array([])\n",
    "for i in range(len(output_array)):\n",
    "    if output_array[i,1] != output_array[i,2]:\n",
    "        err_type_arr = np.append(err_type_arr, \"error\")\n",
    "    else:\n",
    "        err_type_arr = np.append(err_type_arr, \"No error\")\n",
    "\n",
    "error_table_pd = pd.DataFrame(output_array)\n",
    "error_table_pd.rename(columns = {0:'Picture ID', 1:\"Label\", 2:\"Predicted\"}, inplace = True)\n",
    "error_table_pd[\"Error Check\"] = err_type_arr\n",
    "\n",
    "# print filtered error table\n",
    "print(error_table_pd.loc[error_table_pd[\"Error Check\"].isin([\"error\"])].sort_values(by=[\"Label\", \"Picture ID\"]))"
   ]
  },
  {
   "cell_type": "code",
   "execution_count": 38,
   "id": "d8f68faa",
   "metadata": {
    "pycharm": {
     "name": "#%%\n"
    }
   },
   "outputs": [],
   "source": [
    "# def function for saving the filtered error table\n",
    "\n",
    "def store_error_table(image_df, classifier_name):\n",
    "    savez_compressed(OUTPUT_PATH_TRAIN_EVAL + \"/error_table_\"+str(classifier_name)+\".npz\",image_df)\n",
    "    print(\"file successfully stored in: output/ml_models/02_training_set_evaluation\")\n"
   ]
  },
  {
   "cell_type": "code",
   "execution_count": null,
   "id": "a6c4ea5a",
   "metadata": {
    "pycharm": {
     "name": "#%%\n"
    }
   },
   "outputs": [],
   "source": [
    "# transform pd frame into dictionary for saving\n",
    "output_dict[\"error_table\"] = error_table_pd\n",
    "\n",
    "# saving the error table\n",
    "store_error_table(output_dict, \"LogisticRegression\")"
   ]
  },
  {
   "cell_type": "markdown",
   "id": "d15ff97e",
   "metadata": {},
   "source": [
    "## Implementing RandomForest Classifier as advanced model"
   ]
  },
  {
   "cell_type": "code",
   "execution_count": 11,
   "id": "0b8b5a38",
   "metadata": {
    "pycharm": {
     "name": "#%%\n"
    }
   },
   "outputs": [],
   "source": [
    "from sklearn.ensemble import RandomForestClassifier"
   ]
  },
  {
   "cell_type": "code",
   "execution_count": null,
   "id": "2780ae52",
   "metadata": {
    "pycharm": {
     "name": "#%%\n"
    }
   },
   "outputs": [],
   "source": [
    "num_trees = 500\n",
    "\n",
    "# this works in 5 minutes locally after PCA\n",
    "\n",
    "classifier_RF = RandomForestClassifier(max_depth = 10, n_estimators = num_trees, n_jobs=-1,random_state=42)\n",
    "train_clasf(classifier_RF, img_data_train, labels_train)"
   ]
  },
  {
   "cell_type": "markdown",
   "id": "613594e7",
   "metadata": {},
   "source": [
    "## Evaluating RandomForest Classifier"
   ]
  },
  {
   "cell_type": "code",
   "execution_count": null,
   "id": "579eedba",
   "metadata": {
    "pycharm": {
     "name": "#%%\n"
    }
   },
   "outputs": [],
   "source": [
    "# store predictions of classifier ## Victor: ich war mir nicht ganz sicher ob das so richtig ist\n",
    "pred_train = classifier_RF.predict(img_data_train)\n",
    "pred_val = classifier_RF.predict(img_data_val)"
   ]
  },
  {
   "cell_type": "code",
   "execution_count": null,
   "id": "5eb3f47b",
   "metadata": {
    "pycharm": {
     "name": "#%%\n"
    }
   },
   "outputs": [],
   "source": [
    "# evaluate classifier and store metrics\n",
    "evaluation_scores = {\"Accuracy Score Train\": accuracy_score(labels_train, pred_train).round(3),\n",
    "                     \"Accuracy Score Validation\": accuracy_score(labels_val, pred_val).round(3),\n",
    "                     \"Precision Score Train\": precision_score(labels_train, pred_train, average = \"macro\").round(3),\n",
    "                     \"Precision Score Validation\": precision_score(labels_val, pred_val, average = \"macro\").round(3),\n",
    "                     \"Recall Score Train\": recall_score(labels_train, pred_train, average = \"macro\").round(3),\n",
    "                     \"Recall Score Validation\": recall_score(labels_val, pred_val, average = \"macro\").round(3),\n",
    "                     \"F1 Score Train\": f1_score(labels_train, pred_train, average=\"macro\").round(3),\n",
    "                     \"F1 Score Validation\": f1_score(labels_val, pred_val, average=\"macro\").round(3)}"
   ]
  },
  {
   "cell_type": "code",
   "execution_count": null,
   "id": "e7dc34cb",
   "metadata": {
    "pycharm": {
     "name": "#%%\n"
    }
   },
   "outputs": [],
   "source": [
    "store_eval_score(evaluation_scores, \"RandomForest\")"
   ]
  },
  {
   "cell_type": "code",
   "execution_count": null,
   "id": "ca29201a",
   "metadata": {
    "pycharm": {
     "name": "#%%\n"
    }
   },
   "outputs": [],
   "source": [
    "# Inspecting the errors\n",
    "output_dict = {}\n",
    "output_array = np.c_[pic_ids_val, labels_val, pred_val] ## adjust name of pic_ids and labels depending on train or val\n",
    "\n",
    "# Create error array with specific error\n",
    "err_type_arr = np.array([])\n",
    "for i in range(len(output_array)):\n",
    "    if output_array[i,1] != output_array[i,2]:\n",
    "        err_type_arr = np.append(err_type_arr, \"error\")\n",
    "    else:\n",
    "        err_type_arr = np.append(err_type_arr, \"No error\")\n",
    "\n",
    "error_table_pd = pd.DataFrame(output_array)\n",
    "error_table_pd.rename(columns = {0:'Picture ID', 1:\"Label\", 2:\"Predicted\"}, inplace = True)\n",
    "error_table_pd[\"Error Check\"] = err_type_arr\n",
    "\n",
    "# print filtered error table\n",
    "print(error_table_pd.loc[error_table_pd[\"Error Check\"].isin([\"error\"])].sort_values(by=[\"Label\", \"Picture ID\"]))"
   ]
  },
  {
   "cell_type": "code",
   "execution_count": null,
   "id": "cbb9782b",
   "metadata": {
    "pycharm": {
     "name": "#%%\n"
    }
   },
   "outputs": [],
   "source": [
    "# transform pd frame into dictionary for saving\n",
    "output_dict[\"error_table\"] = error_table_pd\n",
    "\n",
    "# saving the error table\n",
    "store_error_table(output_dict, \"RandomForest\")"
   ]
  },
  {
   "cell_type": "code",
   "execution_count": null,
   "id": "739eb77e",
   "metadata": {
    "pycharm": {
     "name": "#%%\n"
    }
   },
   "outputs": [],
   "source": [
    "## Multiclass Confusion Matrix"
   ]
  },
  {
   "cell_type": "code",
   "execution_count": null,
   "id": "f0063947",
   "metadata": {
    "pycharm": {
     "name": "#%%\n"
    }
   },
   "outputs": [],
   "source": [
    "from sklearn.metrics import ConfusionMatrixDisplay, confusion_matrix\n",
    "import matplotlib.pyplot as plt\n",
    "\n",
    "cm = confusion_matrix(labels_val, pred_val)\n",
    "cm = confusion_matrix(np.arange(26), np.arange(26))\n",
    "cmp = ConfusionMatrixDisplay(cm, display_labels=np.arange(26))\n",
    "fig, ax = plt.subplots(figsize=(10,10))"
   ]
  },
  {
   "cell_type": "code",
   "execution_count": null,
   "id": "1335f5c4",
   "metadata": {
    "pycharm": {
     "name": "#%%\n"
    }
   },
   "outputs": [],
   "source": [
    "cmp.plot(ax=ax)"
   ]
  },
  {
   "cell_type": "code",
   "execution_count": null,
   "id": "456ec9e5",
   "metadata": {
    "pycharm": {
     "name": "#%%\n"
    }
   },
   "outputs": [],
   "source": [
    "disp = ConfusionMatrixDisplay.from_predictions(labels_val, pred_val)"
   ]
  },
  {
   "cell_type": "code",
   "execution_count": null,
   "id": "447dca4d",
   "metadata": {
    "pycharm": {
     "name": "#%%\n"
    }
   },
   "outputs": [],
   "source": [
    "disp = disp.plt()"
   ]
  },
  {
   "cell_type": "code",
   "execution_count": null,
   "id": "935431b8",
   "metadata": {
    "pycharm": {
     "name": "#%%\n"
    }
   },
   "outputs": [],
   "source": [
    "# saving the confusion matrix\n",
    "store_conf_matrix(fig, \"RandomForest\")"
   ]
  },
  {
   "cell_type": "markdown",
   "id": "c98491f4",
   "metadata": {},
   "source": [
    "# Hyperparamter Tuning RandomForest Classifier\n"
   ]
  },
  {
   "cell_type": "markdown",
   "id": "5338ddd8",
   "metadata": {},
   "source": [
    "## Learning curve"
   ]
  },
  {
   "cell_type": "code",
   "execution_count": null,
   "id": "6c32d6d2",
   "metadata": {},
   "outputs": [],
   "source": [
    "from sklearn.model_selection import GridSearchCV, RandomizedSearchCV"
   ]
  },
  {
   "cell_type": "code",
   "execution_count": 14,
   "id": "1e9ee9e6",
   "metadata": {},
   "outputs": [
    {
     "name": "stdout",
     "output_type": "stream",
     "text": [
      "Fitting 3 folds for each of 7 candidates, totalling 21 fits\n"
     ]
    },
    {
     "data": {
      "text/plain": [
       "GridSearchCV(cv=3, estimator=RandomForestClassifier(max_depth=10), n_jobs=-1,\n",
       "             param_grid={'n_estimators': [10, 50, 100, 200, 300, 400, 500]},\n",
       "             refit=False, return_train_score=True, scoring='precision_macro',\n",
       "             verbose=2)"
      ]
     },
     "execution_count": 14,
     "metadata": {},
     "output_type": "execute_result"
    }
   ],
   "source": [
    "# Perform Grid-Search Search\n",
    "\n",
    "\n",
    "randomized_search = GridSearchCV(estimator = RandomForestClassifier(max_depth=10),\n",
    "                           param_grid = {'n_estimators':[10,50,100,200,300,400,500]},\n",
    "                           cv = 3,\n",
    "                           scoring= \"precision_macro\",\n",
    "                           refit = False,\n",
    "                           n_jobs = -1,\n",
    "                           verbose = 2,\n",
    "                           return_train_score = True)\n",
    "\n",
    "randomized_search.fit(img_data_train, labels_train)\n",
    "\n",
    "\n"
   ]
  },
  {
   "cell_type": "code",
   "execution_count": 32,
   "id": "ea13ce79",
   "metadata": {},
   "outputs": [],
   "source": [
    "def plot_results(model, param = 'n_estimators', name = 'Num Trees'):\n",
    "    param_name = 'param_%s' % param\n",
    "\n",
    "    # Extract information from the cross validation model\n",
    "    train_scores = model.cv_results_['mean_train_score']\n",
    "    test_scores = model.cv_results_['mean_test_score']\n",
    "    train_time = model.cv_results_['mean_fit_time']\n",
    "    param_values = list(model.cv_results_[param_name])\n",
    "    \n",
    "    # Plot the scores over the parameter\n",
    "    plt.subplots(1, 2, figsize=(10, 6))\n",
    "    plt.subplot(121)\n",
    "    plt.plot(param_values, train_scores, 'bo-', label = 'train')\n",
    "    plt.plot(param_values, test_scores, 'go-', label = 'test')\n",
    "    plt.ylim(ymin = 0, ymax = 0.1)\n",
    "    plt.legend()\n",
    "    plt.xlabel(name)\n",
    "    plt.ylabel('Precision')\n",
    "    plt.title('Score vs %s' % name)\n",
    "    \n",
    "    plt.subplot(122)\n",
    "    plt.plot(param_values, train_time, 'ro-')\n",
    "    plt.ylim(ymin = 0.0, ymax = 300)\n",
    "    plt.xlabel(name)\n",
    "    plt.ylabel('Train Time (sec)')\n",
    "    plt.title('Training Time vs %s' % name)\n",
    "    \n",
    "    \n",
    "    plt.tight_layout(pad = 4)\n",
    "    \n",
    "    plt.savefig(ROOT_PATH_FIG + \"learning_curve_RF\" + \".jpg\")"
   ]
  },
  {
   "cell_type": "code",
   "execution_count": 21,
   "id": "f72df3b8",
   "metadata": {},
   "outputs": [
    {
     "data": {
      "text/plain": [
       "array([0.69016397, 0.42895105, 0.27782169, 0.30356847, 0.277937  ,\n",
       "       0.27794123, 0.27793349])"
      ]
     },
     "execution_count": 21,
     "metadata": {},
     "output_type": "execute_result"
    }
   ],
   "source": [
    "randomized_search.cv_results_[\"mean_train_score\"]"
   ]
  },
  {
   "cell_type": "code",
   "execution_count": 24,
   "id": "c96023ba",
   "metadata": {},
   "outputs": [
    {
     "data": {
      "text/plain": [
       "<bound method BaseEstimator.get_params of GridSearchCV(cv=3, estimator=RandomForestClassifier(max_depth=10), n_jobs=-1,\n",
       "             param_grid={'n_estimators': [10, 50, 100, 200, 300, 400, 500]},\n",
       "             refit=False, return_train_score=True, scoring='precision_macro',\n",
       "             verbose=2)>"
      ]
     },
     "execution_count": 24,
     "metadata": {},
     "output_type": "execute_result"
    }
   ],
   "source": [
    "randomized_search.get_params"
   ]
  },
  {
   "cell_type": "code",
   "execution_count": 33,
   "id": "ca60af5e",
   "metadata": {},
   "outputs": [
    {
     "data": {
      "image/png": "[encoded data removed]",
      "text/plain": [
       "<Figure size 720x432 with 2 Axes>"
      ]
     },
     "metadata": {
      "needs_background": "light"
     },
     "output_type": "display_data"
    }
   ],
   "source": [
    "plot_results(randomized_search)"
   ]
  },
  {
   "cell_type": "markdown",
   "id": "4400c5cf",
   "metadata": {},
   "source": [
    "## RandomizedSearch and GridSearch"
   ]
  },
  {
   "cell_type": "code",
   "execution_count": 23,
   "id": "64bfd604",
   "metadata": {
    "pycharm": {
     "name": "#%%\n"
    }
   },
   "outputs": [],
   "source": [
    "# Selecting Parameters of Random Forest Classifier for Grid Search\n",
    "\n",
    "params_grid_RF = [\n",
    "    {\"n_estimators\": [10, 20, 40, 60, 80, 100],\n",
    "     \"criterion\":[\"gini\",\"entropy\"],\n",
    "     \"max_features\": [\"auto\", \"log2\", \"sqrt\"],\n",
    "     \"bootstrap\": [True, False],\n",
    "     \"max_depth\": [10],\n",
    "     \"min_samples_leaf\": [1, 2, 4],\n",
    "     \"min_samples_split\": [2, 5, 10]}\n",
    "]\n"
   ]
  },
  {
   "cell_type": "code",
   "execution_count": null,
   "id": "11d647b7",
   "metadata": {
    "pycharm": {
     "name": "#%%\n"
    }
   },
   "outputs": [],
   "source": [
    "classifier_RF_hyper = RandomForestClassifier(n_estimators=1000,max_depth=10)\n",
    "classifier_RF_hyper.fit(img_data_train, labels_train)"
   ]
  },
  {
   "cell_type": "code",
   "execution_count": 13,
   "id": "acefe017",
   "metadata": {},
   "outputs": [],
   "source": [
    "labels_pred = classifier_RF_hyper.predict(img_data_val)"
   ]
  },
  {
   "cell_type": "code",
   "execution_count": 14,
   "id": "2ec68af5",
   "metadata": {},
   "outputs": [
    {
     "data": {
      "text/plain": [
       "0.03867200464785928"
      ]
     },
     "execution_count": 14,
     "metadata": {},
     "output_type": "execute_result"
    }
   ],
   "source": [
    "recall_score(labels_val, labels_pred, average=\"macro\")"
   ]
  },
  {
   "cell_type": "code",
   "execution_count": null,
   "id": "02a72a28",
   "metadata": {
    "pycharm": {
     "name": "#%%\n"
    }
   },
   "outputs": [
    {
     "name": "stdout",
     "output_type": "stream",
     "text": [
      "Fitting 3 folds for each of 10 candidates, totalling 30 fits\n"
     ]
    },
    {
     "name": "stderr",
     "output_type": "stream",
     "text": [
      "/Library/Frameworks/Python.framework/Versions/3.7/lib/python3.7/site-packages/sklearn/metrics/_classification.py:1318: UndefinedMetricWarning: Precision is ill-defined and being set to 0.0 in labels with no predicted samples. Use `zero_division` parameter to control this behavior.\n",
      "  _warn_prf(average, modifier, msg_start, len(result))\n"
     ]
    },
    {
     "name": "stdout",
     "output_type": "stream",
     "text": [
      "[CV 1/3] END bootstrap=True, criterion=gini, max_depth=90, max_features=sqrt, min_samples_leaf=2, min_samples_split=2, n_estimators=2000; f1_macro: (train=0.995, test=0.015) precision_macro: (train=0.998, test=0.026) recall_macro: (train=0.992, test=0.039) total time=36.0min\n"
     ]
    },
    {
     "name": "stderr",
     "output_type": "stream",
     "text": [
      "/Library/Frameworks/Python.framework/Versions/3.7/lib/python3.7/site-packages/sklearn/metrics/_classification.py:1318: UndefinedMetricWarning: Precision is ill-defined and being set to 0.0 in labels with no predicted samples. Use `zero_division` parameter to control this behavior.\n",
      "  _warn_prf(average, modifier, msg_start, len(result))\n"
     ]
    },
    {
     "name": "stdout",
     "output_type": "stream",
     "text": [
      "[CV 2/3] END bootstrap=True, criterion=gini, max_depth=90, max_features=sqrt, min_samples_leaf=2, min_samples_split=2, n_estimators=2000; f1_macro: (train=0.995, test=0.014) precision_macro: (train=0.999, test=0.015) recall_macro: (train=0.992, test=0.038) total time=33.6min\n"
     ]
    },
    {
     "name": "stderr",
     "output_type": "stream",
     "text": [
      "/Library/Frameworks/Python.framework/Versions/3.7/lib/python3.7/site-packages/sklearn/metrics/_classification.py:1318: UndefinedMetricWarning: Precision is ill-defined and being set to 0.0 in labels with no predicted samples. Use `zero_division` parameter to control this behavior.\n",
      "  _warn_prf(average, modifier, msg_start, len(result))\n"
     ]
    },
    {
     "name": "stdout",
     "output_type": "stream",
     "text": [
      "[CV 3/3] END bootstrap=True, criterion=gini, max_depth=90, max_features=sqrt, min_samples_leaf=2, min_samples_split=2, n_estimators=2000; f1_macro: (train=0.994, test=0.014) precision_macro: (train=0.998, test=0.019) recall_macro: (train=0.989, test=0.039) total time=28.7min\n"
     ]
    }
   ],
   "source": [
    "# Perform Randomized Search\n",
    "\n",
    "scoring = [\"f1_macro\", \"precision_macro\", \"recall_macro\"]\n",
    "\n",
    "\n",
    "randomized_search = RandomizedSearchCV(estimator = classifier_RF_hyper,\n",
    "                           param_distributions = params_grid_RF,\n",
    "                           n_iter=10,\n",
    "                           cv = 3,\n",
    "                           scoring= scoring,\n",
    "                           refit = \"precision_macro\",\n",
    "                           n_jobs = 1,\n",
    "                           verbose = 3,\n",
    "                           return_train_score = True)\n",
    "\n",
    "randomized_search.fit(img_data_train, labels_train)\n",
    "\n"
   ]
  },
  {
   "cell_type": "code",
   "execution_count": null,
   "id": "0578be84",
   "metadata": {
    "pycharm": {
     "name": "#%%\n"
    }
   },
   "outputs": [],
   "source": [
    "# Perform Grid-Search\n",
    "# TAKES TOO LONG ON LOCAL MACHINE\n",
    "\n",
    "scoring = [\"f1_macro\", \"precision_macro\", \"recall_macro\"]\n",
    "\n",
    "\n",
    "grid_search = GridSearchCV(estimator = classifier_RF_hyper,\n",
    "                           param_grid = params_grid_RF,\n",
    "                           cv = 3,\n",
    "                           scoring= scoring,\n",
    "                           refit = \"precision_macro\",\n",
    "                           n_jobs = -1,\n",
    "                           verbose = 3,\n",
    "                           return_train_score = True)\n",
    "\n",
    "grid_search.fit(img_data_train, labels_train)"
   ]
  },
  {
   "cell_type": "code",
   "execution_count": null,
   "id": "11d46f9d",
   "metadata": {
    "pycharm": {
     "name": "#%%\n"
    }
   },
   "outputs": [],
   "source": [
    "print(randomized_search.best_params_)\n",
    "best_hyppar_dict = {}\n",
    "best_hyppar_dict[\"Randomized_Search_Best_Params\"] = randomized_search.best_params_"
   ]
  },
  {
   "cell_type": "code",
   "execution_count": null,
   "id": "9eff8f5a",
   "metadata": {
    "pycharm": {
     "name": "#%%\n"
    }
   },
   "outputs": [],
   "source": [
    "def store_best_hyperpar(image_df, classifier_name):\n",
    "    savez_compressed(OUTPUT_PATH_HYPPAR_TUN + \"/best_hyperpar_\"+str(classifier_name)+\".npz\",image_df)\n",
    "    print(\"file successfully stored in: output/ml_models/04_hyperparamter_tuning\")"
   ]
  },
  {
   "cell_type": "code",
   "execution_count": null,
   "id": "b3fd6faf",
   "metadata": {
    "pycharm": {
     "name": "#%%\n"
    }
   },
   "outputs": [],
   "source": [
    "best_params_dict = best_hyppar_dict\n",
    "store_best_hyperpar(best_params_dict, \"RandomForestTuned\")"
   ]
  },
  {
   "cell_type": "markdown",
   "id": "ff2f5f8e",
   "metadata": {},
   "source": [
    "## Evaluate tuned RF classifier"
   ]
  },
  {
   "cell_type": "code",
   "execution_count": 34,
   "id": "b1484583",
   "metadata": {
    "pycharm": {
     "name": "#%%\n"
    }
   },
   "outputs": [
    {
     "data": {
      "text/plain": [
       "RandomForestClassifier(class_weight='balanced_subsample', max_depth=10,\n",
       "                       max_features='sqrt', n_estimators=10)"
      ]
     },
     "execution_count": 34,
     "metadata": {},
     "output_type": "execute_result"
    }
   ],
   "source": [
    "## define the tuned classifier with the best hyperparamters\n",
    "\n",
    "num_trees = 10 \n",
    "\n",
    "classifier_RF_tuned = RandomForestClassifier(class_weight='balanced_subsample',\n",
    "                                      max_depth=10,\n",
    "                                      max_features='sqrt',\n",
    "                                      n_estimators=num_trees)\n",
    "\n",
    "classifier_RF_tuned.fit(img_data_train,labels_train)"
   ]
  },
  {
   "cell_type": "code",
   "execution_count": 35,
   "id": "794d3cc8",
   "metadata": {
    "pycharm": {
     "name": "#%%\n"
    }
   },
   "outputs": [],
   "source": [
    "# store predictions of classifier\n",
    "pred_train = classifier_RF_tuned.predict(img_data_train)\n",
    "pred_val = classifier_RF_tuned.predict(img_data_val)\n",
    "\n",
    "# evaluate classifier and store metrics\n",
    "evaluation_scores = {\"Accuracy Score Train\": accuracy_score(labels_train, pred_train).round(3),\n",
    "                     \"Accuracy Score Validation\": accuracy_score(labels_val, pred_val).round(3),\n",
    "                     \"Precision Score Train\": precision_score(labels_train, pred_train, average = \"macro\").round(3),\n",
    "                     \"Precision Score Validation\": precision_score(labels_val, pred_val, average = \"macro\").round(3),\n",
    "                     \"Recall Score Train\": recall_score(labels_train, pred_train, average = \"macro\").round(3),\n",
    "                     \"Recall Score Validation\": recall_score(labels_val, pred_val, average = \"macro\").round(3),\n",
    "                     \"F1 Score Train\": f1_score(labels_train, pred_train, average=\"macro\").round(3),\n",
    "                     \"F1 Score Validation\": f1_score(labels_val, pred_val, average=\"macro\").round(3)}\n"
   ]
  },
  {
   "cell_type": "code",
   "execution_count": 39,
   "id": "cee9e9c1",
   "metadata": {
    "pycharm": {
     "name": "#%%\n"
    }
   },
   "outputs": [
    {
     "name": "stdout",
     "output_type": "stream",
     "text": [
      "file successfully stored in: output/ml_models/02_training_set_evaluation\n"
     ]
    }
   ],
   "source": [
    "store_eval_score(evaluation_scores, \"RandomForest_tuned\")"
   ]
  },
  {
   "cell_type": "code",
   "execution_count": 41,
   "id": "df53f9c3",
   "metadata": {},
   "outputs": [
    {
     "data": {
      "text/plain": [
       "{'Accuracy Score Train': 0.099,\n",
       " 'Accuracy Score Validation': 0.028,\n",
       " 'Precision Score Train': 0.143,\n",
       " 'Precision Score Validation': 0.041,\n",
       " 'Recall Score Train': 0.293,\n",
       " 'Recall Score Validation': 0.041,\n",
       " 'F1 Score Train': 0.099,\n",
       " 'F1 Score Validation': 0.023}"
      ]
     },
     "execution_count": 41,
     "metadata": {},
     "output_type": "execute_result"
    }
   ],
   "source": [
    "evaluation_scores"
   ]
  },
  {
   "cell_type": "code",
   "execution_count": 42,
   "id": "ce2049dc",
   "metadata": {},
   "outputs": [
    {
     "name": "stdout",
     "output_type": "stream",
     "text": [
      "               Picture ID                Label             Predicted  \\\n",
      "10177  000be9acf46619.jpg               beluga             sei_whale   \n",
      "8465   0039955230421d.jpg               beluga    melon_headed_whale   \n",
      "7302   003ab41b6147f4.jpg               beluga    pygmy_killer_whale   \n",
      "2424   00d113413a1d49.jpg               beluga          brydes_whale   \n",
      "5262   00e828b22fe365.jpg               beluga          brydes_whale   \n",
      "...                   ...                  ...                   ...   \n",
      "8849   efa85540ab2586.jpg  white_sided_dolphin    false_killer_whale   \n",
      "7800   f02f3ae99c3d9c.jpg  white_sided_dolphin    bottlenose_dolphin   \n",
      "1556   f1233d55638316.jpg  white_sided_dolphin             sei_whale   \n",
      "8265   fd1f3537526309.jpg  white_sided_dolphin  southern_right_whale   \n",
      "2177   ff2c586b000bd9.jpg  white_sided_dolphin             sei_whale   \n",
      "\n",
      "      Error Check  \n",
      "10177       error  \n",
      "8465        error  \n",
      "7302        error  \n",
      "2424        error  \n",
      "5262        error  \n",
      "...           ...  \n",
      "8849        error  \n",
      "7800        error  \n",
      "1556        error  \n",
      "8265        error  \n",
      "2177        error  \n",
      "\n",
      "[10519 rows x 4 columns]\n"
     ]
    }
   ],
   "source": [
    "# Inspecting the errors\n",
    "output_dict = {}\n",
    "output_array = np.c_[pic_ids_val, labels_val, pred_val] ## adjust name of pic_ids and labels depending on train or val\n",
    "\n",
    "# Create error array with specific error\n",
    "err_type_arr = np.array([])\n",
    "for i in range(len(output_array)):\n",
    "    if output_array[i,1] != output_array[i,2]:\n",
    "        err_type_arr = np.append(err_type_arr, \"error\")\n",
    "    else:\n",
    "        err_type_arr = np.append(err_type_arr, \"No error\")\n",
    "\n",
    "error_table_pd = pd.DataFrame(output_array)\n",
    "error_table_pd.rename(columns = {0:'Picture ID', 1:\"Label\", 2:\"Predicted\"}, inplace = True)\n",
    "error_table_pd[\"Error Check\"] = err_type_arr\n",
    "\n",
    "# print filtered error table\n",
    "print(error_table_pd.loc[error_table_pd[\"Error Check\"].isin([\"error\"])].sort_values(by=[\"Label\", \"Picture ID\"]))"
   ]
  },
  {
   "cell_type": "code",
   "execution_count": 43,
   "id": "fccf6517",
   "metadata": {},
   "outputs": [
    {
     "name": "stdout",
     "output_type": "stream",
     "text": [
      "file successfully stored in: output/ml_models/02_training_set_evaluation\n"
     ]
    }
   ],
   "source": [
    "# transform pd frame into dictionary for saving\n",
    "output_dict[\"error_table\"] = error_table_pd\n",
    "\n",
    "# saving the error table\n",
    "store_error_table(output_dict, \"RandomForest_tuned\")"
   ]
  },
  {
   "cell_type": "code",
   "execution_count": null,
   "id": "d68800f9",
   "metadata": {
    "pycharm": {
     "name": "#%%\n"
    }
   },
   "outputs": [],
   "source": [
    "## Multiclass Confusion Matrix"
   ]
  },
  {
   "cell_type": "markdown",
   "id": "055983c9",
   "metadata": {},
   "source": [
    "### Checking Feature importance of RF"
   ]
  },
  {
   "cell_type": "code",
   "execution_count": null,
   "id": "1cc09c13",
   "metadata": {},
   "outputs": [],
   "source": [
    "# This needs to be done on the full image data (pre-PCA)"
   ]
  },
  {
   "cell_type": "code",
   "execution_count": 73,
   "id": "c294d0a7",
   "metadata": {
    "pycharm": {
     "name": "#%%\n"
    }
   },
   "outputs": [
    {
     "data": {
      "text/plain": [
       "RandomForestClassifier(class_weight='balanced_subsample', max_depth=10,\n",
       "                       max_features='sqrt', n_estimators=10)"
      ]
     },
     "execution_count": 73,
     "metadata": {},
     "output_type": "execute_result"
    }
   ],
   "source": [
    "## define the tuned classifier with the best hyperparamters\n",
    "\n",
    "num_trees = 10 # change to actual value\n",
    "\n",
    "classifier_RF_tuned_no_PCA = RandomForestClassifier(class_weight='balanced_subsample',\n",
    "                                      max_depth=10,\n",
    "                                      max_features='sqrt',\n",
    "                                      n_estimators=num_trees)\n",
    "\n",
    "classifier_RF_tuned.fit(img_data_train_no_PCA,labels_train_no_PCA)"
   ]
  },
  {
   "cell_type": "code",
   "execution_count": 76,
   "id": "61ceae76",
   "metadata": {},
   "outputs": [],
   "source": [
    "classifier_RF_tuned_no_PCA = classifier_RF_tuned"
   ]
  },
  {
   "cell_type": "code",
   "execution_count": 74,
   "id": "c0716bb6",
   "metadata": {
    "pycharm": {
     "name": "#%%\n"
    }
   },
   "outputs": [],
   "source": [
    "# Defining the function to plot the digits of feature importance\n",
    "# Adapted from Aurelien Geron:\n",
    "\n",
    "pix_res = 48\n",
    "\n",
    "def plot_digit(data):\n",
    "    image = data.reshape(pix_res, pix_res)\n",
    "    plt.imshow(image, cmap = mpl.cm.hot,\n",
    "               interpolation=\"nearest\")\n",
    "    plt.axis(\"off\")"
   ]
  },
  {
   "cell_type": "code",
   "execution_count": 77,
   "id": "9fa40bc3",
   "metadata": {
    "pycharm": {
     "name": "#%%\n"
    }
   },
   "outputs": [],
   "source": [
    "# Adding feature importances from 3 RGB values to one pixel\n",
    "feature_imp_sum = np.empty([(int(len(classifier_RF_tuned_no_PCA.feature_importances_)/3)),])\n",
    "\n",
    "for itr in range(int(len(classifier_RF_tuned_no_PCA.feature_importances_)/3)):\n",
    "    r = int(itr*3)\n",
    "    g = int(r+1)\n",
    "    b = int(g+1)\n",
    "    feature_imp_sum[itr] = classifier_RF_tuned_no_PCA.feature_importances_[r] + classifier_RF_tuned_no_PCA.feature_importances_[g] + classifier_RF_tuned_no_PCA.feature_importances_[b]\n"
   ]
  },
  {
   "cell_type": "code",
   "execution_count": 78,
   "id": "398aa31e",
   "metadata": {
    "pycharm": {
     "name": "#%%\n"
    }
   },
   "outputs": [
    {
     "data": {
      "text/plain": [
       "[Text(1, 0.0, 'Not important'),\n",
       " Text(1, 0.014241374140736073, 'Very important')]"
      ]
     },
     "execution_count": 78,
     "metadata": {},
     "output_type": "execute_result"
    },
    {
     "data": {
      "image/png": "[encoded data removed]",
      "text/plain": [
       "<Figure size 432x288 with 2 Axes>"
      ]
     },
     "metadata": {
      "needs_background": "light"
     },
     "output_type": "display_data"
    }
   ],
   "source": [
    "# Plotting feature importance sum for every pixel to a plot and save it\n",
    "plot_digit(feature_imp_sum)\n",
    "\n",
    "cbar = plt.colorbar(ticks=[feature_imp_sum.min(), feature_imp_sum.max()])\n",
    "cbar.ax.set_yticklabels(['Not important', 'Very important'])"
   ]
  },
  {
   "cell_type": "code",
   "execution_count": 87,
   "id": "31ebfc79",
   "metadata": {
    "pycharm": {
     "name": "#%%\n"
    }
   },
   "outputs": [
    {
     "name": "stdout",
     "output_type": "stream",
     "text": [
      ">... Saving figure RandomForest_feature_importance_plot_full_data\n"
     ]
    },
    {
     "data": {
      "text/plain": [
       "<Figure size 432x288 with 0 Axes>"
      ]
     },
     "metadata": {},
     "output_type": "display_data"
    }
   ],
   "source": [
    "save_fig(\"RandomForest_feature_importance_plot_full_data\")\n"
   ]
  },
  {
   "cell_type": "markdown",
   "id": "6385eefc",
   "metadata": {},
   "source": [
    "## Implementing XGBoost as second advanced model"
   ]
  },
  {
   "cell_type": "code",
   "execution_count": 95,
   "id": "875fad76",
   "metadata": {},
   "outputs": [],
   "source": [
    "from sklearn.preprocessing import LabelEncoder\n",
    "\n",
    "labels_encoder_train = LabelEncoder().fit(y=labels_train)\n"
   ]
  },
  {
   "cell_type": "code",
   "execution_count": 96,
   "id": "b86d8322",
   "metadata": {},
   "outputs": [],
   "source": [
    "labels_train_enc = labels_encoder_train.transform(y=labels_train)"
   ]
  },
  {
   "cell_type": "code",
   "execution_count": 60,
   "id": "c4df6428",
   "metadata": {},
   "outputs": [
    {
     "data": {
      "text/plain": [
       "array(['dusky_dolphin', 'beluga', 'bottlenose_dolphin', ...,\n",
       "       'minke_whale', 'humpback_whale', 'humpback_whale'], dtype=object)"
      ]
     },
     "execution_count": 60,
     "metadata": {},
     "output_type": "execute_result"
    }
   ],
   "source": [
    "labels_encoder.inverse_transform(labels_train_enc)"
   ]
  },
  {
   "cell_type": "code",
   "execution_count": 97,
   "id": "d3f0d244",
   "metadata": {},
   "outputs": [],
   "source": [
    "labels_encoder_val = LabelEncoder().fit(y=labels_val)"
   ]
  },
  {
   "cell_type": "code",
   "execution_count": 98,
   "id": "4b8358a4",
   "metadata": {},
   "outputs": [],
   "source": [
    "labels_val_enc = labels_encoder_val.transform(y=labels_val)"
   ]
  },
  {
   "cell_type": "code",
   "execution_count": null,
   "id": "ee3fea6c",
   "metadata": {},
   "outputs": [],
   "source": [
    "labels_encoder_test = LabelEncoder().fit(y=labels_test)"
   ]
  },
  {
   "cell_type": "code",
   "execution_count": null,
   "id": "728567e6",
   "metadata": {},
   "outputs": [],
   "source": [
    "labels_test_enc = labels_encoder_val.transform(y=labels_test)"
   ]
  },
  {
   "cell_type": "code",
   "execution_count": 63,
   "id": "b970c6b5",
   "metadata": {
    "pycharm": {
     "name": "#%%\n"
    }
   },
   "outputs": [
    {
     "name": "stderr",
     "output_type": "stream",
     "text": [
      "/Library/Frameworks/Python.framework/Versions/3.7/lib/python3.7/site-packages/xgboost/sklearn.py:797: UserWarning: `early_stopping_rounds` in `fit` method is deprecated for better compatibility with scikit-learn, use `early_stopping_rounds` in constructor or`set_params` instead.\n",
      "  UserWarning,\n"
     ]
    },
    {
     "name": "stdout",
     "output_type": "stream",
     "text": [
      "[0]\tvalidation_0-auc:0.49758\n",
      "[1]\tvalidation_0-auc:0.49400\n",
      "[2]\tvalidation_0-auc:0.49482\n",
      "[3]\tvalidation_0-auc:0.49651\n",
      "[4]\tvalidation_0-auc:0.49656\n",
      "[5]\tvalidation_0-auc:0.49524\n"
     ]
    },
    {
     "data": {
      "text/plain": [
       "XGBClassifier(base_score=0.5, booster='gbtree', callbacks=None,\n",
       "              colsample_bylevel=1, colsample_bynode=1, colsample_bytree=1,\n",
       "              early_stopping_rounds=None, enable_categorical=False,\n",
       "              eval_metric='auc', gamma=0, gpu_id=-1, grow_policy='depthwise',\n",
       "              importance_type=None, interaction_constraints='',\n",
       "              learning_rate=0.300000012, max_bin=256, max_cat_to_onehot=4,\n",
       "              max_delta_step=0, max_depth=6, max_leaves=0, min_child_weight=1,\n",
       "              missing=nan, monotone_constraints='()', n_estimators=100,\n",
       "              n_jobs=0, num_parallel_tree=1, objective='multi:softprob',\n",
       "              predictor='auto', random_state=42, reg_alpha=0, ...)"
      ]
     },
     "execution_count": 63,
     "metadata": {},
     "output_type": "execute_result"
    }
   ],
   "source": [
    "\n",
    "\n",
    "classifier_XGB = xgb.XGBClassifier(objective=\"multi:softprob\", random_state=42, eval_metric=\"auc\")\n",
    "classifier_XGB.fit(img_data_train, labels_train_enc, early_stopping_rounds=5, eval_set=[(img_data_val, labels_val_enc)])\n"
   ]
  },
  {
   "cell_type": "markdown",
   "id": "4ec4a7c3",
   "metadata": {},
   "source": [
    "## Evaluating XGBoost Classifier"
   ]
  },
  {
   "cell_type": "code",
   "execution_count": 64,
   "id": "dc39337f",
   "metadata": {
    "pycharm": {
     "name": "#%%\n"
    }
   },
   "outputs": [],
   "source": [
    "# store predictions of classifier\n",
    "pred_train = classifier_XGB.predict(img_data_train)\n",
    "pred_val = classifier_XGB.predict(img_data_val)"
   ]
  },
  {
   "cell_type": "code",
   "execution_count": 67,
   "id": "04a4a1f7",
   "metadata": {
    "pycharm": {
     "name": "#%%\n"
    }
   },
   "outputs": [
    {
     "name": "stderr",
     "output_type": "stream",
     "text": [
      "/Library/Frameworks/Python.framework/Versions/3.7/lib/python3.7/site-packages/sklearn/metrics/_classification.py:1318: UndefinedMetricWarning: Precision is ill-defined and being set to 0.0 in labels with no predicted samples. Use `zero_division` parameter to control this behavior.\n",
      "  _warn_prf(average, modifier, msg_start, len(result))\n",
      "/Library/Frameworks/Python.framework/Versions/3.7/lib/python3.7/site-packages/sklearn/metrics/_classification.py:1318: UndefinedMetricWarning: Precision is ill-defined and being set to 0.0 in labels with no predicted samples. Use `zero_division` parameter to control this behavior.\n",
      "  _warn_prf(average, modifier, msg_start, len(result))\n"
     ]
    }
   ],
   "source": [
    "# evaluate classifier and store metrics\n",
    "evaluation_scores = {\"Accuracy Score Train\": accuracy_score(labels_train_enc, pred_train).round(3),\n",
    "                     \"Accuracy Score Validation\": accuracy_score(labels_val_enc, pred_val).round(3),\n",
    "                     \"Precision Score Train\": precision_score(labels_train_enc, pred_train, average = \"macro\").round(3),\n",
    "                     \"Precision Score Validation\": precision_score(labels_val_enc, pred_val, average = \"macro\").round(3),\n",
    "                     \"Recall Score Train\": recall_score(labels_train_enc, pred_train, average = \"macro\").round(3),\n",
    "                     \"Recall Score Validation\": recall_score(labels_val_enc, pred_val, average = \"macro\").round(3),\n",
    "                     \"F1 Score Train\": f1_score(labels_train_enc, pred_train, average=\"macro\").round(3),\n",
    "                     \"F1 Score Validation\": f1_score(labels_val_enc, pred_val, average=\"macro\").round(3)}"
   ]
  },
  {
   "cell_type": "code",
   "execution_count": 71,
   "id": "7de0c91e",
   "metadata": {
    "pycharm": {
     "name": "#%%\n"
    }
   },
   "outputs": [
    {
     "name": "stdout",
     "output_type": "stream",
     "text": [
      "file successfully stored in: output/ml_models/02_training_set_evaluation\n"
     ]
    }
   ],
   "source": [
    "store_eval_score(evaluation_scores, \"XGBoost\")"
   ]
  },
  {
   "cell_type": "code",
   "execution_count": 73,
   "id": "0d0e8100",
   "metadata": {
    "pycharm": {
     "name": "#%%\n"
    }
   },
   "outputs": [
    {
     "name": "stdout",
     "output_type": "stream",
     "text": [
      "               Picture ID Label Predicted Error Check\n",
      "10177  000be9acf46619.jpg     0         2       error\n",
      "8465   0039955230421d.jpg     0         2       error\n",
      "7302   003ab41b6147f4.jpg     0         2       error\n",
      "2424   00d113413a1d49.jpg     0         2       error\n",
      "5262   00e828b22fe365.jpg     0         2       error\n",
      "...                   ...   ...       ...         ...\n",
      "8849   efa85540ab2586.jpg    25         2       error\n",
      "7800   f02f3ae99c3d9c.jpg    25         2       error\n",
      "1556   f1233d55638316.jpg    25         2       error\n",
      "8265   fd1f3537526309.jpg    25         0       error\n",
      "2177   ff2c586b000bd9.jpg    25         2       error\n",
      "\n",
      "[8804 rows x 4 columns]\n"
     ]
    }
   ],
   "source": [
    "# Inspecting the errors\n",
    "output_dict = {}\n",
    "output_array = np.c_[pic_ids_val, labels_val_enc, pred_val] ## adjust name of pic_ids and labels depending on train or val\n",
    "\n",
    "# Create error array with specific error\n",
    "err_type_arr = np.array([])\n",
    "for i in range(len(output_array)):\n",
    "    if output_array[i,1] != output_array[i,2]:\n",
    "        err_type_arr = np.append(err_type_arr, \"error\")\n",
    "    else:\n",
    "        err_type_arr = np.append(err_type_arr, \"No error\")\n",
    "\n",
    "error_table_pd = pd.DataFrame(output_array)\n",
    "error_table_pd.rename(columns = {0:'Picture ID', 1:\"Label\", 2:\"Predicted\"}, inplace = True)\n",
    "error_table_pd[\"Error Check\"] = err_type_arr\n",
    "\n",
    "# print filtered error table\n",
    "print(error_table_pd.loc[error_table_pd[\"Error Check\"].isin([\"error\"])].sort_values(by=[\"Label\", \"Picture ID\"]))"
   ]
  },
  {
   "cell_type": "code",
   "execution_count": 74,
   "id": "9642e1f6",
   "metadata": {
    "pycharm": {
     "name": "#%%\n"
    }
   },
   "outputs": [
    {
     "name": "stdout",
     "output_type": "stream",
     "text": [
      "file successfully stored in: output/ml_models/02_training_set_evaluation\n"
     ]
    }
   ],
   "source": [
    "# transform pd frame into dictionary for saving\n",
    "output_dict[\"error_table\"] = error_table_pd\n",
    "\n",
    "# saving the error table\n",
    "store_error_table(output_dict, \"XGBoost\")\n"
   ]
  },
  {
   "cell_type": "markdown",
   "id": "4a0aeba6",
   "metadata": {},
   "source": [
    "## Hyperparamter Tuning XGBoost Classifier"
   ]
  },
  {
   "cell_type": "markdown",
   "id": "def10d6f",
   "metadata": {},
   "source": [
    "## Learning curve"
   ]
  },
  {
   "cell_type": "code",
   "execution_count": null,
   "id": "d7c2341c",
   "metadata": {},
   "outputs": [
    {
     "name": "stdout",
     "output_type": "stream",
     "text": [
      "Fitting 3 folds for each of 7 candidates, totalling 21 fits\n"
     ]
    }
   ],
   "source": [
    "# Perform Grid-Search Search\n",
    "\n",
    "\n",
    "grid_search = GridSearchCV(estimator = xgb.XGBClassifier(max_depth=10),\n",
    "                           param_grid = {'n_estimators':[10,50,100,200,300,400,500]},\n",
    "                           cv = 3,\n",
    "                           scoring= \"precision_macro\",\n",
    "                           refit = False,\n",
    "                           n_jobs = -1,\n",
    "                           verbose = 2,\n",
    "                           return_train_score = True)\n",
    "\n",
    "grid_search.fit(img_data_train, labels_train_enc)\n",
    "\n",
    "\n"
   ]
  },
  {
   "cell_type": "code",
   "execution_count": null,
   "id": "b7d072bd",
   "metadata": {},
   "outputs": [],
   "source": [
    "def plot_results(model, param = 'n_estimators', name = 'Num Trees'):\n",
    "    param_name = 'param_%s' % param\n",
    "\n",
    "    # Extract information from the cross validation model\n",
    "    train_scores = model.cv_results_['mean_train_score']\n",
    "    test_scores = model.cv_results_['mean_test_score']\n",
    "    train_time = model.cv_results_['mean_fit_time']\n",
    "    param_values = list(model.cv_results_[param_name])\n",
    "    \n",
    "    # Plot the scores over the parameter\n",
    "    plt.subplots(1, 2, figsize=(10, 6))\n",
    "    plt.subplot(121)\n",
    "    plt.plot(param_values, train_scores, 'bo-', label = 'train')\n",
    "    plt.plot(param_values, test_scores, 'go-', label = 'test')\n",
    "    plt.ylim(ymin = 0, ymax = 0.1)\n",
    "    plt.legend()\n",
    "    plt.xlabel(name)\n",
    "    plt.ylabel('Precision')\n",
    "    plt.title('Score vs %s' % name)\n",
    "    \n",
    "    plt.subplot(122)\n",
    "    plt.plot(param_values, train_time, 'ro-')\n",
    "    plt.ylim(ymin = 0.0, ymax = 300)\n",
    "    plt.xlabel(name)\n",
    "    plt.ylabel('Train Time (sec)')\n",
    "    plt.title('Training Time vs %s' % name)\n",
    "    \n",
    "    \n",
    "    plt.tight_layout(pad = 4)\n",
    "    \n",
    "    plt.savefig(ROOT_PATH_FIG + \"learning_curve_XGB\" + \".jpg\")"
   ]
  },
  {
   "cell_type": "code",
   "execution_count": null,
   "id": "14a500ff",
   "metadata": {},
   "outputs": [],
   "source": [
    "grid_search.cv_results_[\"mean_train_score\"]"
   ]
  },
  {
   "cell_type": "code",
   "execution_count": null,
   "id": "740ddefa",
   "metadata": {},
   "outputs": [],
   "source": [
    "randomized_search.get_params"
   ]
  },
  {
   "cell_type": "code",
   "execution_count": null,
   "id": "706e399c",
   "metadata": {},
   "outputs": [],
   "source": [
    "plot_results(grid_search)"
   ]
  },
  {
   "cell_type": "markdown",
   "id": "f15c286c",
   "metadata": {},
   "source": [
    "## RandomizedSearch and GridSearch"
   ]
  },
  {
   "cell_type": "code",
   "execution_count": null,
   "id": "002258b4",
   "metadata": {
    "pycharm": {
     "name": "#%%\n"
    }
   },
   "outputs": [],
   "source": [
    "from scipy.stats import uniform"
   ]
  },
  {
   "cell_type": "code",
   "execution_count": null,
   "id": "27de941f",
   "metadata": {
    "pycharm": {
     "name": "#%%\n"
    }
   },
   "outputs": [],
   "source": [
    "# Selecting Parameters of XGBoost Classifier for Grid Search\n",
    "\n",
    "params_grid_XGB = [{\n",
    "    \"colsample_bytree\": uniform(0.7, 0.3),\n",
    "    \"gamma\": uniform(0, 0.5),\n",
    "    \"learning_rate\": uniform(0.03, 0.3), # default 0.1\n",
    "    \"max_depth\": [15, 20 25],\n",
    "    \"n_estimators\": [400, 700, 1000],\n",
    "    \"subsample\": uniform(0.6, 0.4),\n",
    "    \"scale_pos_weight\": [10, 100]}\n",
    "]\n"
   ]
  },
  {
   "cell_type": "code",
   "execution_count": null,
   "id": "c7cd02ea",
   "metadata": {
    "pycharm": {
     "name": "#%%\n"
    }
   },
   "outputs": [],
   "source": [
    "classifier_XGB_hyper = xgb.XGBClassifier()"
   ]
  },
  {
   "cell_type": "code",
   "execution_count": null,
   "id": "9bb822dc",
   "metadata": {},
   "outputs": [],
   "source": [
    "# Perform Randomized Search\n",
    "\n",
    "scoring = [\"f1_macro\", \"precision_macro\", \"recall_macro\"]\n",
    "\n",
    "randomized_search = RandomizedSearchCV(estimator = classifier_XGB_hyper,\n",
    "                           param_grid = params_grid_XGB,\n",
    "                           n_iter = 10,\n",
    "                           cv = 3,\n",
    "                           scoring= scoring,\n",
    "                           refit = \"precision_macro\",\n",
    "                           n_jobs = -1,\n",
    "                           verbose = 3,\n",
    "                           return_train_score = True)\n",
    "\n",
    "grid_search.fit(img_data_train, labels_train)"
   ]
  },
  {
   "cell_type": "code",
   "execution_count": null,
   "id": "c38e17d8",
   "metadata": {
    "pycharm": {
     "name": "#%%\n"
    }
   },
   "outputs": [],
   "source": [
    "# Perform Grid-Search\n",
    "# TOO SLOW ON LOCAL MACHINE\n",
    "\n",
    "scoring = [\"f1_macro\", \"precision_macro\", \"recall_macro\"]\n",
    "\n",
    "grid_search = GridSearchCV(estimator = classifier_XGB_hyper,\n",
    "                           param_grid = params_grid_XGB,\n",
    "                           cv = 3,\n",
    "                           scoring= scoring,\n",
    "                           refit = \"precision\",\n",
    "                           n_jobs = -1,\n",
    "                           verbose = 3,\n",
    "                           return_train_score = True)\n",
    "\n",
    "grid_search.fit(img_data_train, labels_train)"
   ]
  },
  {
   "cell_type": "code",
   "execution_count": null,
   "id": "28c587e5",
   "metadata": {
    "pycharm": {
     "name": "#%%\n"
    }
   },
   "outputs": [],
   "source": [
    "print(randomized_search.best_params_)\n",
    "best_hyppar_dict = {}\n",
    "best_hyppar_dict[\"Randomized_Search_Best_Params\"] = randomized_search.best_params_\n"
   ]
  },
  {
   "cell_type": "code",
   "execution_count": null,
   "id": "fb496959",
   "metadata": {
    "pycharm": {
     "name": "#%%\n"
    }
   },
   "outputs": [],
   "source": [
    "best_params_dict = best_hyppar_dict\n",
    "store_best_hyperpar(best_params_dict, \"XGBoostTuned\")"
   ]
  },
  {
   "cell_type": "markdown",
   "id": "c7dea4db",
   "metadata": {},
   "source": [
    "## Evaluate tuned XGBoost classifier"
   ]
  },
  {
   "cell_type": "code",
   "execution_count": null,
   "id": "afb8fb1d",
   "metadata": {
    "pycharm": {
     "name": "#%%\n"
    }
   },
   "outputs": [],
   "source": [
    " ## define the tuned classifier with the best hyperparamters\n",
    "## these here are still random ones\n",
    "\n",
    "classifier_XGB_tuned = xgb.XGBClassifier(colsample_bytree = 0.7,\n",
    "                                         gamma = 0.5, \n",
    "                                         learning_rate = 0.3,\n",
    "                                         max_depth = 25, \n",
    "                                         subsample = 0.5,\n",
    "                                         n_estimators = 700,\n",
    "                                         scale_pos_weight = 100)\n",
    "\n",
    "classifier_XGB_tuned.fit(img_data_train,labels_train)"
   ]
  },
  {
   "cell_type": "code",
   "execution_count": null,
   "id": "0fea5983",
   "metadata": {
    "pycharm": {
     "name": "#%%\n"
    }
   },
   "outputs": [],
   "source": [
    "# store predictions of classifier\n",
    "pred_train = classifier_XGB_tuned.predict(img_data_train)\n",
    "pred_val = classifier_XGB_tuned.predict(img_data_val)\n",
    "\n",
    "# evaluate classifier and store metrics\n",
    "evaluation_scores = {\"Accuracy Score Train\": accuracy_score(labels_train_enc, pred_train, average = \"macro\").round(3),\n",
    "                     \"Accuracy Score Validation\": accuracy_score(labels_val_enc, pred_val, average = \"macro\").round(3),\n",
    "                     \"Precision Score Train\": precision_score(labels_train_enc, pred_train, average = \"macro\").round(3),\n",
    "                     \"Precision Score Validation\": precision_score(labels_val_enc, pred_val, average = \"macro\").round(3),\n",
    "                     \"Recall Score Train\": recall_score(labels_train_enc, pred_train, average = \"macro\").round(3),\n",
    "                     \"Recall Score Validation\": recall_score(labels_val_enc, pred_val, average = \"macro\").round(3),\n",
    "                     \"F1 Score Train\": f1_score(labels_train_enc, pred_train, average=\"macro\").round(3),\n",
    "                     \"F1 Score Validation\": f1_score(labels_val_enc, pred_val, average=\"macro\").round(3)}\n"
   ]
  },
  {
   "cell_type": "code",
   "execution_count": null,
   "id": "19242ee9",
   "metadata": {
    "pycharm": {
     "name": "#%%\n"
    }
   },
   "outputs": [],
   "source": [
    "store_eval_score(evaluation_scores, \"XGBoost_tuned\")"
   ]
  },
  {
   "cell_type": "code",
   "execution_count": null,
   "id": "129339f1",
   "metadata": {
    "pycharm": {
     "name": "#%%\n"
    }
   },
   "outputs": [],
   "source": [
    "## Multiclass Confusion Matrix\n",
    "\n",
    "\n"
   ]
  },
  {
   "cell_type": "markdown",
   "id": "537dadfe",
   "metadata": {},
   "source": [
    "## Speed improvements through dimensionality reduction"
   ]
  },
  {
   "cell_type": "markdown",
   "id": "f877a6bb",
   "metadata": {},
   "source": [
    "## The PCA was moved to the front because of computational limitations and the non-availability of a powerful server"
   ]
  },
  {
   "cell_type": "markdown",
   "id": "14dc5f07",
   "metadata": {},
   "source": [
    "### Performing Principal Component Analysis on the training data"
   ]
  },
  {
   "cell_type": "code",
   "execution_count": null,
   "id": "fce8a97a",
   "metadata": {
    "pycharm": {
     "name": "#%%\n"
    }
   },
   "outputs": [],
   "source": [
    "from sklearn.decomposition import PCA"
   ]
  },
  {
   "cell_type": "code",
   "execution_count": null,
   "id": "1f64a966",
   "metadata": {
    "pycharm": {
     "name": "#%%\n"
    }
   },
   "outputs": [],
   "source": [
    "img_data_full.shape"
   ]
  },
  {
   "cell_type": "code",
   "execution_count": null,
   "id": "9f7277c2",
   "metadata": {
    "pycharm": {
     "name": "#%%\n"
    }
   },
   "outputs": [],
   "source": [
    "# defining to keep 99% of the variance of the data\n",
    "pca = PCA(.99)\n",
    "img_data_full_red = pca.fit_transform(img_data_full)"
   ]
  },
  {
   "cell_type": "code",
   "execution_count": null,
   "id": "4221d653",
   "metadata": {
    "pycharm": {
     "name": "#%%\n"
    }
   },
   "outputs": [],
   "source": [
    "# checking how many features are left\n",
    "img_data_full_red.shape"
   ]
  },
  {
   "cell_type": "code",
   "execution_count": null,
   "id": "9ca4f1b0",
   "metadata": {
    "pycharm": {
     "name": "#%%\n"
    }
   },
   "outputs": [],
   "source": [
    "# Split into training and test set - 10.000 test set / 40.000 full training set\n",
    "# stratify = labels splits it proportionally to classes in the dataset\n",
    "\n",
    "from sklearn.model_selection import train_test_split\n",
    "img_data_train_full, img_data_test, labels_train_full, labels_test, pic_ids_train_full, pic_ids_test = train_test_split(img_data_full_red , labels_full, pic_ids_full, stratify=labels_full, test_size=0.2, random_state=42)"
   ]
  },
  {
   "cell_type": "code",
   "execution_count": null,
   "id": "680c8eb2",
   "metadata": {
    "pycharm": {
     "name": "#%%\n"
    }
   },
   "outputs": [],
   "source": [
    "# Split into training and validation set - 30.000 training set / 10.000 validation set\n",
    "from sklearn.model_selection import train_test_split\n",
    "img_data_train, img_data_val, labels_train, labels_val, pic_ids_train, pic_ids_val = train_test_split(img_data_train_full , labels_train_full, pic_ids_train_full, train_size=30000, random_state=42)"
   ]
  },
  {
   "cell_type": "markdown",
   "id": "f78c267e",
   "metadata": {},
   "source": [
    "### Evaluate speed tuned RF classifier"
   ]
  },
  {
   "cell_type": "code",
   "execution_count": null,
   "id": "e7915420",
   "metadata": {
    "pycharm": {
     "name": "#%%\n"
    }
   },
   "outputs": [],
   "source": []
  },
  {
   "cell_type": "code",
   "execution_count": null,
   "id": "9fc40d78",
   "metadata": {
    "pycharm": {
     "name": "#%%\n"
    }
   },
   "outputs": [],
   "source": [
    "## define the tuned classifier with the best hyperparamters\n",
    "## these here are still random ones\n",
    "\n",
    "num_trees = 10 # change to actual value\n",
    "\n",
    "classifier_RF_tuned_PCA = RandomForestClassifier(class_weight='balanced',\n",
    "                                      criterion='gini',\n",
    "                                      max_depth=55,\n",
    "                                      max_features='log2',\n",
    "                                      min_samples_leaf=0.005,\n",
    "                                      min_samples_split=0.005,\n",
    "                                      n_estimators=num_trees)\n",
    "\n",
    "classifier_RF_tuned_PCA.fit(img_data_train,labels_train)"
   ]
  },
  {
   "cell_type": "code",
   "execution_count": null,
   "id": "46617be7",
   "metadata": {
    "pycharm": {
     "name": "#%%\n"
    }
   },
   "outputs": [],
   "source": [
    "# store predictions of classifier\n",
    "pred_train = classifier_RF_tuned_PCA.predict(img_data_train)\n",
    "pred_val = classifier_RF_tuned_PCA.predict(img_data_val)\n",
    "\n",
    "# evaluate classifier and store metrics\n",
    "evaluation_scores = {\"Accuracy Score Train\": accuracy_score(labels_train, pred_train).round(3),\n",
    "                     \"Accuracy Score Validation\": accuracy_score(labels_val, pred_val).round(3),\n",
    "                     \"Precision Score Train\": precision_score(labels_train, pred_train, average = \"macro\").round(3),\n",
    "                     \"Precision Score Validation\": precision_score(labels_val, pred_val, average = \"macro\").round(3),\n",
    "                     \"Recall Score Train\": recall_score(labels_train, pred_train, average = \"macro\").round(3),\n",
    "                     \"Recall Score Validation\": recall_score(labels_val, pred_val, average = \"macro\").round(3),\n",
    "                     \"F1 Score Train\": f1_score(labels_train, pred_train, average=\"macro\").round(3),\n",
    "                     \"F1 Score Validation\": f1_score(labels_val, pred_val, average=\"macro\").round(3)}\n"
   ]
  },
  {
   "cell_type": "code",
   "execution_count": null,
   "id": "9f6374c3",
   "metadata": {
    "pycharm": {
     "name": "#%%\n"
    }
   },
   "outputs": [],
   "source": [
    "store_eval_score(evaluation_scores, \"RandomForest_tuned_PCA\")"
   ]
  },
  {
   "cell_type": "markdown",
   "id": "1644d0df",
   "metadata": {},
   "source": [
    "### Evaluate speed tuned XGB classifier"
   ]
  },
  {
   "cell_type": "code",
   "execution_count": null,
   "id": "0ae4167f",
   "metadata": {
    "pycharm": {
     "name": "#%%\n"
    }
   },
   "outputs": [],
   "source": [
    "## define the tuned classifier with the best hyperparamters\n",
    "## these here are still random ones\n",
    "\n",
    "classifier_XGB_tuned_PCA = xgb.XGBClassifier(colsample_bytree=0.7, gamma=0.5, learning_rate=0.3,max_depth=25, subsample=0.5,n_estimators=700)\n",
    "\n",
    "classifier_XGB_tuned_PCA.fit(img_data_train,labels_train)"
   ]
  },
  {
   "cell_type": "code",
   "execution_count": null,
   "id": "96ae6411",
   "metadata": {
    "pycharm": {
     "name": "#%%\n"
    }
   },
   "outputs": [],
   "source": [
    "# store predictions of classifier\n",
    "pred_train = classifier_XGB_tuned_PCA.predict(img_data_train)\n",
    "pred_val = classifier_XGB_tuned_PCA.predict(img_data_val)\n",
    "\n",
    "# evaluate classifier and store metrics\n",
    "evaluation_scores = {\"Accuracy Score Train\": accuracy_score(labels_train, pred_train).round(3),\n",
    "                     \"Accuracy Score Validation\": accuracy_score(labels_val, pred_val).round(3),\n",
    "                     \"Precision Score Train\": precision_score(labels_train, pred_train, average = \"macro\").round(3),\n",
    "                     \"Precision Score Validation\": precision_score(labels_val, pred_val, average = \"macro\").round(3),\n",
    "                     \"Recall Score Train\": recall_score(labels_train, pred_train, average = \"macro\").round(3),\n",
    "                     \"Recall Score Validation\": recall_score(labels_val, pred_val, average = \"macro\").round(3),\n",
    "                     \"F1 Score Train\": f1_score(labels_train, pred_train, average=\"macro\").round(3),\n",
    "                     \"F1 Score Validation\": f1_score(labels_val, pred_val, average=\"macro\").round(3)}\n"
   ]
  },
  {
   "cell_type": "code",
   "execution_count": null,
   "id": "15707398",
   "metadata": {
    "pycharm": {
     "name": "#%%\n"
    }
   },
   "outputs": [],
   "source": [
    "store_eval_score(evaluation_scores, \"XGBoost_tuned_PCA\")\n"
   ]
  },
  {
   "cell_type": "code",
   "execution_count": null,
   "id": "31e0afb5",
   "metadata": {
    "pycharm": {
     "name": "#%%\n"
    }
   },
   "outputs": [],
   "source": []
  },
  {
   "cell_type": "markdown",
   "id": "61452473",
   "metadata": {},
   "source": [
    "# Final Evaluation on Test Set"
   ]
  },
  {
   "cell_type": "markdown",
   "id": "f7eed2d7",
   "metadata": {
    "pycharm": {
     "name": "#%% md\n"
    }
   },
   "source": [
    "## test baseline LR on test set"
   ]
  },
  {
   "cell_type": "code",
   "execution_count": null,
   "id": "5ace53fc",
   "metadata": {},
   "outputs": [],
   "source": [
    "target_names = [\"bottlenose_dolphin\", \n",
    "                \"beluga\", \n",
    "                \"humpback_whale\",\n",
    "                \"blue_whale\",\n",
    "                \"false_killer_whale\",\n",
    "                \"dusky_dolphin\",\n",
    "                \"killer_whale\",\n",
    "                \"minke_whale\",\n",
    "                \"melon_headed_whale\",\n",
    "                \"spinner_dolphin\",\n",
    "                \"fin_whale\",\n",
    "                \"gray_whale\",\n",
    "                \"southern_right_whale\",\n",
    "                \"short_finned_pilot_whale\",\n",
    "                \"spotted_dolphin\",\n",
    "                \"sei_whale\",\n",
    "                \"cuviers_beaked_whale\",\n",
    "                \"common_dolphin\",\n",
    "                \"long_finned_pilot_whale\",\n",
    "                \"white_sided_dolphin\",\n",
    "                \"pantropic_spotted_dolphin\",\n",
    "                \"brydes_whale\",\n",
    "                \"commersons_dolphin\",\n",
    "                \"pygmy_killer_whale\",\n",
    "                \"rough_toothed_dolphin\", \n",
    "                \"frasiers_dolphin\"]"
   ]
  },
  {
   "cell_type": "code",
   "execution_count": null,
   "id": "e05f213c",
   "metadata": {
    "pycharm": {
     "name": "#%%\n"
    }
   },
   "outputs": [],
   "source": [
    "# store predictions of classifier\n",
    "\n",
    "pred_test = classifier_LR.predict(img_data_test)"
   ]
  },
  {
   "cell_type": "code",
   "execution_count": null,
   "id": "05e955c0",
   "metadata": {},
   "outputs": [],
   "source": [
    "report_LR = classification_report(labels_test, pred_test, target_names = target_names)\n",
    "report_LR"
   ]
  },
  {
   "cell_type": "code",
   "execution_count": null,
   "id": "1be24810",
   "metadata": {
    "pycharm": {
     "name": "#%%\n"
    }
   },
   "outputs": [],
   "source": [
    "# evaluate classifier and store metrics\n",
    "\n",
    "evaluation_scores = {\"Accuracy Score Test\": accuracy_score(labels_test, pred_test).round(3),\n",
    "                     \"Precision Score Test\": precision_score(labels_test, pred_test, average = \"macro\").round(3),\n",
    "                     \"Recall Score Test\": recall_score(labels_test, pred_test, average = \"macro\").round(3),\n",
    "                     \"F1 Score Test\": f1_score(labels_test, pred_test, average=\"macro\").round(3)}"
   ]
  },
  {
   "cell_type": "code",
   "execution_count": null,
   "id": "7a977c13",
   "metadata": {
    "pycharm": {
     "name": "#%%\n"
    }
   },
   "outputs": [],
   "source": [
    "# save evaluation scores\n",
    "\n",
    "def store_eval_score_test(image_df, classifier_name):\n",
    "    savez_compressed(OUTPUT_PATH_TEST_EVAL + \"/evaluation_scores_\"+str(classifier_name)+\".npz\",image_df)\n",
    "    print(\"file successfully stored in: output/ml_models/03_test_set_evaluation\")"
   ]
  },
  {
   "cell_type": "code",
   "execution_count": null,
   "id": "47e583eb",
   "metadata": {
    "pycharm": {
     "name": "#%%\n"
    }
   },
   "outputs": [],
   "source": [
    "store_eval_score_test(evaluation_scores,\"Logistic_Regression\")"
   ]
  },
  {
   "cell_type": "code",
   "execution_count": null,
   "id": "34c60080",
   "metadata": {},
   "outputs": [],
   "source": [
    "evaluations_scores"
   ]
  },
  {
   "cell_type": "code",
   "execution_count": null,
   "id": "0d529679",
   "metadata": {},
   "outputs": [],
   "source": [
    "confusion_matrix(labels_test, pred_test)"
   ]
  },
  {
   "cell_type": "code",
   "execution_count": null,
   "id": "f3409a59",
   "metadata": {},
   "outputs": [],
   "source": [
    "# Straightaway we can see that there are some large values in off-diagonal cells in the first and second columns, meaning that the classifier predicted classes 1 and 2 lots of times when it shouldn’t have. This isn’t surprising; those are the two biggest classes, and the classifier could get a lot of its predictions right just by guessing one of those two classes over and over."
   ]
  },
  {
   "cell_type": "code",
   "execution_count": null,
   "id": "0908bd7e",
   "metadata": {},
   "outputs": [],
   "source": [
    "# Confusion matrix LR\n",
    "\n",
    "# Get and reshape confusion matrix data\n",
    "matrix = confusion_matrix(labels_test, pred_test)\n",
    "matrix = matrix.astype('float') / matrix.sum(axis=1)[:, np.newaxis]\n",
    "\n",
    "# Build the plot\n",
    "plt.figure(figsize=(16,7))\n",
    "sns.set(font_scale=1.4)\n",
    "sns.heatmap(matrix, annot=True, annot_kws={'size':10},\n",
    "            cmap=plt.cm.Greens, linewidths=0.2)\n",
    "\n",
    "# Add labels to the plot\n",
    "class_names = target_names\n",
    "tick_marks = np.arange(len(class_names))\n",
    "tick_marks2 = tick_marks + 0.5\n",
    "plt.xticks(tick_marks, class_names, rotation=25)\n",
    "plt.yticks(tick_marks2, class_names, rotation=0)\n",
    "plt.xlabel('Predicted label')\n",
    "plt.ylabel('True label')\n",
    "plt.title('Confusion Matrix for Linear Regression Model')\n",
    "plt.show()\n",
    "plt.savefig(ROOT_PATH_FIG + \"confusion_matrix_LR\" + \".jpg\")"
   ]
  },
  {
   "cell_type": "code",
   "execution_count": null,
   "id": "d6efdbf0",
   "metadata": {},
   "outputs": [],
   "source": []
  },
  {
   "cell_type": "markdown",
   "id": "cbb2897f",
   "metadata": {
    "pycharm": {
     "name": "#%% md\n"
    }
   },
   "source": [
    "## test tuned RF on test set"
   ]
  },
  {
   "cell_type": "code",
   "execution_count": null,
   "id": "55dfad04",
   "metadata": {
    "pycharm": {
     "name": "#%%\n"
    }
   },
   "outputs": [],
   "source": [
    "# store predictions of classifier\n",
    "\n",
    "pred_test = classifier_RF_tuned.predict(img_data_test)"
   ]
  },
  {
   "cell_type": "code",
   "execution_count": null,
   "id": "1fabb112",
   "metadata": {},
   "outputs": [],
   "source": [
    "report_RF = classification_report(labels_test, pred_test, target_names = target_names)\n",
    "report_RF"
   ]
  },
  {
   "cell_type": "code",
   "execution_count": null,
   "id": "4ef2f1a6",
   "metadata": {
    "pycharm": {
     "name": "#%%\n"
    }
   },
   "outputs": [],
   "source": [
    "# evaluate classifier and store metrics\n",
    "\n",
    "evaluation_scores = {\"Accuracy Score Test\": accuracy_score(labels_test, pred_test).round(3),\n",
    "                     \"Precision Score Test\": precision_score(labels_test, pred_test, average = \"macro\").round(3),\n",
    "                     \"Recall Score Test\": recall_score(labels_test, pred_test, average = \"macro\").round(3),\n",
    "                     \"F1 Score Test\": f1_score(labels_test, pred_test, average=\"macro\").round(3)}"
   ]
  },
  {
   "cell_type": "code",
   "execution_count": null,
   "id": "2d08ceae",
   "metadata": {
    "pycharm": {
     "name": "#%%\n"
    }
   },
   "outputs": [],
   "source": [
    "# store evaluation scores\n",
    "\n",
    "store_eval_score_test(evaluation_scores,\"Tuned_Random_Forest\")"
   ]
  },
  {
   "cell_type": "code",
   "execution_count": null,
   "id": "e99d78e6",
   "metadata": {},
   "outputs": [],
   "source": [
    "evaluation_scores"
   ]
  },
  {
   "cell_type": "code",
   "execution_count": null,
   "id": "a2b674a5",
   "metadata": {},
   "outputs": [],
   "source": [
    "confusion_matrix(labels_test, pred_test)"
   ]
  },
  {
   "cell_type": "code",
   "execution_count": null,
   "id": "5ccfd9ca",
   "metadata": {},
   "outputs": [],
   "source": [
    "# Confusion matrix RF\n",
    "\n",
    "# Get and reshape confusion matrix data\n",
    "matrix = confusion_matrix(labels_test, pred_test)\n",
    "matrix = matrix.astype('float') / matrix.sum(axis=1)[:, np.newaxis]\n",
    "\n",
    "# Build the plot\n",
    "plt.figure(figsize=(16,7))\n",
    "sns.set(font_scale=1.4)\n",
    "sns.heatmap(matrix, annot=True, annot_kws={'size':10},\n",
    "            cmap=plt.cm.Greens, linewidths=0.2)\n",
    "\n",
    "# Add labels to the plot\n",
    "class_names = target_names\n",
    "tick_marks = np.arange(len(class_names))\n",
    "tick_marks2 = tick_marks + 0.5\n",
    "plt.xticks(tick_marks, class_names, rotation=25)\n",
    "plt.yticks(tick_marks2, class_names, rotation=0)\n",
    "plt.xlabel('Predicted label')\n",
    "plt.ylabel('True label')\n",
    "plt.title('Confusion Matrix for Random Forest Model')\n",
    "plt.show()\n",
    "plt.savefig(ROOT_PATH_FIG + \"confusion_matrix_RF\" + \".jpg\")"
   ]
  },
  {
   "cell_type": "markdown",
   "id": "d24f6f23",
   "metadata": {
    "pycharm": {
     "name": "#%% md\n"
    }
   },
   "source": [
    "## test tuned XGBoost on test set"
   ]
  },
  {
   "cell_type": "code",
   "execution_count": null,
   "id": "95ee60a7",
   "metadata": {
    "pycharm": {
     "name": "#%%\n"
    }
   },
   "outputs": [],
   "source": [
    "# store predictions of classifier\n",
    "\n",
    "pred_test = classifier_XGB_tuned.predict(img_data_test)"
   ]
  },
  {
   "cell_type": "code",
   "execution_count": null,
   "id": "70e3bb23",
   "metadata": {},
   "outputs": [],
   "source": [
    "report_LR = classification_report(labels_test_enc, pred_test, target_names = target_names)\n",
    "report_LR"
   ]
  },
  {
   "cell_type": "code",
   "execution_count": null,
   "id": "1415c349",
   "metadata": {
    "pycharm": {
     "name": "#%%\n"
    }
   },
   "outputs": [],
   "source": [
    "# evaluate classifier and store metrics\n",
    "evaluation_scores = {\"Accuracy Score Test\": accuracy_score(labels_test_enc, pred_test).round(3),\n",
    "                     \"Precision Score Test\": precision_score(labels_test_enc, pred_test, average = \"macro\").round(3),\n",
    "                     \"Recall Score Test\": recall_score(labels_test_enc, pred_test, average = \"macro\").round(3),\n",
    "                     \"F1 Score Test\": f1_score(labels_test_enc, pred_test, average=\"macro\").round(3)}"
   ]
  },
  {
   "cell_type": "code",
   "execution_count": null,
   "id": "0ed3de8e",
   "metadata": {
    "pycharm": {
     "name": "#%%\n"
    }
   },
   "outputs": [],
   "source": [
    "# store evaluation scores\n",
    "\n",
    "store_eval_score_test(evaluation_scores,\"Tuned_XGBoost\")\n"
   ]
  },
  {
   "cell_type": "code",
   "execution_count": null,
   "id": "2bc664fd",
   "metadata": {},
   "outputs": [],
   "source": [
    "evaluation_scores"
   ]
  },
  {
   "cell_type": "code",
   "execution_count": null,
   "id": "5b106bad",
   "metadata": {},
   "outputs": [],
   "source": [
    "confusion_matrix(labels_test_enc, pred_test)"
   ]
  },
  {
   "cell_type": "code",
   "execution_count": null,
   "id": "153efbfa",
   "metadata": {},
   "outputs": [],
   "source": [
    "# Confusion matrix XGB\n",
    "\n",
    "# Get and reshape confusion matrix data\n",
    "matrix = confusion_matrix(labels_test, pred_test)\n",
    "matrix = matrix.astype('float') / matrix.sum(axis=1)[:, np.newaxis]\n",
    "\n",
    "# Build the plot\n",
    "plt.figure(figsize=(16,7))\n",
    "sns.set(font_scale=1.4)\n",
    "sns.heatmap(matrix, annot=True, annot_kws={'size':10},\n",
    "            cmap=plt.cm.Greens, linewidths=0.2)\n",
    "\n",
    "# Add labels to the plot\n",
    "class_names = target_names\n",
    "tick_marks = np.arange(len(class_names))\n",
    "tick_marks2 = tick_marks + 0.5\n",
    "plt.xticks(tick_marks, class_names, rotation=25)\n",
    "plt.yticks(tick_marks2, class_names, rotation=0)\n",
    "plt.xlabel('Predicted label')\n",
    "plt.ylabel('True label')\n",
    "plt.title('Confusion Matrix for XGBoost Model')\n",
    "plt.show()\n",
    "plt.savefig(ROOT_PATH_FIG + \"confusion_matrix_XGB\" + \".jpg\")"
   ]
  }
 ],
 "metadata": {
  "kernelspec": {
   "display_name": "Python 3 (ipykernel)",
   "language": "python",
   "name": "python3"
  },
  "language_info": {
   "codemirror_mode": {
    "name": "ipython",
    "version": 3
   },
   "file_extension": ".py",
   "mimetype": "text/x-python",
   "name": "python",
   "nbconvert_exporter": "python",
   "pygments_lexer": "ipython3",
   "version": "3.7.3"
  }
 },
 "nbformat": 4,
 "nbformat_minor": 5
}
