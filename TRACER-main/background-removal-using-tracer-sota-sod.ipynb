{
 "metadata": {
  "kernelspec": {
   "language": "python",
   "display_name": "Python 3",
   "name": "python3"
  },
  "language_info": {
   "pygments_lexer": "ipython3",
   "nbconvert_exporter": "python",
   "version": "3.6.4",
   "file_extension": ".py",
   "codemirror_mode": {
    "name": "ipython",
    "version": 3
   },
   "name": "python",
   "mimetype": "text/x-python"
  }
 },
 "nbformat_minor": 4,
 "nbformat": 4,
 "cells": [
  {
   "cell_type": "markdown",
   "source": [
    "## **Background Removal using TRACER - State of the Art RGB Salient Object Detector**"
   ],
   "metadata": {}
  },
  {
   "cell_type": "markdown",
   "source": [
    "Created a forked repo of TRACER, and made changes there itself, to output images with segmentation masks applied to the original images rather than just simple binary masks.\n",
    "\n",
    "Dataset Generated: [Background Removed Happywhale Dataset](https://www.kaggle.com/adnanpen/background-removed-happywhale-dataset)\n",
    "\n",
    "Accordingly made changes to code from testing files to remove evaluation part.\n",
    "\n",
    "Dataset used for background removal: [Cropped 512x512](https://www.kaggle.com/phalanx/whale2-cropped-dataset)\n",
    "\n",
    "Original TRACER repo: [TRACER](https://github.com/Karel911/TRACER)\n",
    "\n",
    "My forked TRACER repo: [TRACER](https://github.com/adnan119/TRACER)\n",
    "\n",
    "Files modified include: \n",
    "[trainer.py](https://github.com/adnan119/TRACER/blob/main/trainer.py) \n",
    "[dataloader.py](https://github.com/adnan119/TRACER/blob/main/dataloader.py)\n",
    "[main.py](https://github.com/adnan119/TRACER/blob/main/main.py)"
   ],
   "metadata": {}
  },
  {
   "cell_type": "code",
   "source": [
    "!git clone https://github.com/adnan119/TRACER.git"
   ],
   "metadata": {
    "execution": {
     "iopub.status.busy": "2022-03-11T05:18:55.577182Z",
     "iopub.execute_input": "2022-03-11T05:18:55.577763Z",
     "iopub.status.idle": "2022-03-11T05:18:58.001362Z",
     "shell.execute_reply.started": "2022-03-11T05:18:55.577684Z",
     "shell.execute_reply": "2022-03-11T05:18:58.000605Z"
    },
    "trusted": true
   },
   "execution_count": 1,
   "outputs": [
    {
     "name": "stdout",
     "output_type": "stream",
     "text": [
      "fatal: destination path 'TRACER' already exists and is not an empty directory.\r\n"
     ]
    }
   ]
  },
  {
   "cell_type": "code",
   "source": [
    "!wget https://github.com/Karel911/TRACER/releases/download/v1.0/TRACER-Efficient-7.pth"
   ],
   "metadata": {
    "execution": {
     "iopub.status.busy": "2022-03-11T05:18:58.003251Z",
     "iopub.execute_input": "2022-03-11T05:18:58.003466Z",
     "iopub.status.idle": "2022-03-11T05:19:08.68436Z",
     "shell.execute_reply.started": "2022-03-11T05:18:58.00344Z",
     "shell.execute_reply": "2022-03-11T05:19:08.683597Z"
    },
    "trusted": true
   },
   "execution_count": 2,
   "outputs": [
    {
     "name": "stdout",
     "output_type": "stream",
     "text": [
      "zsh:1: command not found: wget\r\n"
     ]
    }
   ]
  },
  {
   "cell_type": "code",
   "source": [
    "!mv ./TRACER-Efficient-7.pth ./best_model.pth\n"
   ],
   "metadata": {
    "execution": {
     "iopub.status.busy": "2022-03-11T05:19:08.686121Z",
     "iopub.execute_input": "2022-03-11T05:19:08.686414Z",
     "iopub.status.idle": "2022-03-11T05:19:09.373229Z",
     "shell.execute_reply.started": "2022-03-11T05:19:08.68636Z",
     "shell.execute_reply": "2022-03-11T05:19:09.372314Z"
    },
    "trusted": true
   },
   "execution_count": 3,
   "outputs": [
    {
     "name": "stdout",
     "output_type": "stream",
     "text": [
      "mv: rename ./TRACER-Efficient-7.pth to ./best_model.pth: No such file or directory\r\n"
     ]
    }
   ]
  },
  {
   "cell_type": "code",
   "source": [
    "%cd ./TRACER\n",
    "!mkdir ./results/\n",
    "!mkdir ./results/DUTS/\n",
    "!mkdir ./results/DUTS/TE5_0/"
   ],
   "metadata": {
    "execution": {
     "iopub.status.busy": "2022-03-11T05:19:09.376918Z",
     "iopub.execute_input": "2022-03-11T05:19:09.377514Z",
     "iopub.status.idle": "2022-03-11T05:19:11.325452Z",
     "shell.execute_reply.started": "2022-03-11T05:19:09.377478Z",
     "shell.execute_reply": "2022-03-11T05:19:11.32456Z"
    },
    "trusted": true
   },
   "execution_count": 5,
   "outputs": [
    {
     "name": "stdout",
     "output_type": "stream",
     "text": [
      "[Errno 2] No such file or directory: './TRACER'\n",
      "/Users/marenrieker/Documents/GitHub/happy-whale/TRACER-main/TRACER\n",
      "mkdir: ./results/: File exists\r\n",
      "mkdir: ./results/DUTS/: File exists\r\n",
      "mkdir: ./results/DUTS/TE5_0/: File exists\r\n"
     ]
    }
   ]
  },
  {
   "cell_type": "code",
   "source": [
    "!mv ../best_model.pth ./results/DUTS/TE5_0/\n"
   ],
   "metadata": {
    "execution": {
     "iopub.status.busy": "2022-03-11T05:19:11.328852Z",
     "iopub.execute_input": "2022-03-11T05:19:11.329085Z",
     "iopub.status.idle": "2022-03-11T05:19:12.021734Z",
     "shell.execute_reply.started": "2022-03-11T05:19:11.329055Z",
     "shell.execute_reply": "2022-03-11T05:19:12.020749Z"
    },
    "trusted": true
   },
   "execution_count": 6,
   "outputs": [
    {
     "name": "stdout",
     "output_type": "stream",
     "text": [
      "mv: ../best_model.pth: No such file or directory\r\n"
     ]
    }
   ]
  },
  {
   "cell_type": "markdown",
   "source": [
    "# <h1 style = \"font-family: garamond; font-size: 40px; font-style: normal; letter-spcaing: 3px; background-color: #f6f5f5; color :#fe346e; border-radius: 100px 100px; text-align:center\">Imports </h1>"
   ],
   "metadata": {}
  },
  {
   "cell_type": "code",
   "source": [
    "import os\n",
    "import gc\n",
    "import cv2\n",
    "\n",
    "import math\n",
    "import copy\n",
    "import time\n",
    "import random\n",
    "import warnings\n",
    "import shutil\n",
    "from pathlib import Path\n",
    "\n",
    "# For data manipulation\n",
    "import numpy as np\n",
    "import pandas as pd\n",
    "from PIL import *\n",
    "\n",
    "import torch\n",
    "import torch.nn as nn\n",
    "import torch.nn.functional as F"
   ],
   "metadata": {
    "execution": {
     "iopub.status.busy": "2022-03-12T10:41:56.083337Z",
     "iopub.execute_input": "2022-03-12T10:41:56.083969Z",
     "iopub.status.idle": "2022-03-12T10:41:57.783389Z",
     "shell.execute_reply.started": "2022-03-12T10:41:56.083878Z",
     "shell.execute_reply": "2022-03-12T10:41:57.782679Z"
    },
    "trusted": true
   },
   "execution_count": 7,
   "outputs": []
  },
  {
   "cell_type": "markdown",
   "source": [
    "**Segmenting the training set**"
   ],
   "metadata": {}
  },
  {
   "cell_type": "code",
   "source": [
    "#segment test images \n",
    "!python main.py test --exp_num 0 --arch 5 --img_size 512 --batch_size 16 --dataset \"DUTS\" --save_map True --data_path ../../input/whale2-cropped-dataset/cropped_train_images/cropped_train_images/"
   ],
   "metadata": {
    "execution": {
     "iopub.status.busy": "2022-03-11T07:24:44.737216Z",
     "iopub.execute_input": "2022-03-11T07:24:44.737499Z",
     "iopub.status.idle": "2022-03-11T10:31:42.112012Z",
     "shell.execute_reply.started": "2022-03-11T07:24:44.737467Z",
     "shell.execute_reply": "2022-03-11T10:31:42.111133Z"
    },
    "trusted": true
   },
   "execution_count": 10,
   "outputs": [
    {
     "name": "stdout",
     "output_type": "stream",
     "text": [
      "<---- Training Params ---->\r\n",
      "Namespace(RFB_aggregated_channel=[32, 64, 128], action='test', arch='5', aug_ver=2, batch_size=16, channels=[24, 40, 112, 320], clipping=2, criterion='API', data_path='../../input/whale2-cropped-dataset/cropped_train_images/cropped_train_images/', dataset='DUTS', denoise=0.93, epochs=100, exp_num='0', frequency_radius=16, gamma=0.1, img_size=512, lr=5e-05, lr_factor=0.1, model_path='results/', multi_gpu=True, num_workers=4, optimizer='Adam', patience=5, save_map=True, scheduler='Reduce', seed=42, weight_decay=0.0001)\r\n",
      "Downloading: \"https://github.com/lukemelas/EfficientNet-PyTorch/releases/download/1.0/adv-efficientnet-b5-86493f6b.pth\" to /Users/marenrieker/.cache/torch/hub/checkpoints/adv-efficientnet-b5-86493f6b.pth\r\n",
      "100%|████████████████████████████████████████| 117M/117M [00:31<00:00, 3.92MB/s]\r\n",
      "Loaded pretrained weights for efficientnet-b5\r\n",
      "Traceback (most recent call last):\r\n",
      "  File \"main.py\", line 50, in <module>\r\n",
      "    main(cfg)\r\n",
      "  File \"main.py\", line 43, in main\r\n",
      "    Tester(cfg, save_path).test()\r\n",
      "  File \"/Users/marenrieker/Documents/GitHub/happy-whale/TRACER-main/TRACER/trainer.py\", line 229, in __init__\r\n",
      "    self.model.load_state_dict(torch.load(path))\r\n",
      "  File \"/Users/marenrieker/Library/Application Support/JetBrains/DataSpell2021.3/projects/workspace/venv/lib/python3.8/site-packages/torch/serialization.py\", line 713, in load\r\n",
      "    return _legacy_load(opened_file, map_location, pickle_module, **pickle_load_args)\r\n",
      "  File \"/Users/marenrieker/Library/Application Support/JetBrains/DataSpell2021.3/projects/workspace/venv/lib/python3.8/site-packages/torch/serialization.py\", line 920, in _legacy_load\r\n",
      "    magic_number = pickle_module.load(f, **pickle_load_args)\r\n",
      "_pickle.UnpicklingError: invalid load key, '\\x0a'.\r\n"
     ]
    }
   ]
  },
  {
   "cell_type": "code",
   "source": [
    "#create zipfile \n",
    "shutil.make_archive('./seg_img', 'zip', './seg_img')"
   ],
   "metadata": {
    "execution": {
     "iopub.status.busy": "2022-03-11T10:31:42.114284Z",
     "iopub.execute_input": "2022-03-11T10:31:42.114586Z",
     "iopub.status.idle": "2022-03-11T10:38:08.731499Z",
     "shell.execute_reply.started": "2022-03-11T10:31:42.114543Z",
     "shell.execute_reply": "2022-03-11T10:38:08.73021Z"
    },
    "trusted": true
   },
   "execution_count": 13,
   "outputs": [
    {
     "ename": "FileNotFoundError",
     "evalue": "[Errno 2] No such file or directory: './seg_img'",
     "output_type": "error",
     "traceback": [
      "\u001B[0;31m---------------------------------------------------------------------------\u001B[0m",
      "\u001B[0;31mFileNotFoundError\u001B[0m                         Traceback (most recent call last)",
      "Input \u001B[0;32mIn [13]\u001B[0m, in \u001B[0;36m<cell line: 2>\u001B[0;34m()\u001B[0m\n\u001B[1;32m      1\u001B[0m \u001B[38;5;66;03m#create zipfile \u001B[39;00m\n\u001B[0;32m----> 2\u001B[0m \u001B[43mshutil\u001B[49m\u001B[38;5;241;43m.\u001B[39;49m\u001B[43mmake_archive\u001B[49m\u001B[43m(\u001B[49m\u001B[38;5;124;43m'\u001B[39;49m\u001B[38;5;124;43m/seg_img\u001B[39;49m\u001B[38;5;124;43m'\u001B[39;49m\u001B[43m,\u001B[49m\u001B[43m \u001B[49m\u001B[38;5;124;43m'\u001B[39;49m\u001B[38;5;124;43mzip\u001B[39;49m\u001B[38;5;124;43m'\u001B[39;49m\u001B[43m,\u001B[49m\u001B[43m \u001B[49m\u001B[38;5;124;43m'\u001B[39;49m\u001B[38;5;124;43m./seg_img\u001B[39;49m\u001B[38;5;124;43m'\u001B[39;49m\u001B[43m)\u001B[49m\n",
      "File \u001B[0;32m/Library/Developer/CommandLineTools/Library/Frameworks/Python3.framework/Versions/3.8/lib/python3.8/shutil.py:1038\u001B[0m, in \u001B[0;36mmake_archive\u001B[0;34m(base_name, format, root_dir, base_dir, verbose, dry_run, owner, group, logger)\u001B[0m\n\u001B[1;32m   1036\u001B[0m     base_name \u001B[38;5;241m=\u001B[39m os\u001B[38;5;241m.\u001B[39mpath\u001B[38;5;241m.\u001B[39mabspath(base_name)\n\u001B[1;32m   1037\u001B[0m     \u001B[38;5;28;01mif\u001B[39;00m \u001B[38;5;129;01mnot\u001B[39;00m dry_run:\n\u001B[0;32m-> 1038\u001B[0m         \u001B[43mos\u001B[49m\u001B[38;5;241;43m.\u001B[39;49m\u001B[43mchdir\u001B[49m\u001B[43m(\u001B[49m\u001B[43mroot_dir\u001B[49m\u001B[43m)\u001B[49m\n\u001B[1;32m   1040\u001B[0m \u001B[38;5;28;01mif\u001B[39;00m base_dir \u001B[38;5;129;01mis\u001B[39;00m \u001B[38;5;28;01mNone\u001B[39;00m:\n\u001B[1;32m   1041\u001B[0m     base_dir \u001B[38;5;241m=\u001B[39m os\u001B[38;5;241m.\u001B[39mcurdir\n",
      "\u001B[0;31mFileNotFoundError\u001B[0m: [Errno 2] No such file or directory: './seg_img'"
     ]
    }
   ]
  },
  {
   "cell_type": "code",
   "source": "!ls",
   "metadata": {
    "execution": {
     "iopub.status.busy": "2022-03-11T10:43:22.42136Z",
     "iopub.execute_input": "2022-03-11T10:43:22.421643Z",
     "iopub.status.idle": "2022-03-11T10:43:23.246517Z",
     "shell.execute_reply.started": "2022-03-11T10:43:22.421613Z",
     "shell.execute_reply": "2022-03-11T10:43:23.245685Z"
    },
    "trusted": true
   },
   "execution_count": null,
   "outputs": []
  },
  {
   "cell_type": "code",
   "source": "seg = os.listdir(\"./seg_img/\") # os.listdir(\"../input/background-removed-happywhale-dataset/seg_img\")\nprint(len(seg))",
   "metadata": {
    "execution": {
     "iopub.status.busy": "2022-03-12T10:43:36.096564Z",
     "iopub.execute_input": "2022-03-12T10:43:36.097029Z",
     "iopub.status.idle": "2022-03-12T10:43:36.858061Z",
     "shell.execute_reply.started": "2022-03-12T10:43:36.096992Z",
     "shell.execute_reply": "2022-03-12T10:43:36.857233Z"
    },
    "trusted": true
   },
   "execution_count": null,
   "outputs": []
  },
  {
   "cell_type": "code",
   "source": "img_num = 17009 #sample test image index\nimg_name = Path(seg[img_num]).stem",
   "metadata": {
    "execution": {
     "iopub.status.busy": "2022-03-12T10:43:40.641605Z",
     "iopub.execute_input": "2022-03-12T10:43:40.642167Z",
     "iopub.status.idle": "2022-03-12T10:43:40.648898Z",
     "shell.execute_reply.started": "2022-03-12T10:43:40.642127Z",
     "shell.execute_reply": "2022-03-12T10:43:40.64809Z"
    },
    "trusted": true
   },
   "execution_count": null,
   "outputs": []
  },
  {
   "cell_type": "code",
   "source": "test_dir = '../input/whale2-cropped-dataset/cropped_train_images/cropped_train_images/'\npil_tes = Image.open(test_dir + img_name + \".jpg\")\ndisplay(pil_tes)",
   "metadata": {
    "execution": {
     "iopub.status.busy": "2022-03-12T10:44:10.916563Z",
     "iopub.execute_input": "2022-03-12T10:44:10.917324Z",
     "iopub.status.idle": "2022-03-12T10:44:11.081898Z",
     "shell.execute_reply.started": "2022-03-12T10:44:10.917277Z",
     "shell.execute_reply": "2022-03-12T10:44:11.079506Z"
    },
    "trusted": true
   },
   "execution_count": null,
   "outputs": []
  },
  {
   "cell_type": "code",
   "source": "pil_im = Image.open(\"./seg_img/\" + img_name + \".png\") # Image.open(\"../input/background-removed-happywhale-dataset/seg_img/\" + img_name + \".png\")\ndisplay(pil_im)",
   "metadata": {
    "execution": {
     "iopub.status.busy": "2022-03-12T10:44:36.730981Z",
     "iopub.execute_input": "2022-03-12T10:44:36.731686Z",
     "iopub.status.idle": "2022-03-12T10:44:36.80393Z",
     "shell.execute_reply.started": "2022-03-12T10:44:36.731643Z",
     "shell.execute_reply": "2022-03-12T10:44:36.803225Z"
    },
    "trusted": true
   },
   "execution_count": null,
   "outputs": []
  },
  {
   "cell_type": "code",
   "source": "!rm -r './seg_img' #remove the folder containing the segmented images for saving the zipfile",
   "metadata": {
    "execution": {
     "iopub.status.busy": "2022-03-11T11:10:18.588611Z",
     "iopub.execute_input": "2022-03-11T11:10:18.589301Z",
     "iopub.status.idle": "2022-03-11T11:10:21.228246Z",
     "shell.execute_reply.started": "2022-03-11T11:10:18.589261Z",
     "shell.execute_reply": "2022-03-11T11:10:21.227335Z"
    },
    "trusted": true
   },
   "execution_count": null,
   "outputs": []
  },
  {
   "cell_type": "code",
   "source": "",
   "metadata": {},
   "execution_count": null,
   "outputs": []
  }
 ]
}