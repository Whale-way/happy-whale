{
 "cells": [
  {
   "cell_type": "markdown",
   "id": "4eeced39",
   "metadata": {},
   "source": [
    "# Whale and Dolphin Classification Project"
   ]
  },
  {
   "cell_type": "markdown",
   "id": "c67eaa49",
   "metadata": {},
   "source": [
    "Authors:\n",
    "- Victor Möslein\n",
    "- Maren Rieker\n",
    "- Reed Garvin\n",
    "- Dinah Rabe"
   ]
  },
  {
   "cell_type": "markdown",
   "id": "f4286612",
   "metadata": {},
   "source": [
    "This Notebook is one of three core notebooks of the Whale and Dolphin Classification Project for the \"Machine Learning\" class at the Hertie School. It focuses on the application of classic machine learning models to the task at hand. There is one other notebook concerned with data preprocessing and another that focuses on the application of a deep learning model.\n",
    "\n",
    "The code of this notebook partly follows the chapter on Classification from the book \"Hands-on Machine Learning with Scikit-Learn, Keras, and Tensorflow\" by Aurélien Géron."
   ]
  },
  {
   "cell_type": "code",
   "execution_count": null,
   "id": "e30e02e2",
   "metadata": {},
   "outputs": [],
   "source": [
    "## Setup: System settings and packages"
   ]
  },
  {
   "cell_type": "code",
   "execution_count": 1,
   "id": "d2b14a1b",
   "metadata": {},
   "outputs": [],
   "source": [
    "# Python ≥3.5 is required\n",
    "\n",
    "import sys\n",
    "assert sys.version_info >= (3, 5)\n",
    "\n",
    "# Scikit-Learn ≥0.20 is required\n",
    "import sklearn\n",
    "assert sklearn.__version__ >= \"1.0\"\n",
    "\n",
    "import random\n",
    "import numpy as np\n",
    "from numpy import load\n",
    "import pandas as pd\n",
    "from numpy import savez_compressed\n",
    "import os\n",
    "import timeit\n",
    "import seaborn as sns\n",
    "import pickle\n",
    "import PIL\n",
    "\n",
    "\n",
    "# To plot pretty figures\n",
    "%matplotlib inline\n",
    "import matplotlib as mpl\n",
    "import matplotlib.pyplot as plt\n",
    "mpl.rc('axes', labelsize=14)\n",
    "mpl.rc('xtick', labelsize=12)\n",
    "mpl.rc('ytick', labelsize=12)\n",
    "\n",
    "# to make this notebook's output stable\n",
    "np.random.seed(42)"
   ]
  },
  {
   "cell_type": "code",
   "execution_count": null,
   "id": "e8d038a0",
   "metadata": {},
   "outputs": [],
   "source": []
  },
  {
   "cell_type": "code",
   "execution_count": 2,
   "id": "4ad7a758",
   "metadata": {},
   "outputs": [],
   "source": [
    "full_data_switch_on = True # if the full data set should be used, this switch need to be set to true"
   ]
  },
  {
   "cell_type": "markdown",
   "id": "2904196d",
   "metadata": {},
   "source": [
    "## Define paths to data and for output"
   ]
  },
  {
   "cell_type": "code",
   "execution_count": 3,
   "id": "ad1605ed",
   "metadata": {},
   "outputs": [],
   "source": [
    "# path to clean data folder\n",
    "ROOT_PATH_DATA = \"input/04_cleaned/\"\n",
    "\n",
    "# where to save figures\n",
    "ROOT_PATH_FIG = \"output/ml_models/01_figures\"\n",
    "os.makedirs(ROOT_PATH_FIG, exist_ok=True)\n",
    "\n",
    "# where to save output\n",
    "\n",
    "ROOT_OUTPUT = \"output/ml_models/\"\n",
    "OUTPUT_PATH_TRAIN_EVAL = os.path.join(ROOT_OUTPUT + \"02_training_set_evaluation\")\n",
    "OUTPUT_PATH_TEST_EVAL = os.path.join(ROOT_OUTPUT + \"03_test_set_evaluation\")\n",
    "OUTPUT_PATH_HYPPAR_TUN = os.path.join(ROOT_OUTPUT + \"04_hyperparamter_tuning\")\n",
    "OUTPUT_PATH_RUN_TIME = os.path.join(ROOT_OUTPUT + \"05_runtime_stats\")\n",
    "\n",
    "# function to save figures\n",
    "\n",
    "def save_fig(fig_id, save_path=ROOT_PATH_FIG, tight_layout=True, fig_extension=\"png\", resolution=300):\n",
    "    path = os.path.join(save_path, fig_id + \".\" + fig_extension)\n",
    "    print(\">... Saving figure\", fig_id)\n",
    "    if tight_layout:\n",
    "        plt.tight_layout()\n",
    "    plt.savefig(path, format=fig_extension, dpi=resolution)"
   ]
  },
  {
   "cell_type": "markdown",
   "id": "6521a742",
   "metadata": {},
   "source": [
    "## Loading and splitting training data"
   ]
  },
  {
   "cell_type": "code",
   "execution_count": 4,
   "id": "cf718251",
   "metadata": {},
   "outputs": [],
   "source": [
    "labels_df = pd.read_csv(ROOT_PATH_DATA + \"train/clean_train.csv\", sep = ';')"
   ]
  },
  {
   "cell_type": "code",
   "execution_count": 5,
   "metadata": {
    "pycharm": {
     "name": "#%%\n"
    }
   },
   "outputs": [
    {
     "data": {
      "text/html": [
       "<div>\n",
       "<style scoped>\n",
       "    .dataframe tbody tr th:only-of-type {\n",
       "        vertical-align: middle;\n",
       "    }\n",
       "\n",
       "    .dataframe tbody tr th {\n",
       "        vertical-align: top;\n",
       "    }\n",
       "\n",
       "    .dataframe thead th {\n",
       "        text-align: right;\n",
       "    }\n",
       "</style>\n",
       "<table border=\"1\" class=\"dataframe\">\n",
       "  <thead>\n",
       "    <tr style=\"text-align: right;\">\n",
       "      <th></th>\n",
       "      <th>Unnamed: 0</th>\n",
       "      <th>image</th>\n",
       "      <th>species</th>\n",
       "      <th>individual_id</th>\n",
       "    </tr>\n",
       "  </thead>\n",
       "  <tbody>\n",
       "    <tr>\n",
       "      <th>0</th>\n",
       "      <td>0</td>\n",
       "      <td>00021adfb725ed.jpg</td>\n",
       "      <td>melon_headed_whale</td>\n",
       "      <td>cadddb1636b9</td>\n",
       "    </tr>\n",
       "    <tr>\n",
       "      <th>1</th>\n",
       "      <td>1</td>\n",
       "      <td>000562241d384d.jpg</td>\n",
       "      <td>humpback_whale</td>\n",
       "      <td>1a71fbb72250</td>\n",
       "    </tr>\n",
       "    <tr>\n",
       "      <th>2</th>\n",
       "      <td>2</td>\n",
       "      <td>0007c33415ce37.jpg</td>\n",
       "      <td>false_killer_whale</td>\n",
       "      <td>60008f293a2b</td>\n",
       "    </tr>\n",
       "    <tr>\n",
       "      <th>3</th>\n",
       "      <td>3</td>\n",
       "      <td>0007d9bca26a99.jpg</td>\n",
       "      <td>bottlenose_dolphin</td>\n",
       "      <td>4b00fe572063</td>\n",
       "    </tr>\n",
       "    <tr>\n",
       "      <th>4</th>\n",
       "      <td>4</td>\n",
       "      <td>00087baf5cef7a.jpg</td>\n",
       "      <td>humpback_whale</td>\n",
       "      <td>8e5253662392</td>\n",
       "    </tr>\n",
       "  </tbody>\n",
       "</table>\n",
       "</div>"
      ],
      "text/plain": [
       "   Unnamed: 0               image             species individual_id\n",
       "0           0  00021adfb725ed.jpg  melon_headed_whale  cadddb1636b9\n",
       "1           1  000562241d384d.jpg      humpback_whale  1a71fbb72250\n",
       "2           2  0007c33415ce37.jpg  false_killer_whale  60008f293a2b\n",
       "3           3  0007d9bca26a99.jpg  bottlenose_dolphin  4b00fe572063\n",
       "4           4  00087baf5cef7a.jpg      humpback_whale  8e5253662392"
      ]
     },
     "execution_count": 5,
     "metadata": {},
     "output_type": "execute_result"
    }
   ],
   "source": [
    "labels_df.head() # Checking for correct dimensions after every step. The data set contains 51033 images."
   ]
  },
  {
   "cell_type": "code",
   "execution_count": 10,
   "metadata": {},
   "outputs": [
    {
     "data": {
      "text/plain": [
       "(51033, 4)"
      ]
     },
     "execution_count": 10,
     "metadata": {},
     "output_type": "execute_result"
    }
   ],
   "source": [
    "labels_df.shape "
   ]
  },
  {
   "cell_type": "code",
   "execution_count": 5,
   "id": "b3ff5315",
   "metadata": {},
   "outputs": [],
   "source": [
    "labels_full = labels_df[\"species\"]"
   ]
  },
  {
   "cell_type": "code",
   "execution_count": 12,
   "metadata": {
    "pycharm": {
     "name": "#%%\n"
    }
   },
   "outputs": [
    {
     "data": {
      "text/plain": [
       "0    melon_headed_whale\n",
       "1        humpback_whale\n",
       "2    false_killer_whale\n",
       "3    bottlenose_dolphin\n",
       "4        humpback_whale\n",
       "Name: species, dtype: object"
      ]
     },
     "execution_count": 12,
     "metadata": {},
     "output_type": "execute_result"
    }
   ],
   "source": [
    "labels_full.head()"
   ]
  },
  {
   "cell_type": "code",
   "execution_count": 13,
   "metadata": {},
   "outputs": [
    {
     "data": {
      "text/plain": [
       "(51033,)"
      ]
     },
     "execution_count": 13,
     "metadata": {},
     "output_type": "execute_result"
    }
   ],
   "source": [
    "labels_full.shape"
   ]
  },
  {
   "cell_type": "code",
   "execution_count": 6,
   "id": "52d3f4c3",
   "metadata": {},
   "outputs": [],
   "source": [
    "pic_ids_full = labels_df[\"image\"]"
   ]
  },
  {
   "cell_type": "code",
   "execution_count": 15,
   "metadata": {
    "pycharm": {
     "name": "#%%\n"
    }
   },
   "outputs": [
    {
     "data": {
      "text/plain": [
       "0    00021adfb725ed.jpg\n",
       "1    000562241d384d.jpg\n",
       "2    0007c33415ce37.jpg\n",
       "3    0007d9bca26a99.jpg\n",
       "4    00087baf5cef7a.jpg\n",
       "Name: image, dtype: object"
      ]
     },
     "execution_count": 15,
     "metadata": {},
     "output_type": "execute_result"
    }
   ],
   "source": [
    "pic_ids_full.head()"
   ]
  },
  {
   "cell_type": "code",
   "execution_count": 16,
   "metadata": {},
   "outputs": [
    {
     "data": {
      "text/plain": [
       "(51033,)"
      ]
     },
     "execution_count": 16,
     "metadata": {},
     "output_type": "execute_result"
    }
   ],
   "source": [
    "pic_ids_full.shape"
   ]
  },
  {
   "cell_type": "code",
   "execution_count": 7,
   "id": "753fd84f",
   "metadata": {},
   "outputs": [],
   "source": [
    "# load npz files ## has to be adjusted to the actual one\n",
    "img_data = np.load(\"input/04_cleaned/train/img_data_full_48.npz\")\n",
    "img_data_full = img_data[\"arr_0\"]"
   ]
  },
  {
   "cell_type": "code",
   "execution_count": 8,
   "metadata": {
    "pycharm": {
     "name": "#%%\n"
    }
   },
   "outputs": [
    {
     "data": {
      "text/plain": "(51033, 6912)"
     },
     "execution_count": 8,
     "metadata": {},
     "output_type": "execute_result"
    }
   ],
   "source": [
    "img_data_full.shape"
   ]
  },
  {
   "cell_type": "code",
   "execution_count": 9,
   "outputs": [],
   "source": [
    "# Split into training and test set - 10.000 test set / 40.000 full training set\n",
    "# stratify = labels splits it proportionally to classes in the dataset\n",
    "\n",
    "from sklearn.model_selection import train_test_split\n",
    "img_data_train_full, img_data_test_no_PCA, labels_train_full, labels_test_no_PCA, pic_ids_train_full, pic_ids_test_no_PCA = train_test_split(img_data_full , labels_full, pic_ids_full, stratify=labels_full, test_size=0.2, random_state=42)\n"
   ],
   "metadata": {
    "collapsed": false,
    "pycharm": {
     "name": "#%%\n"
    }
   }
  },
  {
   "cell_type": "code",
   "execution_count": 10,
   "outputs": [],
   "source": [
    "# Split into training and validation set - 30.000 training set / 10.000 validation set\n",
    "img_data_train_no_PCA, img_data_val_no_PCA, labels_train_no_PCA, labels_val_no_PCA, pic_ids_train_no_PCA, pic_ids_val_no_PCA = train_test_split(img_data_train_full , labels_train_full, pic_ids_train_full, train_size=30000, random_state=42)"
   ],
   "metadata": {
    "collapsed": false,
    "pycharm": {
     "name": "#%%\n"
    }
   }
  },
  {
   "cell_type": "markdown",
   "source": [
    "## Speed improvements through dimensionality reduction\n"
   ],
   "metadata": {
    "collapsed": false
   }
  },
  {
   "cell_type": "markdown",
   "source": [
    "### Performing Principal Component Analysis on the training data"
   ],
   "metadata": {
    "collapsed": false
   }
  },
  {
   "cell_type": "code",
   "execution_count": 12,
   "outputs": [],
   "source": [
    "from sklearn.decomposition import PCA"
   ],
   "metadata": {
    "collapsed": false,
    "pycharm": {
     "name": "#%%\n"
    }
   }
  },
  {
   "cell_type": "code",
   "execution_count": 16,
   "outputs": [
    {
     "data": {
      "text/plain": "(51033, 6912)"
     },
     "execution_count": 16,
     "metadata": {},
     "output_type": "execute_result"
    }
   ],
   "source": [
    "img_data_full.shape"
   ],
   "metadata": {
    "collapsed": false,
    "pycharm": {
     "name": "#%%\n"
    }
   }
  },
  {
   "cell_type": "code",
   "execution_count": 17,
   "outputs": [],
   "source": [
    "# defining to keep 99% of the variance of the data\n",
    "pca = PCA(.95)\n",
    "img_data_full_red = pca.fit_transform(img_data_full)"
   ],
   "metadata": {
    "collapsed": false,
    "pycharm": {
     "name": "#%%\n"
    }
   }
  },
  {
   "cell_type": "code",
   "execution_count": 44,
   "outputs": [
    {
     "data": {
      "text/plain": "(51033, 502)"
     },
     "execution_count": 44,
     "metadata": {},
     "output_type": "execute_result"
    }
   ],
   "source": [
    "# checking how many features are left\n",
    "img_data_full_red.shape"
   ],
   "metadata": {
    "collapsed": false,
    "pycharm": {
     "name": "#%%\n"
    }
   }
  },
  {
   "cell_type": "markdown",
   "source": [
    "### 1466 features are left when keeping 99% of variance (still too many)\n",
    "### 502 features are left when keeping 95% of variance"
   ],
   "metadata": {
    "collapsed": false,
    "pycharm": {
     "name": "#%% md\n"
    }
   }
  },
  {
   "cell_type": "code",
   "execution_count": 42,
   "outputs": [],
   "source": [
    "# save dataset after PCA\n",
    "\n",
    "def store_dict_red(image_df, target_pixel):\n",
    "    if full_data_switch_on == True:\n",
    "        savez_compressed(\"input/04_cleaned/train/img_data_full_red_\"+str(target_pixel)+\".npz\",image_df)\n",
    "        print(\"file successfully stored in: input/04_cleaned/train/img_data_full_red_\"+str(target_pixel)+\".npz\")\n",
    "    elif full_data_switch_on == False:\n",
    "        savez_compressed(\"input/04_cleaned/train/img_data_sample_red_\"+str(target_pixel)+\".npz\",image_df)\n",
    "        print(\"file successfully stored in: input/04_cleaned/train/img_data_sample_red_\"+str(target_pixel)+\".npz\")\n",
    "    else:\n",
    "        raise ValueError(\"Full data switch is not correctly defined\")"
   ],
   "metadata": {
    "collapsed": false,
    "pycharm": {
     "name": "#%%\n"
    }
   }
  },
  {
   "cell_type": "markdown",
   "source": [
    "### Store reduced image file"
   ],
   "metadata": {
    "collapsed": false
   }
  },
  {
   "cell_type": "code",
   "execution_count": 43,
   "outputs": [
    {
     "name": "stdout",
     "output_type": "stream",
     "text": [
      "file successfully stored in: input/04_cleaned/train/img_data_full_red_48.npz\n"
     ]
    }
   ],
   "source": [
    "store_dict_red(img_data_full_red, target_pixel=48)"
   ],
   "metadata": {
    "collapsed": false,
    "pycharm": {
     "name": "#%%\n"
    }
   }
  },
  {
   "cell_type": "markdown",
   "source": [
    "### Load reduced image file"
   ],
   "metadata": {
    "collapsed": false,
    "pycharm": {
     "name": "#%% md\n"
    }
   }
  },
  {
   "cell_type": "code",
   "execution_count": null,
   "outputs": [],
   "source": [
    "# load npz files\n",
    "img_data_red = np.load(\"input/04_cleaned/train/img_data_full_red_48.npz\")\n",
    "img_data_full_red = img_data_red[\"arr_0\"]"
   ],
   "metadata": {
    "collapsed": false,
    "pycharm": {
     "name": "#%%\n"
    }
   }
  },
  {
   "cell_type": "code",
   "execution_count": 19,
   "id": "1c5cbefd",
   "metadata": {},
   "outputs": [],
   "source": [
    "# Split into training and test set - 10.000 test set / 40.000 full training set\n",
    "# stratify = labels splits it proportionally to classes in the dataset\n",
    "\n",
    "from sklearn.model_selection import train_test_split\n",
    "img_data_train_full, img_data_test, labels_train_full, labels_test, pic_ids_train_full, pic_ids_test = train_test_split(img_data_full_red , labels_full, pic_ids_full, stratify=labels_full, test_size=0.2, random_state=42)\n"
   ]
  },
  {
   "cell_type": "code",
   "execution_count": 20,
   "id": "5f12ee90",
   "metadata": {},
   "outputs": [],
   "source": [
    "# Split into training and validation set - 30.000 training set / 10.000 validation set\n",
    "img_data_train, img_data_val, labels_train, labels_val, pic_ids_train, pic_ids_val = train_test_split(img_data_train_full , labels_train_full, pic_ids_train_full, train_size=30000, random_state=42)\n"
   ]
  },
  {
   "cell_type": "code",
   "execution_count": null,
   "metadata": {},
   "outputs": [],
   "source": [
    "# Checking for correct dimensions."
   ]
  },
  {
   "cell_type": "code",
   "execution_count": 45,
   "metadata": {},
   "outputs": [
    {
     "data": {
      "text/plain": "(40826, 502)"
     },
     "execution_count": 45,
     "metadata": {},
     "output_type": "execute_result"
    }
   ],
   "source": [
    "img_data_train_full.shape"
   ]
  },
  {
   "cell_type": "code",
   "execution_count": 46,
   "metadata": {},
   "outputs": [
    {
     "data": {
      "text/plain": "(10207, 502)"
     },
     "execution_count": 46,
     "metadata": {},
     "output_type": "execute_result"
    }
   ],
   "source": [
    "img_data_test.shape"
   ]
  },
  {
   "cell_type": "code",
   "execution_count": 47,
   "metadata": {},
   "outputs": [
    {
     "data": {
      "text/plain": "(30000, 502)"
     },
     "execution_count": 47,
     "metadata": {},
     "output_type": "execute_result"
    }
   ],
   "source": [
    "img_data_train.shape"
   ]
  },
  {
   "cell_type": "code",
   "execution_count": 48,
   "metadata": {},
   "outputs": [
    {
     "data": {
      "text/plain": "(10826, 502)"
     },
     "execution_count": 48,
     "metadata": {},
     "output_type": "execute_result"
    }
   ],
   "source": [
    "img_data_val.shape"
   ]
  },
  {
   "cell_type": "code",
   "execution_count": 65,
   "outputs": [
    {
     "data": {
      "text/plain": "bottlenose_dolphin           2270\nbeluga                       1562\nhumpback_whale               1522\nblue_whale                   1049\nfalse_killer_whale            710\ndusky_dolphin                 648\nkiller_whale                  509\nminke_whale                   378\nmelon_headed_whale            364\nspinner_dolphin               347\nfin_whale                     307\ngray_whale                    238\nsouthern_right_whale          190\nshort_finned_pilot_whale      165\nspotted_dolphin                92\nsei_whale                      85\ncuviers_beaked_whale           76\ncommon_dolphin                 75\nlong_finned_pilot_whale        54\nwhite_sided_dolphin            54\npantropic_spotted_dolphin      39\nbrydes_whale                   30\ncommersons_dolphin             23\npygmy_killer_whale             20\nrough_toothed_dolphin          18\nfrasiers_dolphin                1\nName: species, dtype: int64"
     },
     "execution_count": 65,
     "metadata": {},
     "output_type": "execute_result"
    }
   ],
   "source": [
    "# The distribution between training and validation set is similar.\n",
    "labels_val.value_counts()"
   ],
   "metadata": {
    "collapsed": false,
    "pycharm": {
     "name": "#%%\n"
    }
   }
  },
  {
   "cell_type": "code",
   "execution_count": 66,
   "outputs": [
    {
     "data": {
      "text/plain": "bottlenose_dolphin           8625\nbeluga                       5954\nhumpback_whale               5914\nblue_whale                   3864\nfalse_killer_whale           2661\ndusky_dolphin                2511\nkiller_whale                 1964\nspinner_dolphin              1360\nmelon_headed_whale           1351\nminke_whale                  1286\nfin_whale                    1059\ngray_whale                    898\nsouthern_right_whale          693\nshort_finned_pilot_whale      596\nspotted_dolphin               392\nsei_whale                     342\ncommon_dolphin                278\ncuviers_beaked_whale          273\nlong_finned_pilot_whale       191\nwhite_sided_dolphin           183\nbrydes_whale                  123\npantropic_spotted_dolphin     116\ncommersons_dolphin             72\npygmy_killer_whale             61\nrough_toothed_dolphin          48\nfrasiers_dolphin               11\nName: species, dtype: int64"
     },
     "execution_count": 66,
     "metadata": {},
     "output_type": "execute_result"
    }
   ],
   "source": [
    "labels_train_full.value_counts()"
   ],
   "metadata": {
    "collapsed": false,
    "pycharm": {
     "name": "#%%\n"
    }
   }
  },
  {
   "cell_type": "code",
   "execution_count": null,
   "outputs": [],
   "source": [
    "# So now we have: 30000 images in the training set, 10826 images in the validation set, 10207 images in the test set"
   ],
   "metadata": {
    "collapsed": false,
    "pycharm": {
     "name": "#%%\n"
    }
   }
  },
  {
   "cell_type": "markdown",
   "id": "fce4f685",
   "metadata": {},
   "source": [
    "## Implementing baseline model"
   ]
  },
  {
   "cell_type": "code",
   "execution_count": 21,
   "id": "af2f3bb9",
   "metadata": {},
   "outputs": [],
   "source": [
    "def train_clasf(classifier_x, img_data_train, labels_train):        \n",
    "    # set name of classifier\n",
    "    classifier_name = classifier_x.__class__.__name__\n",
    "    \n",
    "    # train model\n",
    "    print(\">... Starting training of\", classifier_name)\n",
    "    start_time = timeit.default_timer()\n",
    "    classifier_x.fit(img_data_train, labels_train)\n",
    "    time_elapsed = timeit.default_timer() - start_time\n",
    "    \n",
    "    print(\">... Classifier {} sucessfully trained in {} seconds.\".format(classifier_name, round(time_elapsed,3)))\n",
    "        "
   ]
  },
  {
   "cell_type": "code",
   "execution_count": 23,
   "id": "ee007575",
   "metadata": {},
   "outputs": [
    {
     "name": "stdout",
     "output_type": "stream",
     "text": [
      ">... Starting training of LogisticRegression\n",
      ">... Classifier LogisticRegression sucessfully trained in 96.605 seconds.\n"
     ]
    }
   ],
   "source": [
    "# Running this on the Hertie Server takes around 2 hours with max_iter = 500 and 24 minutes with max_iter = 100 on full image data\n",
    "# After PCA, it runs in 96 seconds locally with max_iter = 500\n",
    "\n",
    "# We set solver = 'sag' because stochastic average gradient descent works better on large data sets\n",
    "\n",
    "from sklearn.linear_model import LogisticRegression\n",
    "\n",
    "classifier_LR = LogisticRegression(random_state=42, max_iter = 500, solver = 'sag')\n",
    "train_clasf(classifier_LR, img_data_train, labels_train)"
   ]
  },
  {
   "cell_type": "markdown",
   "id": "24c248b5",
   "metadata": {},
   "source": [
    "## Evaluating baseline model (\"compute metrics on train AND dev\")"
   ]
  },
  {
   "cell_type": "code",
   "execution_count": 24,
   "id": "f5c2394a",
   "metadata": {},
   "outputs": [],
   "source": [
    "from sklearn.metrics import f1_score, precision_score, recall_score"
   ]
  },
  {
   "cell_type": "code",
   "execution_count": 25,
   "id": "c28c2d7d",
   "metadata": {},
   "outputs": [
    {
     "name": "stderr",
     "output_type": "stream",
     "text": [
      "/Library/Frameworks/Python.framework/Versions/3.7/lib/python3.7/site-packages/sklearn/metrics/_classification.py:1318: UndefinedMetricWarning: Precision is ill-defined and being set to 0.0 in labels with no predicted samples. Use `zero_division` parameter to control this behavior.\n",
      "  _warn_prf(average, modifier, msg_start, len(result))\n",
      "/Library/Frameworks/Python.framework/Versions/3.7/lib/python3.7/site-packages/sklearn/metrics/_classification.py:1318: UndefinedMetricWarning: Precision is ill-defined and being set to 0.0 in labels with no predicted samples. Use `zero_division` parameter to control this behavior.\n",
      "  _warn_prf(average, modifier, msg_start, len(result))\n"
     ]
    }
   ],
   "source": [
    "# store predictions of classifier\n",
    "pred_train = classifier_LR.predict(img_data_train)\n",
    "pred_val = classifier_LR.predict(img_data_val)\n",
    "\n",
    "# evaluate classifier and store metrics \n",
    "evaluation_scores = {\"Precision Score Train\": precision_score(labels_train, pred_train, average = \"macro\").round(3),\n",
    "                     \"Precision Score Validation\": precision_score(labels_val, pred_val, average = \"macro\").round(3),\n",
    "                     \"Recall Score Train\": recall_score(labels_train, pred_train, average = \"macro\").round(3),\n",
    "                     \"Recall Score Validation\": recall_score(labels_val, pred_val, average = \"macro\").round(3),\n",
    "                     \"F1 Score Train\": f1_score(labels_train, pred_train, average=\"macro\").round(3),\n",
    "                     \"F1 Score Validation\": f1_score(labels_val, pred_val, average=\"macro\").round(3)}\n"
   ]
  },
  {
   "cell_type": "code",
   "execution_count": 26,
   "id": "bd317542",
   "metadata": {},
   "outputs": [],
   "source": [
    "# save evaluation scores \n",
    "def store_eval_score(image_df, classifier_name):\n",
    "    savez_compressed(OUTPUT_PATH_TRAIN_EVAL + \"/evaluation_scores_\"+str(classifier_name)+\".npz\",image_df)\n",
    "    print(\"file successfully stored in: output/ml_models/02_training_set_evaluation\")\n"
   ]
  },
  {
   "cell_type": "code",
   "execution_count": 27,
   "id": "6e97ab2b",
   "metadata": {},
   "outputs": [
    {
     "name": "stdout",
     "output_type": "stream",
     "text": [
      "file successfully stored in: output/ml_models/02_training_set_evaluation\n"
     ]
    }
   ],
   "source": [
    "store_eval_score(evaluation_scores, \"LogisticRegression\")"
   ]
  },
  {
   "cell_type": "code",
   "execution_count": null,
   "id": "17ab7334",
   "metadata": {},
   "outputs": [],
   "source": [
    "## Multiclass Confusion Matrix"
   ]
  },
  {
   "cell_type": "code",
   "execution_count": null,
   "outputs": [],
   "source": [
    "from sklearn.metrics import multilabel_confusion_matrix\n",
    "\n",
    "conf_matrix = multilabel_confusion_matrix(labels_val,pred_val,labels=labels_val)"
   ],
   "metadata": {
    "collapsed": false,
    "pycharm": {
     "name": "#%%\n"
    }
   }
  },
  {
   "cell_type": "code",
   "execution_count": null,
   "outputs": [],
   "source": [
    "from sklearn.metrics import ConfusionMatrixDisplay\n",
    "import matplotlib.pyplot as plt\n",
    "\n",
    "disp_conf_matrix = ConfusionMatrixDisplay.from_predictions(labels_val, pred_val)\n",
    "\n",
    "disp_conf_matrix.show()"
   ],
   "metadata": {
    "collapsed": false,
    "pycharm": {
     "name": "#%%\n"
    }
   }
  },
  {
   "cell_type": "code",
   "execution_count": null,
   "outputs": [],
   "source": [
    "plt.show()"
   ],
   "metadata": {
    "collapsed": false,
    "pycharm": {
     "name": "#%%\n"
    }
   }
  },
  {
   "cell_type": "code",
   "execution_count": 55,
   "metadata": {},
   "outputs": [],
   "source": [
    "# def function for saving the filtered error table\n",
    "\n",
    "def store_conf_matrix(disp_conf_matrix, classifier_name):\n",
    "    disp_conf_matrix.savefig(OUTPUT_PATH_TRAIN_EVAL + \"/conf_matrix_\"+str(classifier_name)+\".jpg\")\n",
    "    print(\"file successfully stored in: output/ml_models/02_training_set_evaluation\")"
   ]
  },
  {
   "cell_type": "code",
   "execution_count": null,
   "metadata": {},
   "outputs": [],
   "source": [
    "# saving the confusion matrix\n",
    "store_conf_matrix(disp_conf_matrix, \"LogisticRegression\")"
   ]
  },
  {
   "cell_type": "code",
   "execution_count": 28,
   "id": "62064ca1",
   "metadata": {},
   "outputs": [
    {
     "name": "stdout",
     "output_type": "stream",
     "text": [
      "               Picture ID                Label             Predicted  \\\n",
      "10177  000be9acf46619.jpg               beluga        humpback_whale   \n",
      "8465   0039955230421d.jpg               beluga         dusky_dolphin   \n",
      "2424   00d113413a1d49.jpg               beluga    false_killer_whale   \n",
      "5262   00e828b22fe365.jpg               beluga         dusky_dolphin   \n",
      "1492   010feffc934b3d.jpg               beluga  southern_right_whale   \n",
      "...                   ...                  ...                   ...   \n",
      "8849   efa85540ab2586.jpg  white_sided_dolphin         dusky_dolphin   \n",
      "7800   f02f3ae99c3d9c.jpg  white_sided_dolphin    bottlenose_dolphin   \n",
      "1556   f1233d55638316.jpg  white_sided_dolphin            blue_whale   \n",
      "8265   fd1f3537526309.jpg  white_sided_dolphin    bottlenose_dolphin   \n",
      "2177   ff2c586b000bd9.jpg  white_sided_dolphin        humpback_whale   \n",
      "\n",
      "      Error Check  \n",
      "10177       error  \n",
      "8465        error  \n",
      "2424        error  \n",
      "5262        error  \n",
      "1492        error  \n",
      "...           ...  \n",
      "8849        error  \n",
      "7800        error  \n",
      "1556        error  \n",
      "8265        error  \n",
      "2177        error  \n",
      "\n",
      "[9715 rows x 4 columns]\n"
     ]
    }
   ],
   "source": [
    "# Inspecting the errors \n",
    "output_dict = {}\n",
    "output_array = np.c_[pic_ids_val, labels_val, pred_val] ## adjust name of pic_ids and labels depending on train or val\n",
    "    \n",
    "# Create error array with specific error\n",
    "err_type_arr = np.array([])\n",
    "for i in range(len(output_array)):\n",
    "    if output_array[i,1] != output_array[i,2]:\n",
    "        err_type_arr = np.append(err_type_arr, \"error\")\n",
    "    else:\n",
    "        err_type_arr = np.append(err_type_arr, \"No error\")\n",
    "\n",
    "error_table_pd = pd.DataFrame(output_array)\n",
    "error_table_pd.rename(columns = {0:'Picture ID', 1:\"Label\", 2:\"Predicted\"}, inplace = True)\n",
    "error_table_pd[\"Error Check\"] = err_type_arr\n",
    "\n",
    "# print filtered error table\n",
    "print(error_table_pd.loc[error_table_pd[\"Error Check\"].isin([\"error\"])].sort_values(by=[\"Label\", \"Picture ID\"]))"
   ]
  },
  {
   "cell_type": "code",
   "execution_count": 29,
   "id": "89da3848",
   "metadata": {},
   "outputs": [],
   "source": [
    "# def function for saving the filtered error table\n",
    "\n",
    "def store_error_table(image_df, classifier_name):\n",
    "    savez_compressed(OUTPUT_PATH_TRAIN_EVAL + \"/error_table_\"+str(classifier_name)+\".npz\",image_df)\n",
    "    print(\"file successfully stored in: output/ml_models/02_training_set_evaluation\")\n"
   ]
  },
  {
   "cell_type": "code",
   "execution_count": 30,
   "id": "d54b781e",
   "metadata": {},
   "outputs": [
    {
     "name": "stdout",
     "output_type": "stream",
     "text": [
      "file successfully stored in: output/ml_models/02_training_set_evaluation\n"
     ]
    }
   ],
   "source": [
    "# transform pd frame into dictionary for saving\n",
    "output_dict[\"error_table\"] = error_table_pd\n",
    "\n",
    "# saving the error table\n",
    "store_error_table(output_dict, \"LogisticRegression\")"
   ]
  },
  {
   "cell_type": "markdown",
   "id": "87d0da3e",
   "metadata": {},
   "source": [
    "## Implementing RandomForest Classifier as advanced model"
   ]
  },
  {
   "cell_type": "code",
   "execution_count": 31,
   "id": "027fa7b3",
   "metadata": {},
   "outputs": [],
   "source": [
    "from sklearn.ensemble import RandomForestClassifier"
   ]
  },
  {
   "cell_type": "code",
   "execution_count": 32,
   "outputs": [
    {
     "name": "stdout",
     "output_type": "stream",
     "text": [
      ">... Starting training of RandomForestClassifier\n",
      ">... Classifier RandomForestClassifier sucessfully trained in 236.886 seconds.\n"
     ]
    }
   ],
   "source": [
    "num_trees = 500\n",
    "\n",
    "# this works in 5 minutes locally after PCA\n",
    "\n",
    "classifier_RF = RandomForestClassifier(max_depth = 10, n_estimators = num_trees, n_jobs=-1,random_state=42)\n",
    "train_clasf(classifier_RF, img_data_train, labels_train)"
   ],
   "metadata": {
    "collapsed": false,
    "pycharm": {
     "name": "#%%\n"
    }
   }
  },
  {
   "cell_type": "markdown",
   "id": "5bcd2e01",
   "metadata": {},
   "source": [
    "## Evaluating RandomForest Classifier "
   ]
  },
  {
   "cell_type": "code",
   "execution_count": 33,
   "id": "ff699a43",
   "metadata": {},
   "outputs": [],
   "source": [
    "# store predictions of classifier ## Victor: ich war mir nicht ganz sicher ob das so richtig ist\n",
    "pred_train = classifier_RF.predict(img_data_train)\n",
    "pred_val = classifier_RF.predict(img_data_val)"
   ]
  },
  {
   "cell_type": "code",
   "execution_count": 34,
   "outputs": [
    {
     "name": "stderr",
     "output_type": "stream",
     "text": [
      "/Library/Frameworks/Python.framework/Versions/3.7/lib/python3.7/site-packages/sklearn/metrics/_classification.py:1318: UndefinedMetricWarning: Precision is ill-defined and being set to 0.0 in labels with no predicted samples. Use `zero_division` parameter to control this behavior.\n",
      "  _warn_prf(average, modifier, msg_start, len(result))\n",
      "/Library/Frameworks/Python.framework/Versions/3.7/lib/python3.7/site-packages/sklearn/metrics/_classification.py:1318: UndefinedMetricWarning: Precision is ill-defined and being set to 0.0 in labels with no predicted samples. Use `zero_division` parameter to control this behavior.\n",
      "  _warn_prf(average, modifier, msg_start, len(result))\n"
     ]
    }
   ],
   "source": [
    "# evaluate classifier and store metrics \n",
    "evaluation_scores = {\"Precision Score Train\": precision_score(labels_train, pred_train, average = \"macro\").round(3),\n",
    "                     \"Precision Score Validation\": precision_score(labels_val, pred_val, average = \"macro\").round(3),\n",
    "                     \"Recall Score Train\": recall_score(labels_train, pred_train, average = \"macro\").round(3),\n",
    "                     \"Recall Score Validation\": recall_score(labels_val, pred_val, average = \"macro\").round(3),\n",
    "                     \"F1 Score Train\": f1_score(labels_train, pred_train, average=\"macro\").round(3),\n",
    "                     \"F1 Score Validation\": f1_score(labels_val, pred_val, average=\"macro\").round(3)}"
   ],
   "metadata": {
    "collapsed": false,
    "pycharm": {
     "name": "#%%\n"
    }
   }
  },
  {
   "cell_type": "code",
   "execution_count": 35,
   "id": "ec08c595",
   "metadata": {},
   "outputs": [
    {
     "name": "stdout",
     "output_type": "stream",
     "text": [
      "file successfully stored in: output/ml_models/02_training_set_evaluation\n"
     ]
    }
   ],
   "source": [
    "store_eval_score(evaluation_scores, \"RandomForest\")"
   ]
  },
  {
   "cell_type": "code",
   "execution_count": 36,
   "metadata": {},
   "outputs": [
    {
     "name": "stdout",
     "output_type": "stream",
     "text": [
      "               Picture ID                Label           Predicted Error Check\n",
      "10177  000be9acf46619.jpg               beluga  bottlenose_dolphin       error\n",
      "8465   0039955230421d.jpg               beluga  bottlenose_dolphin       error\n",
      "7302   003ab41b6147f4.jpg               beluga  bottlenose_dolphin       error\n",
      "2424   00d113413a1d49.jpg               beluga  bottlenose_dolphin       error\n",
      "5262   00e828b22fe365.jpg               beluga  bottlenose_dolphin       error\n",
      "...                   ...                  ...                 ...         ...\n",
      "8849   efa85540ab2586.jpg  white_sided_dolphin  bottlenose_dolphin       error\n",
      "7800   f02f3ae99c3d9c.jpg  white_sided_dolphin  bottlenose_dolphin       error\n",
      "1556   f1233d55638316.jpg  white_sided_dolphin  bottlenose_dolphin       error\n",
      "8265   fd1f3537526309.jpg  white_sided_dolphin  bottlenose_dolphin       error\n",
      "2177   ff2c586b000bd9.jpg  white_sided_dolphin  bottlenose_dolphin       error\n",
      "\n",
      "[8556 rows x 4 columns]\n"
     ]
    }
   ],
   "source": [
    "# Inspecting the errors \n",
    "output_dict = {}\n",
    "output_array = np.c_[pic_ids_val, labels_val, pred_val] ## adjust name of pic_ids and labels depending on train or val\n",
    "    \n",
    "# Create error array with specific error\n",
    "err_type_arr = np.array([])\n",
    "for i in range(len(output_array)):\n",
    "    if output_array[i,1] != output_array[i,2]:\n",
    "        err_type_arr = np.append(err_type_arr, \"error\")\n",
    "    else:\n",
    "        err_type_arr = np.append(err_type_arr, \"No error\")\n",
    "\n",
    "error_table_pd = pd.DataFrame(output_array)\n",
    "error_table_pd.rename(columns = {0:'Picture ID', 1:\"Label\", 2:\"Predicted\"}, inplace = True)\n",
    "error_table_pd[\"Error Check\"] = err_type_arr\n",
    "\n",
    "# print filtered error table\n",
    "print(error_table_pd.loc[error_table_pd[\"Error Check\"].isin([\"error\"])].sort_values(by=[\"Label\", \"Picture ID\"]))"
   ]
  },
  {
   "cell_type": "code",
   "execution_count": 37,
   "metadata": {},
   "outputs": [
    {
     "name": "stdout",
     "output_type": "stream",
     "text": [
      "file successfully stored in: output/ml_models/02_training_set_evaluation\n"
     ]
    }
   ],
   "source": [
    "# transform pd frame into dictionary for saving\n",
    "output_dict[\"error_table\"] = error_table_pd\n",
    "\n",
    "# saving the error table\n",
    "store_error_table(output_dict, \"RandomForest\")"
   ]
  },
  {
   "cell_type": "code",
   "execution_count": null,
   "id": "e02eb7ea",
   "metadata": {},
   "outputs": [],
   "source": [
    "## Multiclass Confusion Matrix"
   ]
  },
  {
   "cell_type": "code",
   "execution_count": 60,
   "outputs": [
    {
     "data": {
      "text/plain": "<Figure size 432x288 with 2 Axes>",
      "image/png": "[encoded data removed]"
     },
     "metadata": {
      "needs_background": "light"
     },
     "output_type": "display_data"
    }
   ],
   "source": [
    "from sklearn.metrics import ConfusionMatrixDisplay, confusion_matrix\n",
    "import matplotlib.pyplot as plt\n",
    "\n",
    "cm = confusion_matrix(labels_val, pred_val)\n",
    "cm = confusion_matrix(np.arange(26), np.arange(26))\n",
    "cmp = ConfusionMatrixDisplay(cm, display_labels=np.arange(26))\n",
    "fig, ax = plt.subplots(figsize=(10,10))"
   ],
   "metadata": {
    "collapsed": false,
    "pycharm": {
     "name": "#%%\n"
    }
   }
  },
  {
   "cell_type": "code",
   "execution_count": null,
   "outputs": [],
   "source": [
    "cmp.plot(ax=ax)"
   ],
   "metadata": {
    "collapsed": false,
    "pycharm": {
     "name": "#%%\n"
    }
   }
  },
  {
   "cell_type": "code",
   "execution_count": null,
   "outputs": [],
   "source": [
    "disp = ConfusionMatrixDisplay.from_predictions(labels_val, pred_val)"
   ],
   "metadata": {
    "collapsed": false,
    "pycharm": {
     "name": "#%%\n"
    }
   }
  },
  {
   "cell_type": "code",
   "execution_count": 57,
   "outputs": [],
   "source": [
    "disp = disp.plt()"
   ],
   "metadata": {
    "collapsed": false,
    "pycharm": {
     "name": "#%%\n"
    }
   }
  },
  {
   "cell_type": "code",
   "execution_count": 61,
   "metadata": {},
   "outputs": [
    {
     "ename": "AttributeError",
     "evalue": "'ConfusionMatrixDisplay' object has no attribute 'savefig'",
     "output_type": "error",
     "traceback": [
      "\u001B[0;31m---------------------------------------------------------------------------\u001B[0m",
      "\u001B[0;31mAttributeError\u001B[0m                            Traceback (most recent call last)",
      "\u001B[0;32m/var/folders/8f/zw4n_kpn30j_vfk73jgzpxg00000gn/T/ipykernel_35252/1242883222.py\u001B[0m in \u001B[0;36m<module>\u001B[0;34m\u001B[0m\n\u001B[1;32m      1\u001B[0m \u001B[0;31m# saving the confusion matrix\u001B[0m\u001B[0;34m\u001B[0m\u001B[0;34m\u001B[0m\u001B[0;34m\u001B[0m\u001B[0m\n\u001B[0;32m----> 2\u001B[0;31m \u001B[0mstore_conf_matrix\u001B[0m\u001B[0;34m(\u001B[0m\u001B[0mfig\u001B[0m\u001B[0;34m,\u001B[0m \u001B[0;34m\"RandomForest\"\u001B[0m\u001B[0;34m)\u001B[0m\u001B[0;34m\u001B[0m\u001B[0;34m\u001B[0m\u001B[0m\n\u001B[0m\u001B[1;32m      3\u001B[0m \u001B[0;34m\u001B[0m\u001B[0m\n",
      "\u001B[0;32m/var/folders/8f/zw4n_kpn30j_vfk73jgzpxg00000gn/T/ipykernel_35252/732633392.py\u001B[0m in \u001B[0;36mstore_conf_matrix\u001B[0;34m(disp_conf_matrix, classifier_name)\u001B[0m\n\u001B[1;32m      2\u001B[0m \u001B[0;34m\u001B[0m\u001B[0m\n\u001B[1;32m      3\u001B[0m \u001B[0;32mdef\u001B[0m \u001B[0mstore_conf_matrix\u001B[0m\u001B[0;34m(\u001B[0m\u001B[0mdisp_conf_matrix\u001B[0m\u001B[0;34m,\u001B[0m \u001B[0mclassifier_name\u001B[0m\u001B[0;34m)\u001B[0m\u001B[0;34m:\u001B[0m\u001B[0;34m\u001B[0m\u001B[0;34m\u001B[0m\u001B[0m\n\u001B[0;32m----> 4\u001B[0;31m     \u001B[0mdisp_conf_matrix\u001B[0m\u001B[0;34m.\u001B[0m\u001B[0msavefig\u001B[0m\u001B[0;34m(\u001B[0m\u001B[0mOUTPUT_PATH_TRAIN_EVAL\u001B[0m \u001B[0;34m+\u001B[0m \u001B[0;34m\"/conf_matrix\"\u001B[0m\u001B[0;34m+\u001B[0m\u001B[0mstr\u001B[0m\u001B[0;34m(\u001B[0m\u001B[0mclassifier_name\u001B[0m\u001B[0;34m)\u001B[0m\u001B[0;34m+\u001B[0m\u001B[0;34m\".jpg\"\u001B[0m\u001B[0;34m)\u001B[0m\u001B[0;34m\u001B[0m\u001B[0;34m\u001B[0m\u001B[0m\n\u001B[0m\u001B[1;32m      5\u001B[0m     \u001B[0mprint\u001B[0m\u001B[0;34m(\u001B[0m\u001B[0;34m\"file successfully stored in: output/ml_models/02_training_set_evaluation\"\u001B[0m\u001B[0;34m)\u001B[0m\u001B[0;34m\u001B[0m\u001B[0;34m\u001B[0m\u001B[0m\n\u001B[1;32m      6\u001B[0m \u001B[0;34m\u001B[0m\u001B[0m\n",
      "\u001B[0;31mAttributeError\u001B[0m: 'ConfusionMatrixDisplay' object has no attribute 'savefig'"
     ]
    }
   ],
   "source": [
    "# saving the confusion matrix\n",
    "store_conf_matrix(fig, \"RandomForest\")"
   ]
  },
  {
   "cell_type": "markdown",
   "id": "de0ed3ac",
   "metadata": {},
   "source": [
    "## Hyperparamter Tuning RandomForest Classifier"
   ]
  },
  {
   "cell_type": "code",
   "execution_count": 38,
   "id": "a80f90b0",
   "metadata": {},
   "outputs": [],
   "source": [
    "from sklearn.model_selection import GridSearchCV, RandomizedSearchCV"
   ]
  },
  {
   "cell_type": "code",
   "execution_count": 39,
   "id": "83916f92",
   "metadata": {},
   "outputs": [],
   "source": [
    "# Selecting Parameters of Random Forest Classifier for Grid Search\n",
    "\n",
    "params_grid_RF = [\n",
    "    {\"n_estimators\": [100, 500, 1000, 2000],\n",
    "     \"criterion\":[\"gini\",\"entropy\"],\n",
    "     \"max_features\": [\"auto\", \"log2\", \"sqrt\"],\n",
    "     \"bootstrap\": [True, False],\n",
    "     \"max_depth\": [90, 100, 110],\n",
    "     \"min_samples_leaf\": [1, 2, 4],\n",
    "     \"min_samples_split\": [2, 5, 10]}\n",
    "]\n"
   ]
  },
  {
   "cell_type": "code",
   "execution_count": 40,
   "id": "a92ee0cd",
   "metadata": {},
   "outputs": [],
   "source": [
    "classifier_RF_hyper = RandomForestClassifier()"
   ]
  },
  {
   "cell_type": "code",
   "execution_count": null,
   "outputs": [],
   "source": [
    "# Perform Randomized Search\n",
    "\n",
    "scoring = [\"f1_macro\", \"accuracy\", \"precision_macro\", \"recall_macro\"]\n",
    "\n",
    "\n",
    "randomized_search = RandomizedSearchCV(estimator = classifier_RF_hyper,\n",
    "                           param_distributions = params_grid_RF,\n",
    "                           n_iter=10,\n",
    "                           cv = 3,\n",
    "                           scoring= scoring,\n",
    "                           refit = \"precision_macro\",\n",
    "                           n_jobs = -1,\n",
    "                           verbose = 3,\n",
    "                           return_train_score = True)\n",
    "\n",
    "randomized_search.fit(img_data_train, labels_train)\n",
    "\n"
   ],
   "metadata": {
    "collapsed": false,
    "pycharm": {
     "name": "#%%\n"
    }
   }
  },
  {
   "cell_type": "code",
   "execution_count": null,
   "id": "c7236087",
   "metadata": {
    "pycharm": {
     "is_executing": true
    }
   },
   "outputs": [
    {
     "name": "stdout",
     "output_type": "stream",
     "text": [
      "Fitting 3 folds for each of 1296 candidates, totalling 3888 fits\n"
     ]
    }
   ],
   "source": [
    "# Perform Grid-Search\n",
    "#Takes too loooong\n",
    "\n",
    "scoring = [\"f1_macro\", \"precision_macro\", \"recall_macro\"]\n",
    "\n",
    "\n",
    "grid_search = GridSearchCV(estimator = classifier_RF_hyper,\n",
    "                           param_grid = params_grid_RF,\n",
    "                           cv = 3,\n",
    "                           scoring= scoring,\n",
    "                           refit = \"precision_macro\",\n",
    "                           n_jobs = -1,\n",
    "                           verbose = 3,\n",
    "                           return_train_score = True)\n",
    "    \n",
    "grid_search.fit(img_data_train, labels_train)"
   ]
  },
  {
   "cell_type": "code",
   "execution_count": null,
   "id": "8ab0bd7e",
   "metadata": {},
   "outputs": [],
   "source": [
    "print(randomized_search.best_params_)\n",
    "best_hyppar_dict = {}\n",
    "best_hyppar_dict[\"Randomized_Search_Best_Params\"] = randomized_search.best_params_"
   ]
  },
  {
   "cell_type": "code",
   "execution_count": null,
   "id": "9c9fa866",
   "metadata": {},
   "outputs": [],
   "source": [
    "def store_best_hyperpar(image_df, classifier_name):\n",
    "    savez_compressed(OUTPUT_PATH_HYPPAR_TUN + \"/best_hyperpar_\"+str(classifier_name)+\".npz\",image_df)\n",
    "    print(\"file successfully stored in: output/ml_models/04_hyperparamter_tuning\")"
   ]
  },
  {
   "cell_type": "code",
   "execution_count": null,
   "id": "2764d501",
   "metadata": {},
   "outputs": [],
   "source": [
    "best_params_dict = best_hyppar_dict\n",
    "store_best_hyperpar(best_params_dict, \"RandomForestTuned\")"
   ]
  },
  {
   "cell_type": "markdown",
   "id": "8ca0f726",
   "metadata": {},
   "source": [
    "## Evaluate tuned RF classifier"
   ]
  },
  {
   "cell_type": "code",
   "execution_count": null,
   "id": "28ac40fe",
   "metadata": {},
   "outputs": [],
   "source": [
    "## define the tuned classifier with the best hyperparamters\n",
    "## these here are still random ones\n",
    "\n",
    "num_trees = 10 # change to actual value\n",
    "\n",
    "classifier_RF_tuned = RandomForestClassifier(class_weight='balanced',\n",
    "                                      criterion='gini',\n",
    "                                      max_depth=55,\n",
    "                                      max_features='log2',\n",
    "                                      min_samples_leaf=0.005,\n",
    "                                      min_samples_split=0.005,\n",
    "                                      n_estimators=num_trees)\n",
    "\n",
    "classifier_RF_tuned.fit(img_data_train,labels_train)"
   ]
  },
  {
   "cell_type": "code",
   "execution_count": null,
   "id": "fce6b15d",
   "metadata": {},
   "outputs": [],
   "source": [
    "# store predictions of classifier\n",
    "pred_train = classifier_RF_tuned.predict(img_data_train)\n",
    "pred_val = classifier_RF_tuned.predict(img_data_val)\n",
    "\n",
    "# evaluate classifier and store metrics \n",
    "evaluation_scores = {\"Precision Score Train\": precision_score(labels_train, pred_train, average = \"macro\").round(3),\n",
    "                     \"Precision Score Validation\": precision_score(labels_val, pred_val, average = \"macro\").round(3),\n",
    "                     \"Recall Score Train\": recall_score(labels_train, pred_train, average = \"macro\").round(3),\n",
    "                     \"Recall Score Validation\": recall_score(labels_val, pred_val, average = \"macro\").round(3),\n",
    "                     \"F1 Score Train\": f1_score(labels_train, pred_train, average=\"macro\").round(3),\n",
    "                     \"F1 Score Validation\": f1_score(labels_val, pred_val, average=\"macro\").round(3)}\n"
   ]
  },
  {
   "cell_type": "code",
   "execution_count": null,
   "id": "335a323a",
   "metadata": {},
   "outputs": [],
   "source": [
    "store_eval_score(evaluation_scores, \"RandomForest_tuned\")"
   ]
  },
  {
   "cell_type": "code",
   "execution_count": null,
   "metadata": {},
   "outputs": [],
   "source": [
    "## Multiclass Confusion Matrix"
   ]
  },
  {
   "cell_type": "markdown",
   "source": [
    "### Checking Feature importance of RF"
   ],
   "metadata": {
    "collapsed": false
   }
  },
  {
   "cell_type": "code",
   "execution_count": null,
   "outputs": [],
   "source": [
    "# This needs to be done on the full image data (pre-PCA)\n",
    "## define the tuned classifier with the best hyperparamters\n",
    "## these here are still random ones\n",
    "\n",
    "num_trees = 10 # change to actual value\n",
    "\n",
    "classifier_RF_tuned_no_PCA = RandomForestClassifier(class_weight='balanced',\n",
    "                                      criterion='gini',\n",
    "                                      max_depth=55,\n",
    "                                      max_features='log2',\n",
    "                                      min_samples_leaf=0.005,\n",
    "                                      min_samples_split=0.005,\n",
    "                                      n_estimators=num_trees)\n",
    "\n",
    "classifier_RF_tuned.fit(img_data_train_no_PCA,labels_train_no_PCA)"
   ],
   "metadata": {
    "collapsed": false,
    "pycharm": {
     "name": "#%%\n"
    }
   }
  },
  {
   "cell_type": "code",
   "execution_count": null,
   "outputs": [],
   "source": [
    "# Defining the function to plot the digits of feature importance\n",
    "# Adapted from Aurelien Geron:\n",
    "\n",
    "pix_res = 48\n",
    "\n",
    "def plot_digit(data):\n",
    "    image = data.reshape(pix_res, pix_res)\n",
    "    plt.imshow(image, cmap = mpl.cm.hot,\n",
    "               interpolation=\"nearest\")\n",
    "    plt.axis(\"off\")"
   ],
   "metadata": {
    "collapsed": false,
    "pycharm": {
     "name": "#%%\n"
    }
   }
  },
  {
   "cell_type": "code",
   "execution_count": null,
   "outputs": [],
   "source": [
    "# Adding feature importances from 3 RGB values to one pixel\n",
    "feature_imp_sum = np.empty([(int(len(classifier_RF_tuned_no_PCA.feature_importances_)/3)),])\n",
    "\n",
    "for itr in range(int(len(classifier_RF_tuned_no_PCA.feature_importances_)/3)):\n",
    "    r = int(itr*3)\n",
    "    g = int(r+1)\n",
    "    b = int(g+1)\n",
    "    feature_imp_sum[itr] = classifier_RF_tuned_no_PCA.feature_importances_[r] + classifier_RF_tuned_no_PCA.feature_importances_[g] + classifier_RF_tuned_no_PCA.feature_importances_[b]\n"
   ],
   "metadata": {
    "collapsed": false,
    "pycharm": {
     "name": "#%%\n"
    }
   }
  },
  {
   "cell_type": "code",
   "execution_count": null,
   "outputs": [],
   "source": [
    "# Plotting feature importance sum for every pixel to a plot and save it\n",
    "plot_digit(feature_imp_sum)\n",
    "\n",
    "cbar = plt.colorbar(ticks=[feature_imp_sum.min(), feature_imp_sum.max()])\n",
    "cbar.ax.set_yticklabels(['Not important', 'Very important'])"
   ],
   "metadata": {
    "collapsed": false,
    "pycharm": {
     "name": "#%%\n"
    }
   }
  },
  {
   "cell_type": "code",
   "execution_count": null,
   "outputs": [],
   "source": [
    "save_fig(\"RandomForest_feature_importance_plot_full_data\")\n",
    "\n"
   ],
   "metadata": {
    "collapsed": false,
    "pycharm": {
     "name": "#%%\n"
    }
   }
  },
  {
   "cell_type": "markdown",
   "source": [
    "## Implementing XGBoost as second advanced model"
   ],
   "metadata": {
    "collapsed": false
   }
  },
  {
   "cell_type": "code",
   "execution_count": null,
   "outputs": [],
   "source": [
    "import xgboost as xgb\n",
    "\n",
    "classifier_XGB = xgb.XGBClassifier(objective=\"binary:logistic\", random_state=42, eval_metric=\"auc\")\n",
    "classifier_XGB.fit(img_data_train, labels_train, early_stopping_rounds=5, eval_set=[(img_data_val, labels_val)])\n"
   ],
   "metadata": {
    "collapsed": false,
    "pycharm": {
     "name": "#%%\n"
    }
   }
  },
  {
   "cell_type": "markdown",
   "source": [
    "## Evaluating XGBoost Classifier"
   ],
   "metadata": {
    "collapsed": false
   }
  },
  {
   "cell_type": "code",
   "execution_count": null,
   "outputs": [],
   "source": [
    "# store predictions of classifier\n",
    "pred_train = classifier_XGB.predict(img_data_train)\n",
    "pred_val = classifier_XGB.predict(img_data_val)"
   ],
   "metadata": {
    "collapsed": false,
    "pycharm": {
     "name": "#%%\n"
    }
   }
  },
  {
   "cell_type": "code",
   "execution_count": null,
   "outputs": [],
   "source": [
    "# evaluate classifier and store metrics\n",
    "evaluation_scores = {\"Precision Score Train\": precision_score(labels_train, pred_train, average = \"macro\").round(3),\n",
    "                     \"Precision Score Validation\": precision_score(labels_val, pred_val, average = \"macro\").round(3),\n",
    "                     \"Recall Score Train\": recall_score(labels_train, pred_train, average = \"macro\").round(3),\n",
    "                     \"Recall Score Validation\": recall_score(labels_val, pred_val, average = \"macro\").round(3),\n",
    "                     \"F1 Score Train\": f1_score(labels_train, pred_train, average=\"macro\").round(3),\n",
    "                     \"F1 Score Validation\": f1_score(labels_val, pred_val, average=\"macro\").round(3)}"
   ],
   "metadata": {
    "collapsed": false,
    "pycharm": {
     "name": "#%%\n"
    }
   }
  },
  {
   "cell_type": "code",
   "execution_count": null,
   "outputs": [],
   "source": [
    "store_eval_score(evaluation_scores, \"XGBoost\")"
   ],
   "metadata": {
    "collapsed": false,
    "pycharm": {
     "name": "#%%\n"
    }
   }
  },
  {
   "cell_type": "code",
   "execution_count": null,
   "outputs": [],
   "source": [
    "# Inspecting the errors\n",
    "output_dict = {}\n",
    "output_array = np.c_[pic_ids_val, labels_val, pred_val] ## adjust name of pic_ids and labels depending on train or val\n",
    "\n",
    "# Create error array with specific error\n",
    "err_type_arr = np.array([])\n",
    "for i in range(len(output_array)):\n",
    "    if output_array[i,1] != output_array[i,2]:\n",
    "        err_type_arr = np.append(err_type_arr, \"error\")\n",
    "    else:\n",
    "        err_type_arr = np.append(err_type_arr, \"No error\")\n",
    "\n",
    "error_table_pd = pd.DataFrame(output_array)\n",
    "error_table_pd.rename(columns = {0:'Picture ID', 1:\"Label\", 2:\"Predicted\"}, inplace = True)\n",
    "error_table_pd[\"Error Check\"] = err_type_arr\n",
    "\n",
    "# print filtered error table\n",
    "print(error_table_pd.loc[error_table_pd[\"Error Check\"].isin([\"error\"])].sort_values(by=[\"Label\", \"Picture ID\"]))"
   ],
   "metadata": {
    "collapsed": false,
    "pycharm": {
     "name": "#%%\n"
    }
   }
  },
  {
   "cell_type": "code",
   "execution_count": null,
   "outputs": [],
   "source": [
    "# transform pd frame into dictionary for saving\n",
    "output_dict[\"error_table\"] = error_table_pd\n",
    "\n",
    "# saving the error table\n",
    "store_error_table(output_dict, \"XGBoost\")\n"
   ],
   "metadata": {
    "collapsed": false,
    "pycharm": {
     "name": "#%%\n"
    }
   }
  },
  {
   "cell_type": "markdown",
   "source": [
    "## Hyperparamter Tuning XGBoost Classifier"
   ],
   "metadata": {
    "collapsed": false
   }
  },
  {
   "cell_type": "code",
   "execution_count": null,
   "outputs": [],
   "source": [
    "from scipy.stats import uniform"
   ],
   "metadata": {
    "collapsed": false,
    "pycharm": {
     "name": "#%%\n"
    }
   }
  },
  {
   "cell_type": "code",
   "execution_count": null,
   "outputs": [],
   "source": [
    "# Selecting Parameters of XGBoost Classifier for Grid Search\n",
    "\n",
    "params_grid_XGB = [{\n",
    "    \"colsample_bytree\": uniform(0.7, 0.3),\n",
    "    \"gamma\": uniform(0, 0.5),\n",
    "    \"learning_rate\": uniform(0.03, 0.3), # default 0.1\n",
    "    \"max_depth\": [15, 20 25],\n",
    "    \"n_estimators\": [400, 700, 1000],\n",
    "    \"subsample\": uniform(0.6, 0.4)}\n",
    "]\n"
   ],
   "metadata": {
    "collapsed": false,
    "pycharm": {
     "name": "#%%\n"
    }
   }
  },
  {
   "cell_type": "code",
   "execution_count": null,
   "outputs": [],
   "source": [
    "classifier_XGB_hyper = xgb.XGBClassifier()"
   ],
   "metadata": {
    "collapsed": false,
    "pycharm": {
     "name": "#%%\n"
    }
   }
  },
  {
   "cell_type": "code",
   "execution_count": null,
   "outputs": [],
   "source": [
    "# Perform Grid-Search\n",
    "\n",
    "scoring = [\"f1_macro\", \"precision_macro\", \"recall_macro\"]\n",
    "\n",
    "grid_search = GridSearchCV(estimator = classifier_XGB_hyper,\n",
    "                           param_grid = params_grid_XGB,\n",
    "                           cv = 3,\n",
    "                           scoring= scoring,\n",
    "                           refit = \"precision\",\n",
    "                           n_jobs = -1,\n",
    "                           verbose = 3,\n",
    "                           return_train_score = True)\n",
    "\n",
    "grid_search.fit(img_data_train, labels_train)"
   ],
   "metadata": {
    "collapsed": false,
    "pycharm": {
     "name": "#%%\n"
    }
   }
  },
  {
   "cell_type": "code",
   "execution_count": null,
   "outputs": [],
   "source": [
    "print(grid_search.best_params_)\n",
    "best_hyppar_dict = {}\n",
    "best_hyppar_dict[\"Grid_Search_Best_Params\"] = grid_search.best_params_\n"
   ],
   "metadata": {
    "collapsed": false,
    "pycharm": {
     "name": "#%%\n"
    }
   }
  },
  {
   "cell_type": "code",
   "execution_count": null,
   "outputs": [],
   "source": [
    "best_params_dict = best_hyppar_dict\n",
    "store_best_hyperpar(best_params_dict, \"XGBoostTuned\")"
   ],
   "metadata": {
    "collapsed": false,
    "pycharm": {
     "name": "#%%\n"
    }
   }
  },
  {
   "cell_type": "markdown",
   "source": [
    "## Evaluate tuned XGBoost classifier"
   ],
   "metadata": {
    "collapsed": false
   }
  },
  {
   "cell_type": "code",
   "execution_count": null,
   "outputs": [],
   "source": [
    "## define the tuned classifier with the best hyperparamters\n",
    "## these here are still random ones\n",
    "\n",
    "classifier_XGB_tuned = xgb.XGBClassifier(colsample_bytree=0.7, gamma=0.5, learning_rate=0.3,max_depth=25, subsample=0.5,n_estimators=700)\n",
    "\n",
    "classifier_XGB_tuned.fit(img_data_train,labels_train)"
   ],
   "metadata": {
    "collapsed": false,
    "pycharm": {
     "name": "#%%\n"
    }
   }
  },
  {
   "cell_type": "code",
   "execution_count": null,
   "outputs": [],
   "source": [
    "# store predictions of classifier\n",
    "pred_train = classifier_XGB_tuned.predict(img_data_train)\n",
    "pred_val = classifier_XGB_tuned.predict(img_data_val)\n",
    "\n",
    "# evaluate classifier and store metrics\n",
    "evaluation_scores = {\"Precision Score Train\": precision_score(labels_train, pred_train, average = \"macro\").round(3),\n",
    "                     \"Precision Score Validation\": precision_score(labels_val, pred_val, average = \"macro\").round(3),\n",
    "                     \"Recall Score Train\": recall_score(labels_train, pred_train, average = \"macro\").round(3),\n",
    "                     \"Recall Score Validation\": recall_score(labels_val, pred_val, average = \"macro\").round(3),\n",
    "                     \"F1 Score Train\": f1_score(labels_train, pred_train, average=\"macro\").round(3),\n",
    "                     \"F1 Score Validation\": f1_score(labels_val, pred_val, average=\"macro\").round(3)}\n"
   ],
   "metadata": {
    "collapsed": false,
    "pycharm": {
     "name": "#%%\n"
    }
   }
  },
  {
   "cell_type": "code",
   "execution_count": null,
   "outputs": [],
   "source": [
    "store_eval_score(evaluation_scores, \"XGBoost_tuned\")"
   ],
   "metadata": {
    "collapsed": false,
    "pycharm": {
     "name": "#%%\n"
    }
   }
  },
  {
   "cell_type": "code",
   "execution_count": null,
   "outputs": [],
   "source": [
    "## Multiclass Confusion Matrix\n",
    "\n",
    "\n"
   ],
   "metadata": {
    "collapsed": false,
    "pycharm": {
     "name": "#%%\n"
    }
   }
  },
  {
   "cell_type": "markdown",
   "id": "c57067b2",
   "metadata": {},
   "source": [
    "## Speed improvements through dimensionality reduction"
   ]
  },
  {
   "cell_type": "markdown",
   "id": "a5b19a13",
   "metadata": {},
   "source": [
    "### Checking Feature importance of RF"
   ]
  },
  {
   "cell_type": "code",
   "execution_count": null,
   "id": "b1f572f2",
   "metadata": {},
   "outputs": [],
   "source": [
    "# Defining the function to plot the digits of feature importance\n",
    "# Adapted from Aurelien Geron:\n",
    "\n",
    "pix_res = 48\n",
    "\n",
    "def plot_digit(data):\n",
    "    image = data.reshape(pix_res, pix_res)\n",
    "    plt.imshow(image, cmap = mpl.cm.hot,\n",
    "               interpolation=\"nearest\")\n",
    "    plt.axis(\"off\")"
   ]
  },
  {
   "cell_type": "code",
   "execution_count": null,
   "id": "5e24b001",
   "metadata": {},
   "outputs": [],
   "source": [
    "# Adding feature importances from 3 RGB values to one pixel\n",
    "feature_imp_sum = np.empty([(int(len(classifier_RF_tuned.feature_importances_)/3)),])\n",
    "\n",
    "for itr in range(int(len(classifier_RF_tuned.feature_importances_)/3)):\n",
    "    r = int(itr*3)\n",
    "    g = int(r+1)\n",
    "    b = int(g+1)\n",
    "    feature_imp_sum[itr] = classifier_RF_tuned.feature_importances_[r] + classifier_RF_tuned.feature_importances_[g] + classifier_RF_tuned.feature_importances_[b]\n"
   ]
  },
  {
   "cell_type": "code",
   "execution_count": null,
   "id": "a8ddb47d",
   "metadata": {},
   "outputs": [],
   "source": [
    "# Plotting feature importance sum for every pixel to a plot and save it\n",
    "plot_digit(feature_imp_sum)\n",
    "\n",
    "cbar = plt.colorbar(ticks=[feature_imp_sum.min(), feature_imp_sum.max()])\n",
    "cbar.ax.set_yticklabels(['Not important', 'Very important'])"
   ]
  },
  {
   "cell_type": "code",
   "execution_count": null,
   "id": "0144bfb5",
   "metadata": {},
   "outputs": [],
   "source": [
    "save_fig(\"RandomForest_feature_importance_plot_full_data\")"
   ]
  },
  {
   "cell_type": "markdown",
   "id": "47542f97",
   "metadata": {},
   "source": [
    "### Performing Principal Component Analysis on the training data"
   ]
  },
  {
   "cell_type": "code",
   "execution_count": null,
   "id": "3bc6735c",
   "metadata": {},
   "outputs": [],
   "source": [
    "from sklearn.decomposition import PCA"
   ]
  },
  {
   "cell_type": "code",
   "execution_count": null,
   "id": "6b638d2a",
   "metadata": {},
   "outputs": [],
   "source": [
    "img_data_full.shape"
   ]
  },
  {
   "cell_type": "code",
   "execution_count": null,
   "id": "d1070ec9",
   "metadata": {},
   "outputs": [],
   "source": [
    "# defining to keep 99% of the variance of the data \n",
    "pca = PCA(.99)\n",
    "img_data_full_red = pca.fit_transform(img_data_full)"
   ]
  },
  {
   "cell_type": "code",
   "execution_count": null,
   "id": "7987268c",
   "metadata": {},
   "outputs": [],
   "source": [
    "# checking how many features are left \n",
    "img_data_full_red.shape"
   ]
  },
  {
   "cell_type": "code",
   "execution_count": null,
   "outputs": [],
   "source": [
    "# Split into training and test set - 10.000 test set / 40.000 full training set\n",
    "# stratify = labels splits it proportionally to classes in the dataset\n",
    "\n",
    "from sklearn.model_selection import train_test_split\n",
    "img_data_train_full, img_data_test, labels_train_full, labels_test, pic_ids_train_full, pic_ids_test = train_test_split(img_data_full_red , labels_full, pic_ids_full, stratify=labels_full, test_size=0.2, random_state=42)"
   ],
   "metadata": {
    "collapsed": false,
    "pycharm": {
     "name": "#%%\n"
    }
   }
  },
  {
   "cell_type": "code",
   "execution_count": null,
   "outputs": [],
   "source": [
    "# Split into training and validation set - 30.000 training set / 10.000 validation set\n",
    "from sklearn.model_selection import train_test_split\n",
    "img_data_train, img_data_val, labels_train, labels_val, pic_ids_train, pic_ids_val = train_test_split(img_data_train_full , labels_train_full, pic_ids_train_full, train_size=30000, random_state=42)"
   ],
   "metadata": {
    "collapsed": false,
    "pycharm": {
     "name": "#%%\n"
    }
   }
  },
  {
   "cell_type": "markdown",
   "id": "58846e25",
   "metadata": {},
   "source": [
    "### Evaluate speed tuned RF classifier"
   ]
  },
  {
   "cell_type": "code",
   "execution_count": null,
   "id": "969724ae",
   "metadata": {},
   "outputs": [],
   "source": [
    "# Victor: muss man dann hier nochmal das ganze training (direkt mit den gefundenen hyperparametern) und \n",
    "# evaluation nochmal machen? Schon oder?\n",
    "# und dann besteht die Gefahr, dass die Hyperparameter nicht mehr ideal sind und man die dann nochmal\n",
    "# fine tunen muss (so wars bei Thilo) aber falls die predictions nicht zu schlecht sind können wir auch argumentieren\n",
    "# dass wir das aufgrund von run-time and scope limitations of our project nicht mehr machen"
   ]
  },
  {
   "cell_type": "code",
   "execution_count": null,
   "outputs": [],
   "source": [
    "## define the tuned classifier with the best hyperparamters\n",
    "## these here are still random ones\n",
    "\n",
    "num_trees = 10 # change to actual value\n",
    "\n",
    "classifier_RF_tuned_PCA = RandomForestClassifier(class_weight='balanced',\n",
    "                                      criterion='gini',\n",
    "                                      max_depth=55,\n",
    "                                      max_features='log2',\n",
    "                                      min_samples_leaf=0.005,\n",
    "                                      min_samples_split=0.005,\n",
    "                                      n_estimators=num_trees)\n",
    "\n",
    "classifier_RF_tuned_PCA.fit(img_data_train,labels_train)"
   ],
   "metadata": {
    "collapsed": false,
    "pycharm": {
     "name": "#%%\n"
    }
   }
  },
  {
   "cell_type": "code",
   "execution_count": null,
   "outputs": [],
   "source": [
    "# store predictions of classifier\n",
    "pred_train = classifier_RF_tuned_PCA.predict(img_data_train)\n",
    "pred_val = classifier_RF_tuned_PCA.predict(img_data_val)\n",
    "\n",
    "# evaluate classifier and store metrics\n",
    "evaluation_scores = {\"Precision Score Train\": precision_score(labels_train, pred_train, average = \"macro\").round(3),\n",
    "                     \"Precision Score Validation\": precision_score(labels_val, pred_val, average = \"macro\").round(3),\n",
    "                     \"Recall Score Train\": recall_score(labels_train, pred_train, average = \"macro\").round(3),\n",
    "                     \"Recall Score Validation\": recall_score(labels_val, pred_val, average = \"macro\").round(3),\n",
    "                     \"F1 Score Train\": f1_score(labels_train, pred_train, average=\"macro\").round(3),\n",
    "                     \"F1 Score Validation\": f1_score(labels_val, pred_val, average=\"macro\").round(3)}\n"
   ],
   "metadata": {
    "collapsed": false,
    "pycharm": {
     "name": "#%%\n"
    }
   }
  },
  {
   "cell_type": "code",
   "execution_count": null,
   "outputs": [],
   "source": [
    "store_eval_score(evaluation_scores, \"RandomForest_tuned_PCA\")"
   ],
   "metadata": {
    "collapsed": false,
    "pycharm": {
     "name": "#%%\n"
    }
   }
  },
  {
   "cell_type": "markdown",
   "source": [
    "### Evaluate speed tuned XGB classifier"
   ],
   "metadata": {
    "collapsed": false,
    "pycharm": {
     "name": "#%% md\n"
    }
   }
  },
  {
   "cell_type": "code",
   "execution_count": null,
   "outputs": [],
   "source": [
    "## define the tuned classifier with the best hyperparamters\n",
    "## these here are still random ones\n",
    "\n",
    "classifier_XGB_tuned_PCA = xgb.XGBClassifier(colsample_bytree=0.7, gamma=0.5, learning_rate=0.3,max_depth=25, subsample=0.5,n_estimators=700)\n",
    "\n",
    "classifier_XGB_tuned_PCA.fit(img_data_train,labels_train)"
   ],
   "metadata": {
    "collapsed": false,
    "pycharm": {
     "name": "#%%\n"
    }
   }
  },
  {
   "cell_type": "code",
   "execution_count": null,
   "outputs": [],
   "source": [
    "# store predictions of classifier\n",
    "pred_train = classifier_XGB_tuned_PCA.predict(img_data_train)\n",
    "pred_val = classifier_XGB_tuned_PCA.predict(img_data_val)\n",
    "\n",
    "# evaluate classifier and store metrics\n",
    "evaluation_scores = {\"Precision Score Train\": precision_score(labels_train, pred_train, average = \"macro\").round(3),\n",
    "                     \"Precision Score Validation\": precision_score(labels_val, pred_val, average = \"macro\").round(3),\n",
    "                     \"Recall Score Train\": recall_score(labels_train, pred_train, average = \"macro\").round(3),\n",
    "                     \"Recall Score Validation\": recall_score(labels_val, pred_val, average = \"macro\").round(3),\n",
    "                     \"F1 Score Train\": f1_score(labels_train, pred_train, average=\"macro\").round(3),\n",
    "                     \"F1 Score Validation\": f1_score(labels_val, pred_val, average=\"macro\").round(3)}\n"
   ],
   "metadata": {
    "collapsed": false,
    "pycharm": {
     "name": "#%%\n"
    }
   }
  },
  {
   "cell_type": "code",
   "execution_count": null,
   "outputs": [],
   "source": [
    "store_eval_score(evaluation_scores, \"XGBoost_tuned_PCA\")\n"
   ],
   "metadata": {
    "collapsed": false,
    "pycharm": {
     "name": "#%%\n"
    }
   }
  },
  {
   "cell_type": "code",
   "execution_count": null,
   "id": "5d44a0c1",
   "metadata": {},
   "outputs": [],
   "source": []
  },
  {
   "cell_type": "markdown",
   "id": "56314899",
   "metadata": {},
   "source": [
    "## Final Evaluation on Test Set"
   ]
  },
  {
   "cell_type": "code",
   "execution_count": null,
   "id": "a94bcf14",
   "metadata": {},
   "outputs": [],
   "source": [
    "## test baseline and untuned RF on test set"
   ]
  },
  {
   "cell_type": "code",
   "execution_count": null,
   "id": "67d07d1c",
   "metadata": {},
   "outputs": [],
   "source": [
    "## test tuned RF on test set"
   ]
  }
 ],
 "metadata": {
  "kernelspec": {
   "name": "python3",
   "language": "python",
   "display_name": "Python 3 (ipykernel)"
  },
  "language_info": {
   "codemirror_mode": {
    "name": "ipython",
    "version": 3
   },
   "file_extension": ".py",
   "mimetype": "text/x-python",
   "name": "python",
   "nbconvert_exporter": "python",
   "pygments_lexer": "ipython3",
   "version": "3.6.9"
  }
 },
 "nbformat": 4,
 "nbformat_minor": 5
}